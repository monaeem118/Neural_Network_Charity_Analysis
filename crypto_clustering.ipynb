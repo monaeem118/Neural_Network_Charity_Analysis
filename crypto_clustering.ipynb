{
 "cells": [
  {
   "cell_type": "markdown",
   "metadata": {},
   "source": [
    "# Clustering Crypto"
   ]
  },
  {
   "cell_type": "code",
   "execution_count": 451,
   "metadata": {},
   "outputs": [],
   "source": [
    "# Initial imports\n",
    "import pandas as pd\n",
    "import hvplot.pandas\n",
    "from path import Path\n",
    "import plotly.express as px\n",
    "from sklearn.preprocessing import StandardScaler, MinMaxScaler\n",
    "from sklearn.decomposition import PCA\n",
    "from sklearn.cluster import KMeans\n"
   ]
  },
  {
   "cell_type": "markdown",
   "metadata": {},
   "source": [
    "### Deliverable 1: Preprocessing the Data for PCA"
   ]
  },
  {
   "cell_type": "code",
   "execution_count": 452,
   "metadata": {},
   "outputs": [
    {
     "data": {
      "text/html": [
       "<div>\n",
       "<style scoped>\n",
       "    .dataframe tbody tr th:only-of-type {\n",
       "        vertical-align: middle;\n",
       "    }\n",
       "\n",
       "    .dataframe tbody tr th {\n",
       "        vertical-align: top;\n",
       "    }\n",
       "\n",
       "    .dataframe thead th {\n",
       "        text-align: right;\n",
       "    }\n",
       "</style>\n",
       "<table border=\"1\" class=\"dataframe\">\n",
       "  <thead>\n",
       "    <tr style=\"text-align: right;\">\n",
       "      <th></th>\n",
       "      <th>CoinName</th>\n",
       "      <th>Algorithm</th>\n",
       "      <th>IsTrading</th>\n",
       "      <th>ProofType</th>\n",
       "      <th>TotalCoinsMined</th>\n",
       "      <th>TotalCoinSupply</th>\n",
       "    </tr>\n",
       "    <tr>\n",
       "      <th>Unnamed: 0</th>\n",
       "      <th></th>\n",
       "      <th></th>\n",
       "      <th></th>\n",
       "      <th></th>\n",
       "      <th></th>\n",
       "      <th></th>\n",
       "    </tr>\n",
       "  </thead>\n",
       "  <tbody>\n",
       "    <tr>\n",
       "      <th>42</th>\n",
       "      <td>42 Coin</td>\n",
       "      <td>Scrypt</td>\n",
       "      <td>True</td>\n",
       "      <td>PoW/PoS</td>\n",
       "      <td>4.199995e+01</td>\n",
       "      <td>42</td>\n",
       "    </tr>\n",
       "    <tr>\n",
       "      <th>365</th>\n",
       "      <td>365Coin</td>\n",
       "      <td>X11</td>\n",
       "      <td>True</td>\n",
       "      <td>PoW/PoS</td>\n",
       "      <td>NaN</td>\n",
       "      <td>2300000000</td>\n",
       "    </tr>\n",
       "    <tr>\n",
       "      <th>404</th>\n",
       "      <td>404Coin</td>\n",
       "      <td>Scrypt</td>\n",
       "      <td>True</td>\n",
       "      <td>PoW/PoS</td>\n",
       "      <td>1.055185e+09</td>\n",
       "      <td>532000000</td>\n",
       "    </tr>\n",
       "    <tr>\n",
       "      <th>611</th>\n",
       "      <td>SixEleven</td>\n",
       "      <td>SHA-256</td>\n",
       "      <td>True</td>\n",
       "      <td>PoW</td>\n",
       "      <td>NaN</td>\n",
       "      <td>611000</td>\n",
       "    </tr>\n",
       "    <tr>\n",
       "      <th>808</th>\n",
       "      <td>808</td>\n",
       "      <td>SHA-256</td>\n",
       "      <td>True</td>\n",
       "      <td>PoW/PoS</td>\n",
       "      <td>0.000000e+00</td>\n",
       "      <td>0</td>\n",
       "    </tr>\n",
       "    <tr>\n",
       "      <th>1337</th>\n",
       "      <td>EliteCoin</td>\n",
       "      <td>X13</td>\n",
       "      <td>True</td>\n",
       "      <td>PoW/PoS</td>\n",
       "      <td>2.927942e+10</td>\n",
       "      <td>314159265359</td>\n",
       "    </tr>\n",
       "    <tr>\n",
       "      <th>2015</th>\n",
       "      <td>2015 coin</td>\n",
       "      <td>X11</td>\n",
       "      <td>True</td>\n",
       "      <td>PoW/PoS</td>\n",
       "      <td>NaN</td>\n",
       "      <td>0</td>\n",
       "    </tr>\n",
       "    <tr>\n",
       "      <th>BTC</th>\n",
       "      <td>Bitcoin</td>\n",
       "      <td>SHA-256</td>\n",
       "      <td>True</td>\n",
       "      <td>PoW</td>\n",
       "      <td>1.792718e+07</td>\n",
       "      <td>21000000</td>\n",
       "    </tr>\n",
       "    <tr>\n",
       "      <th>ETH</th>\n",
       "      <td>Ethereum</td>\n",
       "      <td>Ethash</td>\n",
       "      <td>True</td>\n",
       "      <td>PoW</td>\n",
       "      <td>1.076842e+08</td>\n",
       "      <td>0</td>\n",
       "    </tr>\n",
       "    <tr>\n",
       "      <th>LTC</th>\n",
       "      <td>Litecoin</td>\n",
       "      <td>Scrypt</td>\n",
       "      <td>True</td>\n",
       "      <td>PoW</td>\n",
       "      <td>6.303924e+07</td>\n",
       "      <td>84000000</td>\n",
       "    </tr>\n",
       "  </tbody>\n",
       "</table>\n",
       "</div>"
      ],
      "text/plain": [
       "             CoinName Algorithm  IsTrading ProofType  TotalCoinsMined  \\\n",
       "Unnamed: 0                                                              \n",
       "42            42 Coin    Scrypt       True   PoW/PoS     4.199995e+01   \n",
       "365           365Coin       X11       True   PoW/PoS              NaN   \n",
       "404           404Coin    Scrypt       True   PoW/PoS     1.055185e+09   \n",
       "611         SixEleven   SHA-256       True       PoW              NaN   \n",
       "808               808   SHA-256       True   PoW/PoS     0.000000e+00   \n",
       "1337        EliteCoin       X13       True   PoW/PoS     2.927942e+10   \n",
       "2015        2015 coin       X11       True   PoW/PoS              NaN   \n",
       "BTC           Bitcoin   SHA-256       True       PoW     1.792718e+07   \n",
       "ETH          Ethereum    Ethash       True       PoW     1.076842e+08   \n",
       "LTC          Litecoin    Scrypt       True       PoW     6.303924e+07   \n",
       "\n",
       "           TotalCoinSupply  \n",
       "Unnamed: 0                  \n",
       "42                      42  \n",
       "365             2300000000  \n",
       "404              532000000  \n",
       "611                 611000  \n",
       "808                      0  \n",
       "1337          314159265359  \n",
       "2015                     0  \n",
       "BTC               21000000  \n",
       "ETH                      0  \n",
       "LTC               84000000  "
      ]
     },
     "execution_count": 452,
     "metadata": {},
     "output_type": "execute_result"
    }
   ],
   "source": [
    "# Load the crypto_data.csv dataset.\n",
    "# YOUR CODE HERE\n",
    "df = pd.read_csv('Resources/crypto_data.csv',index_col=False)\n",
    "df = df.set_index('Unnamed: 0')\n",
    "df.head(10)"
   ]
  },
  {
   "cell_type": "code",
   "execution_count": 453,
   "metadata": {},
   "outputs": [
    {
     "data": {
      "text/html": [
       "<div>\n",
       "<style scoped>\n",
       "    .dataframe tbody tr th:only-of-type {\n",
       "        vertical-align: middle;\n",
       "    }\n",
       "\n",
       "    .dataframe tbody tr th {\n",
       "        vertical-align: top;\n",
       "    }\n",
       "\n",
       "    .dataframe thead th {\n",
       "        text-align: right;\n",
       "    }\n",
       "</style>\n",
       "<table border=\"1\" class=\"dataframe\">\n",
       "  <thead>\n",
       "    <tr style=\"text-align: right;\">\n",
       "      <th></th>\n",
       "      <th>CoinName</th>\n",
       "      <th>Algorithm</th>\n",
       "      <th>IsTrading</th>\n",
       "      <th>ProofType</th>\n",
       "      <th>TotalCoinsMined</th>\n",
       "      <th>TotalCoinSupply</th>\n",
       "    </tr>\n",
       "    <tr>\n",
       "      <th></th>\n",
       "      <th></th>\n",
       "      <th></th>\n",
       "      <th></th>\n",
       "      <th></th>\n",
       "      <th></th>\n",
       "      <th></th>\n",
       "    </tr>\n",
       "  </thead>\n",
       "  <tbody>\n",
       "    <tr>\n",
       "      <th>42</th>\n",
       "      <td>42 Coin</td>\n",
       "      <td>Scrypt</td>\n",
       "      <td>True</td>\n",
       "      <td>PoW/PoS</td>\n",
       "      <td>4.199995e+01</td>\n",
       "      <td>42</td>\n",
       "    </tr>\n",
       "    <tr>\n",
       "      <th>365</th>\n",
       "      <td>365Coin</td>\n",
       "      <td>X11</td>\n",
       "      <td>True</td>\n",
       "      <td>PoW/PoS</td>\n",
       "      <td>NaN</td>\n",
       "      <td>2300000000</td>\n",
       "    </tr>\n",
       "    <tr>\n",
       "      <th>404</th>\n",
       "      <td>404Coin</td>\n",
       "      <td>Scrypt</td>\n",
       "      <td>True</td>\n",
       "      <td>PoW/PoS</td>\n",
       "      <td>1.055185e+09</td>\n",
       "      <td>532000000</td>\n",
       "    </tr>\n",
       "    <tr>\n",
       "      <th>611</th>\n",
       "      <td>SixEleven</td>\n",
       "      <td>SHA-256</td>\n",
       "      <td>True</td>\n",
       "      <td>PoW</td>\n",
       "      <td>NaN</td>\n",
       "      <td>611000</td>\n",
       "    </tr>\n",
       "    <tr>\n",
       "      <th>808</th>\n",
       "      <td>808</td>\n",
       "      <td>SHA-256</td>\n",
       "      <td>True</td>\n",
       "      <td>PoW/PoS</td>\n",
       "      <td>0.000000e+00</td>\n",
       "      <td>0</td>\n",
       "    </tr>\n",
       "    <tr>\n",
       "      <th>...</th>\n",
       "      <td>...</td>\n",
       "      <td>...</td>\n",
       "      <td>...</td>\n",
       "      <td>...</td>\n",
       "      <td>...</td>\n",
       "      <td>...</td>\n",
       "    </tr>\n",
       "    <tr>\n",
       "      <th>SERO</th>\n",
       "      <td>Super Zero</td>\n",
       "      <td>Ethash</td>\n",
       "      <td>True</td>\n",
       "      <td>PoW</td>\n",
       "      <td>NaN</td>\n",
       "      <td>1000000000</td>\n",
       "    </tr>\n",
       "    <tr>\n",
       "      <th>UOS</th>\n",
       "      <td>UOS</td>\n",
       "      <td>SHA-256</td>\n",
       "      <td>True</td>\n",
       "      <td>DPoI</td>\n",
       "      <td>NaN</td>\n",
       "      <td>1000000000</td>\n",
       "    </tr>\n",
       "    <tr>\n",
       "      <th>BDX</th>\n",
       "      <td>Beldex</td>\n",
       "      <td>CryptoNight</td>\n",
       "      <td>True</td>\n",
       "      <td>PoW</td>\n",
       "      <td>9.802226e+08</td>\n",
       "      <td>1400222610</td>\n",
       "    </tr>\n",
       "    <tr>\n",
       "      <th>ZEN</th>\n",
       "      <td>Horizen</td>\n",
       "      <td>Equihash</td>\n",
       "      <td>True</td>\n",
       "      <td>PoW</td>\n",
       "      <td>7.296538e+06</td>\n",
       "      <td>21000000</td>\n",
       "    </tr>\n",
       "    <tr>\n",
       "      <th>XBC</th>\n",
       "      <td>BitcoinPlus</td>\n",
       "      <td>Scrypt</td>\n",
       "      <td>True</td>\n",
       "      <td>PoS</td>\n",
       "      <td>1.283270e+05</td>\n",
       "      <td>1000000</td>\n",
       "    </tr>\n",
       "  </tbody>\n",
       "</table>\n",
       "<p>1144 rows × 6 columns</p>\n",
       "</div>"
      ],
      "text/plain": [
       "         CoinName    Algorithm  IsTrading ProofType  TotalCoinsMined  \\\n",
       "                                                                       \n",
       "42        42 Coin       Scrypt       True   PoW/PoS     4.199995e+01   \n",
       "365       365Coin          X11       True   PoW/PoS              NaN   \n",
       "404       404Coin       Scrypt       True   PoW/PoS     1.055185e+09   \n",
       "611     SixEleven      SHA-256       True       PoW              NaN   \n",
       "808           808      SHA-256       True   PoW/PoS     0.000000e+00   \n",
       "...           ...          ...        ...       ...              ...   \n",
       "SERO   Super Zero       Ethash       True       PoW              NaN   \n",
       "UOS           UOS      SHA-256       True      DPoI              NaN   \n",
       "BDX        Beldex  CryptoNight       True       PoW     9.802226e+08   \n",
       "ZEN       Horizen     Equihash       True       PoW     7.296538e+06   \n",
       "XBC   BitcoinPlus       Scrypt       True       PoS     1.283270e+05   \n",
       "\n",
       "     TotalCoinSupply  \n",
       "                      \n",
       "42                42  \n",
       "365       2300000000  \n",
       "404        532000000  \n",
       "611           611000  \n",
       "808                0  \n",
       "...              ...  \n",
       "SERO      1000000000  \n",
       "UOS       1000000000  \n",
       "BDX       1400222610  \n",
       "ZEN         21000000  \n",
       "XBC          1000000  \n",
       "\n",
       "[1144 rows x 6 columns]"
      ]
     },
     "execution_count": 453,
     "metadata": {},
     "output_type": "execute_result"
    }
   ],
   "source": [
    "# Keep all the cryptocurrencies that are being traded.\n",
    "# YOUR CODE HERE\n",
    "# df = df[['Unnamed: 0', 'CoinName', 'Algorithm', 'IsTrading', 'ProofType', 'TotalCoinsMined', 'TotalCoinSupply']\n",
    "df = df[(df['IsTrading']==1)]\n",
    "df.index.name=''\n",
    "df"
   ]
  },
  {
   "cell_type": "code",
   "execution_count": 454,
   "metadata": {},
   "outputs": [
    {
     "data": {
      "text/html": [
       "<div>\n",
       "<style scoped>\n",
       "    .dataframe tbody tr th:only-of-type {\n",
       "        vertical-align: middle;\n",
       "    }\n",
       "\n",
       "    .dataframe tbody tr th {\n",
       "        vertical-align: top;\n",
       "    }\n",
       "\n",
       "    .dataframe thead th {\n",
       "        text-align: right;\n",
       "    }\n",
       "</style>\n",
       "<table border=\"1\" class=\"dataframe\">\n",
       "  <thead>\n",
       "    <tr style=\"text-align: right;\">\n",
       "      <th></th>\n",
       "      <th>CoinName</th>\n",
       "      <th>Algorithm</th>\n",
       "      <th>IsTrading</th>\n",
       "      <th>ProofType</th>\n",
       "      <th>TotalCoinsMined</th>\n",
       "      <th>TotalCoinSupply</th>\n",
       "    </tr>\n",
       "    <tr>\n",
       "      <th></th>\n",
       "      <th></th>\n",
       "      <th></th>\n",
       "      <th></th>\n",
       "      <th></th>\n",
       "      <th></th>\n",
       "      <th></th>\n",
       "    </tr>\n",
       "  </thead>\n",
       "  <tbody>\n",
       "    <tr>\n",
       "      <th>42</th>\n",
       "      <td>42 Coin</td>\n",
       "      <td>Scrypt</td>\n",
       "      <td>True</td>\n",
       "      <td>PoW/PoS</td>\n",
       "      <td>4.199995e+01</td>\n",
       "      <td>42</td>\n",
       "    </tr>\n",
       "    <tr>\n",
       "      <th>365</th>\n",
       "      <td>365Coin</td>\n",
       "      <td>X11</td>\n",
       "      <td>True</td>\n",
       "      <td>PoW/PoS</td>\n",
       "      <td>NaN</td>\n",
       "      <td>2300000000</td>\n",
       "    </tr>\n",
       "    <tr>\n",
       "      <th>404</th>\n",
       "      <td>404Coin</td>\n",
       "      <td>Scrypt</td>\n",
       "      <td>True</td>\n",
       "      <td>PoW/PoS</td>\n",
       "      <td>1.055185e+09</td>\n",
       "      <td>532000000</td>\n",
       "    </tr>\n",
       "    <tr>\n",
       "      <th>611</th>\n",
       "      <td>SixEleven</td>\n",
       "      <td>SHA-256</td>\n",
       "      <td>True</td>\n",
       "      <td>PoW</td>\n",
       "      <td>NaN</td>\n",
       "      <td>611000</td>\n",
       "    </tr>\n",
       "    <tr>\n",
       "      <th>808</th>\n",
       "      <td>808</td>\n",
       "      <td>SHA-256</td>\n",
       "      <td>True</td>\n",
       "      <td>PoW/PoS</td>\n",
       "      <td>0.000000e+00</td>\n",
       "      <td>0</td>\n",
       "    </tr>\n",
       "    <tr>\n",
       "      <th>...</th>\n",
       "      <td>...</td>\n",
       "      <td>...</td>\n",
       "      <td>...</td>\n",
       "      <td>...</td>\n",
       "      <td>...</td>\n",
       "      <td>...</td>\n",
       "    </tr>\n",
       "    <tr>\n",
       "      <th>SERO</th>\n",
       "      <td>Super Zero</td>\n",
       "      <td>Ethash</td>\n",
       "      <td>True</td>\n",
       "      <td>PoW</td>\n",
       "      <td>NaN</td>\n",
       "      <td>1000000000</td>\n",
       "    </tr>\n",
       "    <tr>\n",
       "      <th>UOS</th>\n",
       "      <td>UOS</td>\n",
       "      <td>SHA-256</td>\n",
       "      <td>True</td>\n",
       "      <td>DPoI</td>\n",
       "      <td>NaN</td>\n",
       "      <td>1000000000</td>\n",
       "    </tr>\n",
       "    <tr>\n",
       "      <th>BDX</th>\n",
       "      <td>Beldex</td>\n",
       "      <td>CryptoNight</td>\n",
       "      <td>True</td>\n",
       "      <td>PoW</td>\n",
       "      <td>9.802226e+08</td>\n",
       "      <td>1400222610</td>\n",
       "    </tr>\n",
       "    <tr>\n",
       "      <th>ZEN</th>\n",
       "      <td>Horizen</td>\n",
       "      <td>Equihash</td>\n",
       "      <td>True</td>\n",
       "      <td>PoW</td>\n",
       "      <td>7.296538e+06</td>\n",
       "      <td>21000000</td>\n",
       "    </tr>\n",
       "    <tr>\n",
       "      <th>XBC</th>\n",
       "      <td>BitcoinPlus</td>\n",
       "      <td>Scrypt</td>\n",
       "      <td>True</td>\n",
       "      <td>PoS</td>\n",
       "      <td>1.283270e+05</td>\n",
       "      <td>1000000</td>\n",
       "    </tr>\n",
       "  </tbody>\n",
       "</table>\n",
       "<p>1144 rows × 6 columns</p>\n",
       "</div>"
      ],
      "text/plain": [
       "         CoinName    Algorithm  IsTrading ProofType  TotalCoinsMined  \\\n",
       "                                                                       \n",
       "42        42 Coin       Scrypt       True   PoW/PoS     4.199995e+01   \n",
       "365       365Coin          X11       True   PoW/PoS              NaN   \n",
       "404       404Coin       Scrypt       True   PoW/PoS     1.055185e+09   \n",
       "611     SixEleven      SHA-256       True       PoW              NaN   \n",
       "808           808      SHA-256       True   PoW/PoS     0.000000e+00   \n",
       "...           ...          ...        ...       ...              ...   \n",
       "SERO   Super Zero       Ethash       True       PoW              NaN   \n",
       "UOS           UOS      SHA-256       True      DPoI              NaN   \n",
       "BDX        Beldex  CryptoNight       True       PoW     9.802226e+08   \n",
       "ZEN       Horizen     Equihash       True       PoW     7.296538e+06   \n",
       "XBC   BitcoinPlus       Scrypt       True       PoS     1.283270e+05   \n",
       "\n",
       "     TotalCoinSupply  \n",
       "                      \n",
       "42                42  \n",
       "365       2300000000  \n",
       "404        532000000  \n",
       "611           611000  \n",
       "808                0  \n",
       "...              ...  \n",
       "SERO      1000000000  \n",
       "UOS       1000000000  \n",
       "BDX       1400222610  \n",
       "ZEN         21000000  \n",
       "XBC          1000000  \n",
       "\n",
       "[1144 rows x 6 columns]"
      ]
     },
     "execution_count": 454,
     "metadata": {},
     "output_type": "execute_result"
    }
   ],
   "source": [
    "# Keep all the cryptocurrencies that have a working algorithm.\n",
    "# YOUR CODE HERE\n",
    "df[(df['Algorithm'] != 'N/A')]\n",
    "df"
   ]
  },
  {
   "cell_type": "code",
   "execution_count": 455,
   "metadata": {},
   "outputs": [
    {
     "data": {
      "text/html": [
       "<div>\n",
       "<style scoped>\n",
       "    .dataframe tbody tr th:only-of-type {\n",
       "        vertical-align: middle;\n",
       "    }\n",
       "\n",
       "    .dataframe tbody tr th {\n",
       "        vertical-align: top;\n",
       "    }\n",
       "\n",
       "    .dataframe thead th {\n",
       "        text-align: right;\n",
       "    }\n",
       "</style>\n",
       "<table border=\"1\" class=\"dataframe\">\n",
       "  <thead>\n",
       "    <tr style=\"text-align: right;\">\n",
       "      <th></th>\n",
       "      <th>CoinName</th>\n",
       "      <th>Algorithm</th>\n",
       "      <th>ProofType</th>\n",
       "      <th>TotalCoinsMined</th>\n",
       "      <th>TotalCoinSupply</th>\n",
       "    </tr>\n",
       "    <tr>\n",
       "      <th></th>\n",
       "      <th></th>\n",
       "      <th></th>\n",
       "      <th></th>\n",
       "      <th></th>\n",
       "      <th></th>\n",
       "    </tr>\n",
       "  </thead>\n",
       "  <tbody>\n",
       "    <tr>\n",
       "      <th>42</th>\n",
       "      <td>42 Coin</td>\n",
       "      <td>Scrypt</td>\n",
       "      <td>PoW/PoS</td>\n",
       "      <td>4.199995e+01</td>\n",
       "      <td>42</td>\n",
       "    </tr>\n",
       "    <tr>\n",
       "      <th>365</th>\n",
       "      <td>365Coin</td>\n",
       "      <td>X11</td>\n",
       "      <td>PoW/PoS</td>\n",
       "      <td>NaN</td>\n",
       "      <td>2300000000</td>\n",
       "    </tr>\n",
       "    <tr>\n",
       "      <th>404</th>\n",
       "      <td>404Coin</td>\n",
       "      <td>Scrypt</td>\n",
       "      <td>PoW/PoS</td>\n",
       "      <td>1.055185e+09</td>\n",
       "      <td>532000000</td>\n",
       "    </tr>\n",
       "    <tr>\n",
       "      <th>611</th>\n",
       "      <td>SixEleven</td>\n",
       "      <td>SHA-256</td>\n",
       "      <td>PoW</td>\n",
       "      <td>NaN</td>\n",
       "      <td>611000</td>\n",
       "    </tr>\n",
       "    <tr>\n",
       "      <th>808</th>\n",
       "      <td>808</td>\n",
       "      <td>SHA-256</td>\n",
       "      <td>PoW/PoS</td>\n",
       "      <td>0.000000e+00</td>\n",
       "      <td>0</td>\n",
       "    </tr>\n",
       "    <tr>\n",
       "      <th>...</th>\n",
       "      <td>...</td>\n",
       "      <td>...</td>\n",
       "      <td>...</td>\n",
       "      <td>...</td>\n",
       "      <td>...</td>\n",
       "    </tr>\n",
       "    <tr>\n",
       "      <th>SERO</th>\n",
       "      <td>Super Zero</td>\n",
       "      <td>Ethash</td>\n",
       "      <td>PoW</td>\n",
       "      <td>NaN</td>\n",
       "      <td>1000000000</td>\n",
       "    </tr>\n",
       "    <tr>\n",
       "      <th>UOS</th>\n",
       "      <td>UOS</td>\n",
       "      <td>SHA-256</td>\n",
       "      <td>DPoI</td>\n",
       "      <td>NaN</td>\n",
       "      <td>1000000000</td>\n",
       "    </tr>\n",
       "    <tr>\n",
       "      <th>BDX</th>\n",
       "      <td>Beldex</td>\n",
       "      <td>CryptoNight</td>\n",
       "      <td>PoW</td>\n",
       "      <td>9.802226e+08</td>\n",
       "      <td>1400222610</td>\n",
       "    </tr>\n",
       "    <tr>\n",
       "      <th>ZEN</th>\n",
       "      <td>Horizen</td>\n",
       "      <td>Equihash</td>\n",
       "      <td>PoW</td>\n",
       "      <td>7.296538e+06</td>\n",
       "      <td>21000000</td>\n",
       "    </tr>\n",
       "    <tr>\n",
       "      <th>XBC</th>\n",
       "      <td>BitcoinPlus</td>\n",
       "      <td>Scrypt</td>\n",
       "      <td>PoS</td>\n",
       "      <td>1.283270e+05</td>\n",
       "      <td>1000000</td>\n",
       "    </tr>\n",
       "  </tbody>\n",
       "</table>\n",
       "<p>1144 rows × 5 columns</p>\n",
       "</div>"
      ],
      "text/plain": [
       "         CoinName    Algorithm ProofType  TotalCoinsMined TotalCoinSupply\n",
       "                                                                         \n",
       "42        42 Coin       Scrypt   PoW/PoS     4.199995e+01              42\n",
       "365       365Coin          X11   PoW/PoS              NaN      2300000000\n",
       "404       404Coin       Scrypt   PoW/PoS     1.055185e+09       532000000\n",
       "611     SixEleven      SHA-256       PoW              NaN          611000\n",
       "808           808      SHA-256   PoW/PoS     0.000000e+00               0\n",
       "...           ...          ...       ...              ...             ...\n",
       "SERO   Super Zero       Ethash       PoW              NaN      1000000000\n",
       "UOS           UOS      SHA-256      DPoI              NaN      1000000000\n",
       "BDX        Beldex  CryptoNight       PoW     9.802226e+08      1400222610\n",
       "ZEN       Horizen     Equihash       PoW     7.296538e+06        21000000\n",
       "XBC   BitcoinPlus       Scrypt       PoS     1.283270e+05         1000000\n",
       "\n",
       "[1144 rows x 5 columns]"
      ]
     },
     "execution_count": 455,
     "metadata": {},
     "output_type": "execute_result"
    }
   ],
   "source": [
    "# Remove the \"IsTrading\" column. \n",
    "# YOUR CODE HERE\n",
    "df.drop(['IsTrading'], axis=1, inplace=True)\n",
    "df"
   ]
  },
  {
   "cell_type": "code",
   "execution_count": 456,
   "metadata": {},
   "outputs": [
    {
     "data": {
      "text/html": [
       "<div>\n",
       "<style scoped>\n",
       "    .dataframe tbody tr th:only-of-type {\n",
       "        vertical-align: middle;\n",
       "    }\n",
       "\n",
       "    .dataframe tbody tr th {\n",
       "        vertical-align: top;\n",
       "    }\n",
       "\n",
       "    .dataframe thead th {\n",
       "        text-align: right;\n",
       "    }\n",
       "</style>\n",
       "<table border=\"1\" class=\"dataframe\">\n",
       "  <thead>\n",
       "    <tr style=\"text-align: right;\">\n",
       "      <th></th>\n",
       "      <th>CoinName</th>\n",
       "      <th>Algorithm</th>\n",
       "      <th>ProofType</th>\n",
       "      <th>TotalCoinsMined</th>\n",
       "      <th>TotalCoinSupply</th>\n",
       "    </tr>\n",
       "    <tr>\n",
       "      <th></th>\n",
       "      <th></th>\n",
       "      <th></th>\n",
       "      <th></th>\n",
       "      <th></th>\n",
       "      <th></th>\n",
       "    </tr>\n",
       "  </thead>\n",
       "  <tbody>\n",
       "    <tr>\n",
       "      <th>42</th>\n",
       "      <td>42 Coin</td>\n",
       "      <td>Scrypt</td>\n",
       "      <td>PoW/PoS</td>\n",
       "      <td>4.199995e+01</td>\n",
       "      <td>42</td>\n",
       "    </tr>\n",
       "    <tr>\n",
       "      <th>404</th>\n",
       "      <td>404Coin</td>\n",
       "      <td>Scrypt</td>\n",
       "      <td>PoW/PoS</td>\n",
       "      <td>1.055185e+09</td>\n",
       "      <td>532000000</td>\n",
       "    </tr>\n",
       "    <tr>\n",
       "      <th>808</th>\n",
       "      <td>808</td>\n",
       "      <td>SHA-256</td>\n",
       "      <td>PoW/PoS</td>\n",
       "      <td>0.000000e+00</td>\n",
       "      <td>0</td>\n",
       "    </tr>\n",
       "    <tr>\n",
       "      <th>1337</th>\n",
       "      <td>EliteCoin</td>\n",
       "      <td>X13</td>\n",
       "      <td>PoW/PoS</td>\n",
       "      <td>2.927942e+10</td>\n",
       "      <td>314159265359</td>\n",
       "    </tr>\n",
       "    <tr>\n",
       "      <th>BTC</th>\n",
       "      <td>Bitcoin</td>\n",
       "      <td>SHA-256</td>\n",
       "      <td>PoW</td>\n",
       "      <td>1.792718e+07</td>\n",
       "      <td>21000000</td>\n",
       "    </tr>\n",
       "    <tr>\n",
       "      <th>ETH</th>\n",
       "      <td>Ethereum</td>\n",
       "      <td>Ethash</td>\n",
       "      <td>PoW</td>\n",
       "      <td>1.076842e+08</td>\n",
       "      <td>0</td>\n",
       "    </tr>\n",
       "    <tr>\n",
       "      <th>LTC</th>\n",
       "      <td>Litecoin</td>\n",
       "      <td>Scrypt</td>\n",
       "      <td>PoW</td>\n",
       "      <td>6.303924e+07</td>\n",
       "      <td>84000000</td>\n",
       "    </tr>\n",
       "    <tr>\n",
       "      <th>DASH</th>\n",
       "      <td>Dash</td>\n",
       "      <td>X11</td>\n",
       "      <td>PoW/PoS</td>\n",
       "      <td>9.031294e+06</td>\n",
       "      <td>22000000</td>\n",
       "    </tr>\n",
       "    <tr>\n",
       "      <th>XMR</th>\n",
       "      <td>Monero</td>\n",
       "      <td>CryptoNight-V7</td>\n",
       "      <td>PoW</td>\n",
       "      <td>1.720114e+07</td>\n",
       "      <td>0</td>\n",
       "    </tr>\n",
       "    <tr>\n",
       "      <th>ETC</th>\n",
       "      <td>Ethereum Classic</td>\n",
       "      <td>Ethash</td>\n",
       "      <td>PoW</td>\n",
       "      <td>1.133597e+08</td>\n",
       "      <td>210000000</td>\n",
       "    </tr>\n",
       "  </tbody>\n",
       "</table>\n",
       "</div>"
      ],
      "text/plain": [
       "              CoinName       Algorithm ProofType  TotalCoinsMined  \\\n",
       "                                                                    \n",
       "42             42 Coin          Scrypt   PoW/PoS     4.199995e+01   \n",
       "404            404Coin          Scrypt   PoW/PoS     1.055185e+09   \n",
       "808                808         SHA-256   PoW/PoS     0.000000e+00   \n",
       "1337         EliteCoin             X13   PoW/PoS     2.927942e+10   \n",
       "BTC            Bitcoin         SHA-256       PoW     1.792718e+07   \n",
       "ETH           Ethereum          Ethash       PoW     1.076842e+08   \n",
       "LTC           Litecoin          Scrypt       PoW     6.303924e+07   \n",
       "DASH              Dash             X11   PoW/PoS     9.031294e+06   \n",
       "XMR             Monero  CryptoNight-V7       PoW     1.720114e+07   \n",
       "ETC   Ethereum Classic          Ethash       PoW     1.133597e+08   \n",
       "\n",
       "     TotalCoinSupply  \n",
       "                      \n",
       "42                42  \n",
       "404        532000000  \n",
       "808                0  \n",
       "1337    314159265359  \n",
       "BTC         21000000  \n",
       "ETH                0  \n",
       "LTC         84000000  \n",
       "DASH        22000000  \n",
       "XMR                0  \n",
       "ETC        210000000  "
      ]
     },
     "execution_count": 456,
     "metadata": {},
     "output_type": "execute_result"
    }
   ],
   "source": [
    "# Remove rows that have at least 1 null value.\n",
    "# YOUR CODE HERE\n",
    "df = df.dropna()\n",
    "df.head(10)"
   ]
  },
  {
   "cell_type": "code",
   "execution_count": 457,
   "metadata": {},
   "outputs": [
    {
     "data": {
      "text/html": [
       "<div>\n",
       "<style scoped>\n",
       "    .dataframe tbody tr th:only-of-type {\n",
       "        vertical-align: middle;\n",
       "    }\n",
       "\n",
       "    .dataframe tbody tr th {\n",
       "        vertical-align: top;\n",
       "    }\n",
       "\n",
       "    .dataframe thead th {\n",
       "        text-align: right;\n",
       "    }\n",
       "</style>\n",
       "<table border=\"1\" class=\"dataframe\">\n",
       "  <thead>\n",
       "    <tr style=\"text-align: right;\">\n",
       "      <th></th>\n",
       "      <th>CoinName</th>\n",
       "      <th>Algorithm</th>\n",
       "      <th>ProofType</th>\n",
       "      <th>TotalCoinsMined</th>\n",
       "      <th>TotalCoinSupply</th>\n",
       "    </tr>\n",
       "    <tr>\n",
       "      <th></th>\n",
       "      <th></th>\n",
       "      <th></th>\n",
       "      <th></th>\n",
       "      <th></th>\n",
       "      <th></th>\n",
       "    </tr>\n",
       "  </thead>\n",
       "  <tbody>\n",
       "    <tr>\n",
       "      <th>42</th>\n",
       "      <td>42 Coin</td>\n",
       "      <td>Scrypt</td>\n",
       "      <td>PoW/PoS</td>\n",
       "      <td>4.199995e+01</td>\n",
       "      <td>42</td>\n",
       "    </tr>\n",
       "    <tr>\n",
       "      <th>404</th>\n",
       "      <td>404Coin</td>\n",
       "      <td>Scrypt</td>\n",
       "      <td>PoW/PoS</td>\n",
       "      <td>1.055185e+09</td>\n",
       "      <td>532000000</td>\n",
       "    </tr>\n",
       "    <tr>\n",
       "      <th>1337</th>\n",
       "      <td>EliteCoin</td>\n",
       "      <td>X13</td>\n",
       "      <td>PoW/PoS</td>\n",
       "      <td>2.927942e+10</td>\n",
       "      <td>314159265359</td>\n",
       "    </tr>\n",
       "    <tr>\n",
       "      <th>BTC</th>\n",
       "      <td>Bitcoin</td>\n",
       "      <td>SHA-256</td>\n",
       "      <td>PoW</td>\n",
       "      <td>1.792718e+07</td>\n",
       "      <td>21000000</td>\n",
       "    </tr>\n",
       "    <tr>\n",
       "      <th>ETH</th>\n",
       "      <td>Ethereum</td>\n",
       "      <td>Ethash</td>\n",
       "      <td>PoW</td>\n",
       "      <td>1.076842e+08</td>\n",
       "      <td>0</td>\n",
       "    </tr>\n",
       "    <tr>\n",
       "      <th>...</th>\n",
       "      <td>...</td>\n",
       "      <td>...</td>\n",
       "      <td>...</td>\n",
       "      <td>...</td>\n",
       "      <td>...</td>\n",
       "    </tr>\n",
       "    <tr>\n",
       "      <th>ZEPH</th>\n",
       "      <td>ZEPHYR</td>\n",
       "      <td>SHA-256</td>\n",
       "      <td>DPoS</td>\n",
       "      <td>2.000000e+09</td>\n",
       "      <td>2000000000</td>\n",
       "    </tr>\n",
       "    <tr>\n",
       "      <th>GAP</th>\n",
       "      <td>Gapcoin</td>\n",
       "      <td>Scrypt</td>\n",
       "      <td>PoW/PoS</td>\n",
       "      <td>1.493105e+07</td>\n",
       "      <td>250000000</td>\n",
       "    </tr>\n",
       "    <tr>\n",
       "      <th>BDX</th>\n",
       "      <td>Beldex</td>\n",
       "      <td>CryptoNight</td>\n",
       "      <td>PoW</td>\n",
       "      <td>9.802226e+08</td>\n",
       "      <td>1400222610</td>\n",
       "    </tr>\n",
       "    <tr>\n",
       "      <th>ZEN</th>\n",
       "      <td>Horizen</td>\n",
       "      <td>Equihash</td>\n",
       "      <td>PoW</td>\n",
       "      <td>7.296538e+06</td>\n",
       "      <td>21000000</td>\n",
       "    </tr>\n",
       "    <tr>\n",
       "      <th>XBC</th>\n",
       "      <td>BitcoinPlus</td>\n",
       "      <td>Scrypt</td>\n",
       "      <td>PoS</td>\n",
       "      <td>1.283270e+05</td>\n",
       "      <td>1000000</td>\n",
       "    </tr>\n",
       "  </tbody>\n",
       "</table>\n",
       "<p>532 rows × 5 columns</p>\n",
       "</div>"
      ],
      "text/plain": [
       "         CoinName    Algorithm ProofType  TotalCoinsMined TotalCoinSupply\n",
       "                                                                         \n",
       "42        42 Coin       Scrypt   PoW/PoS     4.199995e+01              42\n",
       "404       404Coin       Scrypt   PoW/PoS     1.055185e+09       532000000\n",
       "1337    EliteCoin          X13   PoW/PoS     2.927942e+10    314159265359\n",
       "BTC       Bitcoin      SHA-256       PoW     1.792718e+07        21000000\n",
       "ETH      Ethereum       Ethash       PoW     1.076842e+08               0\n",
       "...           ...          ...       ...              ...             ...\n",
       "ZEPH       ZEPHYR      SHA-256      DPoS     2.000000e+09      2000000000\n",
       "GAP       Gapcoin       Scrypt   PoW/PoS     1.493105e+07       250000000\n",
       "BDX        Beldex  CryptoNight       PoW     9.802226e+08      1400222610\n",
       "ZEN       Horizen     Equihash       PoW     7.296538e+06        21000000\n",
       "XBC   BitcoinPlus       Scrypt       PoS     1.283270e+05         1000000\n",
       "\n",
       "[532 rows x 5 columns]"
      ]
     },
     "execution_count": 457,
     "metadata": {},
     "output_type": "execute_result"
    }
   ],
   "source": [
    "# Keep the rows where coins are mined.\n",
    "# YOUR CODE HERE\n",
    "df = df[(df['TotalCoinsMined'] > 0)]\n",
    "df"
   ]
  },
  {
   "cell_type": "code",
   "execution_count": 458,
   "metadata": {},
   "outputs": [
    {
     "data": {
      "text/html": [
       "<div>\n",
       "<style scoped>\n",
       "    .dataframe tbody tr th:only-of-type {\n",
       "        vertical-align: middle;\n",
       "    }\n",
       "\n",
       "    .dataframe tbody tr th {\n",
       "        vertical-align: top;\n",
       "    }\n",
       "\n",
       "    .dataframe thead th {\n",
       "        text-align: right;\n",
       "    }\n",
       "</style>\n",
       "<table border=\"1\" class=\"dataframe\">\n",
       "  <thead>\n",
       "    <tr style=\"text-align: right;\">\n",
       "      <th></th>\n",
       "      <th>CoinName</th>\n",
       "    </tr>\n",
       "    <tr>\n",
       "      <th></th>\n",
       "      <th></th>\n",
       "    </tr>\n",
       "  </thead>\n",
       "  <tbody>\n",
       "    <tr>\n",
       "      <th>42</th>\n",
       "      <td>42 Coin</td>\n",
       "    </tr>\n",
       "    <tr>\n",
       "      <th>404</th>\n",
       "      <td>404Coin</td>\n",
       "    </tr>\n",
       "    <tr>\n",
       "      <th>1337</th>\n",
       "      <td>EliteCoin</td>\n",
       "    </tr>\n",
       "    <tr>\n",
       "      <th>BTC</th>\n",
       "      <td>Bitcoin</td>\n",
       "    </tr>\n",
       "    <tr>\n",
       "      <th>ETH</th>\n",
       "      <td>Ethereum</td>\n",
       "    </tr>\n",
       "  </tbody>\n",
       "</table>\n",
       "</div>"
      ],
      "text/plain": [
       "       CoinName\n",
       "               \n",
       "42      42 Coin\n",
       "404     404Coin\n",
       "1337  EliteCoin\n",
       "BTC     Bitcoin\n",
       "ETH    Ethereum"
      ]
     },
     "execution_count": 458,
     "metadata": {},
     "output_type": "execute_result"
    }
   ],
   "source": [
    "# Create a new DataFrame that holds only the cryptocurrencies names.\n",
    "# YOUR CODE HERE\n",
    "crypto_df = df[['CoinName']]\n",
    "crypto_df.head(5)"
   ]
  },
  {
   "cell_type": "code",
   "execution_count": 459,
   "metadata": {},
   "outputs": [
    {
     "data": {
      "text/html": [
       "<div>\n",
       "<style scoped>\n",
       "    .dataframe tbody tr th:only-of-type {\n",
       "        vertical-align: middle;\n",
       "    }\n",
       "\n",
       "    .dataframe tbody tr th {\n",
       "        vertical-align: top;\n",
       "    }\n",
       "\n",
       "    .dataframe thead th {\n",
       "        text-align: right;\n",
       "    }\n",
       "</style>\n",
       "<table border=\"1\" class=\"dataframe\">\n",
       "  <thead>\n",
       "    <tr style=\"text-align: right;\">\n",
       "      <th></th>\n",
       "      <th>Algorithm</th>\n",
       "      <th>ProofType</th>\n",
       "      <th>TotalCoinsMined</th>\n",
       "      <th>TotalCoinSupply</th>\n",
       "    </tr>\n",
       "    <tr>\n",
       "      <th></th>\n",
       "      <th></th>\n",
       "      <th></th>\n",
       "      <th></th>\n",
       "      <th></th>\n",
       "    </tr>\n",
       "  </thead>\n",
       "  <tbody>\n",
       "    <tr>\n",
       "      <th>42</th>\n",
       "      <td>Scrypt</td>\n",
       "      <td>PoW/PoS</td>\n",
       "      <td>4.199995e+01</td>\n",
       "      <td>42</td>\n",
       "    </tr>\n",
       "    <tr>\n",
       "      <th>404</th>\n",
       "      <td>Scrypt</td>\n",
       "      <td>PoW/PoS</td>\n",
       "      <td>1.055185e+09</td>\n",
       "      <td>532000000</td>\n",
       "    </tr>\n",
       "    <tr>\n",
       "      <th>1337</th>\n",
       "      <td>X13</td>\n",
       "      <td>PoW/PoS</td>\n",
       "      <td>2.927942e+10</td>\n",
       "      <td>314159265359</td>\n",
       "    </tr>\n",
       "    <tr>\n",
       "      <th>BTC</th>\n",
       "      <td>SHA-256</td>\n",
       "      <td>PoW</td>\n",
       "      <td>1.792718e+07</td>\n",
       "      <td>21000000</td>\n",
       "    </tr>\n",
       "    <tr>\n",
       "      <th>ETH</th>\n",
       "      <td>Ethash</td>\n",
       "      <td>PoW</td>\n",
       "      <td>1.076842e+08</td>\n",
       "      <td>0</td>\n",
       "    </tr>\n",
       "    <tr>\n",
       "      <th>...</th>\n",
       "      <td>...</td>\n",
       "      <td>...</td>\n",
       "      <td>...</td>\n",
       "      <td>...</td>\n",
       "    </tr>\n",
       "    <tr>\n",
       "      <th>ZEPH</th>\n",
       "      <td>SHA-256</td>\n",
       "      <td>DPoS</td>\n",
       "      <td>2.000000e+09</td>\n",
       "      <td>2000000000</td>\n",
       "    </tr>\n",
       "    <tr>\n",
       "      <th>GAP</th>\n",
       "      <td>Scrypt</td>\n",
       "      <td>PoW/PoS</td>\n",
       "      <td>1.493105e+07</td>\n",
       "      <td>250000000</td>\n",
       "    </tr>\n",
       "    <tr>\n",
       "      <th>BDX</th>\n",
       "      <td>CryptoNight</td>\n",
       "      <td>PoW</td>\n",
       "      <td>9.802226e+08</td>\n",
       "      <td>1400222610</td>\n",
       "    </tr>\n",
       "    <tr>\n",
       "      <th>ZEN</th>\n",
       "      <td>Equihash</td>\n",
       "      <td>PoW</td>\n",
       "      <td>7.296538e+06</td>\n",
       "      <td>21000000</td>\n",
       "    </tr>\n",
       "    <tr>\n",
       "      <th>XBC</th>\n",
       "      <td>Scrypt</td>\n",
       "      <td>PoS</td>\n",
       "      <td>1.283270e+05</td>\n",
       "      <td>1000000</td>\n",
       "    </tr>\n",
       "  </tbody>\n",
       "</table>\n",
       "<p>532 rows × 4 columns</p>\n",
       "</div>"
      ],
      "text/plain": [
       "        Algorithm ProofType  TotalCoinsMined TotalCoinSupply\n",
       "                                                            \n",
       "42         Scrypt   PoW/PoS     4.199995e+01              42\n",
       "404        Scrypt   PoW/PoS     1.055185e+09       532000000\n",
       "1337          X13   PoW/PoS     2.927942e+10    314159265359\n",
       "BTC       SHA-256       PoW     1.792718e+07        21000000\n",
       "ETH        Ethash       PoW     1.076842e+08               0\n",
       "...           ...       ...              ...             ...\n",
       "ZEPH      SHA-256      DPoS     2.000000e+09      2000000000\n",
       "GAP        Scrypt   PoW/PoS     1.493105e+07       250000000\n",
       "BDX   CryptoNight       PoW     9.802226e+08      1400222610\n",
       "ZEN      Equihash       PoW     7.296538e+06        21000000\n",
       "XBC        Scrypt       PoS     1.283270e+05         1000000\n",
       "\n",
       "[532 rows x 4 columns]"
      ]
     },
     "execution_count": 459,
     "metadata": {},
     "output_type": "execute_result"
    }
   ],
   "source": [
    "# Drop the 'CoinName' column since it's not going to be used on the clustering algorithm.\n",
    "# YOUR CODE HERE\n",
    "df.drop(['CoinName'], axis=1, inplace=True)\n",
    "df"
   ]
  },
  {
   "cell_type": "code",
   "execution_count": 460,
   "metadata": {},
   "outputs": [
    {
     "data": {
      "text/html": [
       "<div>\n",
       "<style scoped>\n",
       "    .dataframe tbody tr th:only-of-type {\n",
       "        vertical-align: middle;\n",
       "    }\n",
       "\n",
       "    .dataframe tbody tr th {\n",
       "        vertical-align: top;\n",
       "    }\n",
       "\n",
       "    .dataframe thead th {\n",
       "        text-align: right;\n",
       "    }\n",
       "</style>\n",
       "<table border=\"1\" class=\"dataframe\">\n",
       "  <thead>\n",
       "    <tr style=\"text-align: right;\">\n",
       "      <th></th>\n",
       "      <th>TotalCoinsMined</th>\n",
       "      <th>TotalCoinSupply</th>\n",
       "      <th>Algorithm_1GB AES Pattern Search</th>\n",
       "      <th>Algorithm_536</th>\n",
       "      <th>Algorithm_Argon2d</th>\n",
       "      <th>Algorithm_BLAKE256</th>\n",
       "      <th>Algorithm_Blake</th>\n",
       "      <th>Algorithm_Blake2S</th>\n",
       "      <th>Algorithm_Blake2b</th>\n",
       "      <th>Algorithm_C11</th>\n",
       "      <th>...</th>\n",
       "      <th>ProofType_PoW/PoS</th>\n",
       "      <th>ProofType_PoW/PoS</th>\n",
       "      <th>ProofType_PoW/PoW</th>\n",
       "      <th>ProofType_PoW/nPoS</th>\n",
       "      <th>ProofType_Pos</th>\n",
       "      <th>ProofType_Proof of Authority</th>\n",
       "      <th>ProofType_Proof of Trust</th>\n",
       "      <th>ProofType_TPoS</th>\n",
       "      <th>ProofType_Zero-Knowledge Proof</th>\n",
       "      <th>ProofType_dPoW/PoW</th>\n",
       "    </tr>\n",
       "    <tr>\n",
       "      <th></th>\n",
       "      <th></th>\n",
       "      <th></th>\n",
       "      <th></th>\n",
       "      <th></th>\n",
       "      <th></th>\n",
       "      <th></th>\n",
       "      <th></th>\n",
       "      <th></th>\n",
       "      <th></th>\n",
       "      <th></th>\n",
       "      <th></th>\n",
       "      <th></th>\n",
       "      <th></th>\n",
       "      <th></th>\n",
       "      <th></th>\n",
       "      <th></th>\n",
       "      <th></th>\n",
       "      <th></th>\n",
       "      <th></th>\n",
       "      <th></th>\n",
       "      <th></th>\n",
       "    </tr>\n",
       "  </thead>\n",
       "  <tbody>\n",
       "    <tr>\n",
       "      <th>42</th>\n",
       "      <td>4.199995e+01</td>\n",
       "      <td>42</td>\n",
       "      <td>0</td>\n",
       "      <td>0</td>\n",
       "      <td>0</td>\n",
       "      <td>0</td>\n",
       "      <td>0</td>\n",
       "      <td>0</td>\n",
       "      <td>0</td>\n",
       "      <td>0</td>\n",
       "      <td>...</td>\n",
       "      <td>1</td>\n",
       "      <td>0</td>\n",
       "      <td>0</td>\n",
       "      <td>0</td>\n",
       "      <td>0</td>\n",
       "      <td>0</td>\n",
       "      <td>0</td>\n",
       "      <td>0</td>\n",
       "      <td>0</td>\n",
       "      <td>0</td>\n",
       "    </tr>\n",
       "    <tr>\n",
       "      <th>404</th>\n",
       "      <td>1.055185e+09</td>\n",
       "      <td>532000000</td>\n",
       "      <td>0</td>\n",
       "      <td>0</td>\n",
       "      <td>0</td>\n",
       "      <td>0</td>\n",
       "      <td>0</td>\n",
       "      <td>0</td>\n",
       "      <td>0</td>\n",
       "      <td>0</td>\n",
       "      <td>...</td>\n",
       "      <td>1</td>\n",
       "      <td>0</td>\n",
       "      <td>0</td>\n",
       "      <td>0</td>\n",
       "      <td>0</td>\n",
       "      <td>0</td>\n",
       "      <td>0</td>\n",
       "      <td>0</td>\n",
       "      <td>0</td>\n",
       "      <td>0</td>\n",
       "    </tr>\n",
       "    <tr>\n",
       "      <th>1337</th>\n",
       "      <td>2.927942e+10</td>\n",
       "      <td>314159265359</td>\n",
       "      <td>0</td>\n",
       "      <td>0</td>\n",
       "      <td>0</td>\n",
       "      <td>0</td>\n",
       "      <td>0</td>\n",
       "      <td>0</td>\n",
       "      <td>0</td>\n",
       "      <td>0</td>\n",
       "      <td>...</td>\n",
       "      <td>1</td>\n",
       "      <td>0</td>\n",
       "      <td>0</td>\n",
       "      <td>0</td>\n",
       "      <td>0</td>\n",
       "      <td>0</td>\n",
       "      <td>0</td>\n",
       "      <td>0</td>\n",
       "      <td>0</td>\n",
       "      <td>0</td>\n",
       "    </tr>\n",
       "    <tr>\n",
       "      <th>BTC</th>\n",
       "      <td>1.792718e+07</td>\n",
       "      <td>21000000</td>\n",
       "      <td>0</td>\n",
       "      <td>0</td>\n",
       "      <td>0</td>\n",
       "      <td>0</td>\n",
       "      <td>0</td>\n",
       "      <td>0</td>\n",
       "      <td>0</td>\n",
       "      <td>0</td>\n",
       "      <td>...</td>\n",
       "      <td>0</td>\n",
       "      <td>0</td>\n",
       "      <td>0</td>\n",
       "      <td>0</td>\n",
       "      <td>0</td>\n",
       "      <td>0</td>\n",
       "      <td>0</td>\n",
       "      <td>0</td>\n",
       "      <td>0</td>\n",
       "      <td>0</td>\n",
       "    </tr>\n",
       "    <tr>\n",
       "      <th>ETH</th>\n",
       "      <td>1.076842e+08</td>\n",
       "      <td>0</td>\n",
       "      <td>0</td>\n",
       "      <td>0</td>\n",
       "      <td>0</td>\n",
       "      <td>0</td>\n",
       "      <td>0</td>\n",
       "      <td>0</td>\n",
       "      <td>0</td>\n",
       "      <td>0</td>\n",
       "      <td>...</td>\n",
       "      <td>0</td>\n",
       "      <td>0</td>\n",
       "      <td>0</td>\n",
       "      <td>0</td>\n",
       "      <td>0</td>\n",
       "      <td>0</td>\n",
       "      <td>0</td>\n",
       "      <td>0</td>\n",
       "      <td>0</td>\n",
       "      <td>0</td>\n",
       "    </tr>\n",
       "    <tr>\n",
       "      <th>LTC</th>\n",
       "      <td>6.303924e+07</td>\n",
       "      <td>84000000</td>\n",
       "      <td>0</td>\n",
       "      <td>0</td>\n",
       "      <td>0</td>\n",
       "      <td>0</td>\n",
       "      <td>0</td>\n",
       "      <td>0</td>\n",
       "      <td>0</td>\n",
       "      <td>0</td>\n",
       "      <td>...</td>\n",
       "      <td>0</td>\n",
       "      <td>0</td>\n",
       "      <td>0</td>\n",
       "      <td>0</td>\n",
       "      <td>0</td>\n",
       "      <td>0</td>\n",
       "      <td>0</td>\n",
       "      <td>0</td>\n",
       "      <td>0</td>\n",
       "      <td>0</td>\n",
       "    </tr>\n",
       "    <tr>\n",
       "      <th>DASH</th>\n",
       "      <td>9.031294e+06</td>\n",
       "      <td>22000000</td>\n",
       "      <td>0</td>\n",
       "      <td>0</td>\n",
       "      <td>0</td>\n",
       "      <td>0</td>\n",
       "      <td>0</td>\n",
       "      <td>0</td>\n",
       "      <td>0</td>\n",
       "      <td>0</td>\n",
       "      <td>...</td>\n",
       "      <td>1</td>\n",
       "      <td>0</td>\n",
       "      <td>0</td>\n",
       "      <td>0</td>\n",
       "      <td>0</td>\n",
       "      <td>0</td>\n",
       "      <td>0</td>\n",
       "      <td>0</td>\n",
       "      <td>0</td>\n",
       "      <td>0</td>\n",
       "    </tr>\n",
       "    <tr>\n",
       "      <th>XMR</th>\n",
       "      <td>1.720114e+07</td>\n",
       "      <td>0</td>\n",
       "      <td>0</td>\n",
       "      <td>0</td>\n",
       "      <td>0</td>\n",
       "      <td>0</td>\n",
       "      <td>0</td>\n",
       "      <td>0</td>\n",
       "      <td>0</td>\n",
       "      <td>0</td>\n",
       "      <td>...</td>\n",
       "      <td>0</td>\n",
       "      <td>0</td>\n",
       "      <td>0</td>\n",
       "      <td>0</td>\n",
       "      <td>0</td>\n",
       "      <td>0</td>\n",
       "      <td>0</td>\n",
       "      <td>0</td>\n",
       "      <td>0</td>\n",
       "      <td>0</td>\n",
       "    </tr>\n",
       "    <tr>\n",
       "      <th>ETC</th>\n",
       "      <td>1.133597e+08</td>\n",
       "      <td>210000000</td>\n",
       "      <td>0</td>\n",
       "      <td>0</td>\n",
       "      <td>0</td>\n",
       "      <td>0</td>\n",
       "      <td>0</td>\n",
       "      <td>0</td>\n",
       "      <td>0</td>\n",
       "      <td>0</td>\n",
       "      <td>...</td>\n",
       "      <td>0</td>\n",
       "      <td>0</td>\n",
       "      <td>0</td>\n",
       "      <td>0</td>\n",
       "      <td>0</td>\n",
       "      <td>0</td>\n",
       "      <td>0</td>\n",
       "      <td>0</td>\n",
       "      <td>0</td>\n",
       "      <td>0</td>\n",
       "    </tr>\n",
       "    <tr>\n",
       "      <th>ZEC</th>\n",
       "      <td>7.383056e+06</td>\n",
       "      <td>21000000</td>\n",
       "      <td>0</td>\n",
       "      <td>0</td>\n",
       "      <td>0</td>\n",
       "      <td>0</td>\n",
       "      <td>0</td>\n",
       "      <td>0</td>\n",
       "      <td>0</td>\n",
       "      <td>0</td>\n",
       "      <td>...</td>\n",
       "      <td>0</td>\n",
       "      <td>0</td>\n",
       "      <td>0</td>\n",
       "      <td>0</td>\n",
       "      <td>0</td>\n",
       "      <td>0</td>\n",
       "      <td>0</td>\n",
       "      <td>0</td>\n",
       "      <td>0</td>\n",
       "      <td>0</td>\n",
       "    </tr>\n",
       "  </tbody>\n",
       "</table>\n",
       "<p>10 rows × 98 columns</p>\n",
       "</div>"
      ],
      "text/plain": [
       "      TotalCoinsMined TotalCoinSupply  Algorithm_1GB AES Pattern Search  \\\n",
       "                                                                          \n",
       "42       4.199995e+01              42                                 0   \n",
       "404      1.055185e+09       532000000                                 0   \n",
       "1337     2.927942e+10    314159265359                                 0   \n",
       "BTC      1.792718e+07        21000000                                 0   \n",
       "ETH      1.076842e+08               0                                 0   \n",
       "LTC      6.303924e+07        84000000                                 0   \n",
       "DASH     9.031294e+06        22000000                                 0   \n",
       "XMR      1.720114e+07               0                                 0   \n",
       "ETC      1.133597e+08       210000000                                 0   \n",
       "ZEC      7.383056e+06        21000000                                 0   \n",
       "\n",
       "      Algorithm_536  Algorithm_Argon2d  Algorithm_BLAKE256  Algorithm_Blake  \\\n",
       "                                                                              \n",
       "42                0                  0                   0                0   \n",
       "404               0                  0                   0                0   \n",
       "1337              0                  0                   0                0   \n",
       "BTC               0                  0                   0                0   \n",
       "ETH               0                  0                   0                0   \n",
       "LTC               0                  0                   0                0   \n",
       "DASH              0                  0                   0                0   \n",
       "XMR               0                  0                   0                0   \n",
       "ETC               0                  0                   0                0   \n",
       "ZEC               0                  0                   0                0   \n",
       "\n",
       "      Algorithm_Blake2S  Algorithm_Blake2b  Algorithm_C11  ...  \\\n",
       "                                                           ...   \n",
       "42                    0                  0              0  ...   \n",
       "404                   0                  0              0  ...   \n",
       "1337                  0                  0              0  ...   \n",
       "BTC                   0                  0              0  ...   \n",
       "ETH                   0                  0              0  ...   \n",
       "LTC                   0                  0              0  ...   \n",
       "DASH                  0                  0              0  ...   \n",
       "XMR                   0                  0              0  ...   \n",
       "ETC                   0                  0              0  ...   \n",
       "ZEC                   0                  0              0  ...   \n",
       "\n",
       "      ProofType_PoW/PoS  ProofType_PoW/PoS   ProofType_PoW/PoW  \\\n",
       "                                                                 \n",
       "42                    1                   0                  0   \n",
       "404                   1                   0                  0   \n",
       "1337                  1                   0                  0   \n",
       "BTC                   0                   0                  0   \n",
       "ETH                   0                   0                  0   \n",
       "LTC                   0                   0                  0   \n",
       "DASH                  1                   0                  0   \n",
       "XMR                   0                   0                  0   \n",
       "ETC                   0                   0                  0   \n",
       "ZEC                   0                   0                  0   \n",
       "\n",
       "      ProofType_PoW/nPoS  ProofType_Pos  ProofType_Proof of Authority  \\\n",
       "                                                                        \n",
       "42                     0              0                             0   \n",
       "404                    0              0                             0   \n",
       "1337                   0              0                             0   \n",
       "BTC                    0              0                             0   \n",
       "ETH                    0              0                             0   \n",
       "LTC                    0              0                             0   \n",
       "DASH                   0              0                             0   \n",
       "XMR                    0              0                             0   \n",
       "ETC                    0              0                             0   \n",
       "ZEC                    0              0                             0   \n",
       "\n",
       "      ProofType_Proof of Trust  ProofType_TPoS  \\\n",
       "                                                 \n",
       "42                           0               0   \n",
       "404                          0               0   \n",
       "1337                         0               0   \n",
       "BTC                          0               0   \n",
       "ETH                          0               0   \n",
       "LTC                          0               0   \n",
       "DASH                         0               0   \n",
       "XMR                          0               0   \n",
       "ETC                          0               0   \n",
       "ZEC                          0               0   \n",
       "\n",
       "      ProofType_Zero-Knowledge Proof  ProofType_dPoW/PoW  \n",
       "                                                          \n",
       "42                                 0                   0  \n",
       "404                                0                   0  \n",
       "1337                               0                   0  \n",
       "BTC                                0                   0  \n",
       "ETH                                0                   0  \n",
       "LTC                                0                   0  \n",
       "DASH                               0                   0  \n",
       "XMR                                0                   0  \n",
       "ETC                                0                   0  \n",
       "ZEC                                0                   0  \n",
       "\n",
       "[10 rows x 98 columns]"
      ]
     },
     "execution_count": 460,
     "metadata": {},
     "output_type": "execute_result"
    }
   ],
   "source": [
    "# Use get_dummies() to create variables for text features.\n",
    "# YOUR CODE HERE\n",
    "X = pd.get_dummies(df, columns=[\"Algorithm\", \"ProofType\"])\n",
    "X.head(10)"
   ]
  },
  {
   "cell_type": "code",
   "execution_count": 461,
   "metadata": {},
   "outputs": [
    {
     "data": {
      "text/plain": [
       "array([[-0.11710817, -0.1528703 , -0.0433963 , ..., -0.0433963 ,\n",
       "        -0.0433963 , -0.0433963 ],\n",
       "       [-0.09396955, -0.145009  , -0.0433963 , ..., -0.0433963 ,\n",
       "        -0.0433963 , -0.0433963 ],\n",
       "       [ 0.52494561,  4.48942416, -0.0433963 , ..., -0.0433963 ,\n",
       "        -0.0433963 , -0.0433963 ],\n",
       "       ...,\n",
       "       [-0.09561336, -0.13217937, -0.0433963 , ..., -0.0433963 ,\n",
       "        -0.0433963 , -0.0433963 ],\n",
       "       [-0.11694817, -0.15255998, -0.0433963 , ..., -0.0433963 ,\n",
       "        -0.0433963 , -0.0433963 ],\n",
       "       [-0.11710536, -0.15285552, -0.0433963 , ..., -0.0433963 ,\n",
       "        -0.0433963 , -0.0433963 ]])"
      ]
     },
     "execution_count": 461,
     "metadata": {},
     "output_type": "execute_result"
    }
   ],
   "source": [
    "# Standardize the data with StandardScaler().\n",
    "# YOUR CODE HERE\n",
    "X_scaled = StandardScaler().fit_transform(X)\n",
    "X_scaled"
   ]
  },
  {
   "cell_type": "markdown",
   "metadata": {},
   "source": [
    "### Deliverable 2: Reducing Data Dimensions Using PCA"
   ]
  },
  {
   "cell_type": "code",
   "execution_count": 462,
   "metadata": {},
   "outputs": [
    {
     "data": {
      "text/plain": [
       "array([[-0.33664709,  1.03658429, -0.57752786],\n",
       "       [-0.3199981 ,  1.03684256, -0.57789302],\n",
       "       [ 2.29130161,  1.72116354, -0.70598167],\n",
       "       ...,\n",
       "       [ 0.32413902, -2.31487448,  0.39657483],\n",
       "       [-0.13121564, -2.1108161 ,  0.43590613],\n",
       "       [-0.28361722,  0.81328263, -0.26321793]])"
      ]
     },
     "execution_count": 462,
     "metadata": {},
     "output_type": "execute_result"
    }
   ],
   "source": [
    "# Using PCA to reduce dimension to three principal components.\n",
    "# YOUR CODE HERE\n",
    "pca = PCA(n_components=3)\n",
    "X_pca = pca.fit_transform(X_scaled)\n",
    "X_pca"
   ]
  },
  {
   "cell_type": "code",
   "execution_count": 463,
   "metadata": {},
   "outputs": [
    {
     "data": {
      "text/html": [
       "<div>\n",
       "<style scoped>\n",
       "    .dataframe tbody tr th:only-of-type {\n",
       "        vertical-align: middle;\n",
       "    }\n",
       "\n",
       "    .dataframe tbody tr th {\n",
       "        vertical-align: top;\n",
       "    }\n",
       "\n",
       "    .dataframe thead th {\n",
       "        text-align: right;\n",
       "    }\n",
       "</style>\n",
       "<table border=\"1\" class=\"dataframe\">\n",
       "  <thead>\n",
       "    <tr style=\"text-align: right;\">\n",
       "      <th></th>\n",
       "      <th>PC1</th>\n",
       "      <th>PC2</th>\n",
       "      <th>PC3</th>\n",
       "    </tr>\n",
       "    <tr>\n",
       "      <th></th>\n",
       "      <th></th>\n",
       "      <th></th>\n",
       "      <th></th>\n",
       "    </tr>\n",
       "  </thead>\n",
       "  <tbody>\n",
       "    <tr>\n",
       "      <th>42</th>\n",
       "      <td>-0.336647</td>\n",
       "      <td>1.036584</td>\n",
       "      <td>-0.577528</td>\n",
       "    </tr>\n",
       "    <tr>\n",
       "      <th>404</th>\n",
       "      <td>-0.319998</td>\n",
       "      <td>1.036843</td>\n",
       "      <td>-0.577893</td>\n",
       "    </tr>\n",
       "    <tr>\n",
       "      <th>1337</th>\n",
       "      <td>2.291302</td>\n",
       "      <td>1.721164</td>\n",
       "      <td>-0.705982</td>\n",
       "    </tr>\n",
       "    <tr>\n",
       "      <th>BTC</th>\n",
       "      <td>-0.147201</td>\n",
       "      <td>-1.278671</td>\n",
       "      <td>0.176264</td>\n",
       "    </tr>\n",
       "    <tr>\n",
       "      <th>ETH</th>\n",
       "      <td>-0.156202</td>\n",
       "      <td>-2.013179</td>\n",
       "      <td>0.383610</td>\n",
       "    </tr>\n",
       "    <tr>\n",
       "      <th>...</th>\n",
       "      <td>...</td>\n",
       "      <td>...</td>\n",
       "      <td>...</td>\n",
       "    </tr>\n",
       "    <tr>\n",
       "      <th>ZEPH</th>\n",
       "      <td>2.480253</td>\n",
       "      <td>0.780357</td>\n",
       "      <td>0.035056</td>\n",
       "    </tr>\n",
       "    <tr>\n",
       "      <th>GAP</th>\n",
       "      <td>-0.334695</td>\n",
       "      <td>1.036483</td>\n",
       "      <td>-0.577555</td>\n",
       "    </tr>\n",
       "    <tr>\n",
       "      <th>BDX</th>\n",
       "      <td>0.324139</td>\n",
       "      <td>-2.314874</td>\n",
       "      <td>0.396575</td>\n",
       "    </tr>\n",
       "    <tr>\n",
       "      <th>ZEN</th>\n",
       "      <td>-0.131216</td>\n",
       "      <td>-2.110816</td>\n",
       "      <td>0.435906</td>\n",
       "    </tr>\n",
       "    <tr>\n",
       "      <th>XBC</th>\n",
       "      <td>-0.283617</td>\n",
       "      <td>0.813283</td>\n",
       "      <td>-0.263218</td>\n",
       "    </tr>\n",
       "  </tbody>\n",
       "</table>\n",
       "<p>532 rows × 3 columns</p>\n",
       "</div>"
      ],
      "text/plain": [
       "           PC1       PC2       PC3\n",
       "                                  \n",
       "42   -0.336647  1.036584 -0.577528\n",
       "404  -0.319998  1.036843 -0.577893\n",
       "1337  2.291302  1.721164 -0.705982\n",
       "BTC  -0.147201 -1.278671  0.176264\n",
       "ETH  -0.156202 -2.013179  0.383610\n",
       "...        ...       ...       ...\n",
       "ZEPH  2.480253  0.780357  0.035056\n",
       "GAP  -0.334695  1.036483 -0.577555\n",
       "BDX   0.324139 -2.314874  0.396575\n",
       "ZEN  -0.131216 -2.110816  0.435906\n",
       "XBC  -0.283617  0.813283 -0.263218\n",
       "\n",
       "[532 rows x 3 columns]"
      ]
     },
     "execution_count": 463,
     "metadata": {},
     "output_type": "execute_result"
    }
   ],
   "source": [
    "# Create a DataFrame with the three principal components.\n",
    "# YOUR CODE HERE\n",
    "pcs_df = pd.DataFrame(index=crypto_df.index,\n",
    "    data=X_pca, columns=[\"PC1\", \"PC2\", \"PC3\"]\n",
    ")\n",
    "pcs_df"
   ]
  },
  {
   "cell_type": "markdown",
   "metadata": {},
   "source": [
    "### Deliverable 3: Clustering Crytocurrencies Using K-Means\n",
    "\n",
    "#### Finding the Best Value for `k` Using the Elbow Curve"
   ]
  },
  {
   "cell_type": "code",
   "execution_count": 464,
   "metadata": {},
   "outputs": [
    {
     "data": {},
     "metadata": {},
     "output_type": "display_data"
    },
    {
     "data": {
      "application/vnd.holoviews_exec.v0+json": "",
      "text/html": [
       "<div id='1910'>\n",
       "\n",
       "\n",
       "\n",
       "\n",
       "\n",
       "  <div class=\"bk-root\" id=\"cba3a02f-508e-4b6d-9141-19d0fcf2af34\" data-root-id=\"1910\"></div>\n",
       "</div>\n",
       "<script type=\"application/javascript\">(function(root) {\n",
       "  function embed_document(root) {\n",
       "    var docs_json = {\"1f7fc79f-7840-445f-8517-65b61b982ae6\":{\"roots\":{\"references\":[{\"attributes\":{\"line_color\":\"#1f77b3\",\"line_width\":2,\"x\":{\"field\":\"k\"},\"y\":{\"field\":\"inertia\"}},\"id\":\"1948\",\"type\":\"Line\"},{\"attributes\":{},\"id\":\"1966\",\"type\":\"UnionRenderers\"},{\"attributes\":{},\"id\":\"1936\",\"type\":\"ResetTool\"},{\"attributes\":{},\"id\":\"1959\",\"type\":\"BasicTickFormatter\"},{\"attributes\":{\"axis\":{\"id\":\"1928\"},\"dimension\":1,\"grid_line_color\":null,\"ticker\":null},\"id\":\"1931\",\"type\":\"Grid\"},{\"attributes\":{\"axis_label\":\"k\",\"bounds\":\"auto\",\"formatter\":{\"id\":\"1955\"},\"major_label_orientation\":\"horizontal\",\"ticker\":{\"id\":\"1953\"}},\"id\":\"1924\",\"type\":\"LinearAxis\"},{\"attributes\":{\"axis\":{\"id\":\"1924\"},\"grid_line_color\":null,\"ticker\":null},\"id\":\"1927\",\"type\":\"Grid\"},{\"attributes\":{},\"id\":\"1929\",\"type\":\"BasicTicker\"},{\"attributes\":{},\"id\":\"1922\",\"type\":\"LinearScale\"},{\"attributes\":{\"axis_label\":\"inertia\",\"bounds\":\"auto\",\"formatter\":{\"id\":\"1959\"},\"major_label_orientation\":\"horizontal\",\"ticker\":{\"id\":\"1929\"}},\"id\":\"1928\",\"type\":\"LinearAxis\"},{\"attributes\":{\"children\":[{\"id\":\"1911\"},{\"id\":\"1915\"},{\"id\":\"1974\"}],\"margin\":[0,0,0,0],\"name\":\"Row03145\",\"tags\":[\"embedded\"]},\"id\":\"1910\",\"type\":\"Row\"},{\"attributes\":{\"bottom_units\":\"screen\",\"fill_alpha\":0.5,\"fill_color\":\"lightgrey\",\"left_units\":\"screen\",\"level\":\"overlay\",\"line_alpha\":1.0,\"line_color\":\"black\",\"line_dash\":[4,4],\"line_width\":2,\"right_units\":\"screen\",\"top_units\":\"screen\"},\"id\":\"1937\",\"type\":\"BoxAnnotation\"},{\"attributes\":{},\"id\":\"1946\",\"type\":\"Selection\"},{\"attributes\":{},\"id\":\"1920\",\"type\":\"LinearScale\"},{\"attributes\":{\"line_alpha\":0.2,\"line_color\":\"#1f77b3\",\"line_width\":2,\"x\":{\"field\":\"k\"},\"y\":{\"field\":\"inertia\"}},\"id\":\"1950\",\"type\":\"Line\"},{\"attributes\":{\"active_drag\":\"auto\",\"active_inspect\":\"auto\",\"active_multi\":null,\"active_scroll\":\"auto\",\"active_tap\":\"auto\",\"tools\":[{\"id\":\"1914\"},{\"id\":\"1932\"},{\"id\":\"1933\"},{\"id\":\"1934\"},{\"id\":\"1935\"},{\"id\":\"1936\"}]},\"id\":\"1938\",\"type\":\"Toolbar\"},{\"attributes\":{\"data_source\":{\"id\":\"1945\"},\"glyph\":{\"id\":\"1948\"},\"hover_glyph\":null,\"muted_glyph\":{\"id\":\"1950\"},\"nonselection_glyph\":{\"id\":\"1949\"},\"selection_glyph\":null,\"view\":{\"id\":\"1952\"}},\"id\":\"1951\",\"type\":\"GlyphRenderer\"},{\"attributes\":{\"below\":[{\"id\":\"1924\"}],\"center\":[{\"id\":\"1927\"},{\"id\":\"1931\"}],\"left\":[{\"id\":\"1928\"}],\"margin\":[5,5,5,5],\"min_border_bottom\":10,\"min_border_left\":10,\"min_border_right\":10,\"min_border_top\":10,\"plot_height\":300,\"plot_width\":700,\"renderers\":[{\"id\":\"1951\"}],\"sizing_mode\":\"fixed\",\"title\":{\"id\":\"1916\"},\"toolbar\":{\"id\":\"1938\"},\"x_range\":{\"id\":\"1912\"},\"x_scale\":{\"id\":\"1920\"},\"y_range\":{\"id\":\"1913\"},\"y_scale\":{\"id\":\"1922\"}},\"id\":\"1915\",\"subtype\":\"Figure\",\"type\":\"Plot\"},{\"attributes\":{},\"id\":\"1932\",\"type\":\"SaveTool\"},{\"attributes\":{},\"id\":\"1933\",\"type\":\"PanTool\"},{\"attributes\":{},\"id\":\"1955\",\"type\":\"BasicTickFormatter\"},{\"attributes\":{},\"id\":\"1934\",\"type\":\"WheelZoomTool\"},{\"attributes\":{\"end\":3997.0428750701103,\"reset_end\":3997.0428750701103,\"reset_start\":-272.55042815696515,\"start\":-272.55042815696515,\"tags\":[[[\"inertia\",\"inertia\",null]]]},\"id\":\"1913\",\"type\":\"Range1d\"},{\"attributes\":{\"line_alpha\":0.1,\"line_color\":\"#1f77b3\",\"line_width\":2,\"x\":{\"field\":\"k\"},\"y\":{\"field\":\"inertia\"}},\"id\":\"1949\",\"type\":\"Line\"},{\"attributes\":{\"overlay\":{\"id\":\"1937\"}},\"id\":\"1935\",\"type\":\"BoxZoomTool\"},{\"attributes\":{\"margin\":[5,5,5,5],\"name\":\"HSpacer03149\",\"sizing_mode\":\"stretch_width\"},\"id\":\"1911\",\"type\":\"Spacer\"},{\"attributes\":{\"callback\":null,\"renderers\":[{\"id\":\"1951\"}],\"tags\":[\"hv_created\"],\"tooltips\":[[\"k\",\"@{k}\"],[\"inertia\",\"@{inertia}\"]]},\"id\":\"1914\",\"type\":\"HoverTool\"},{\"attributes\":{\"ticks\":[1,2,3,4,5,6,7,8,9,10]},\"id\":\"1953\",\"type\":\"FixedTicker\"},{\"attributes\":{\"source\":{\"id\":\"1945\"}},\"id\":\"1952\",\"type\":\"CDSView\"},{\"attributes\":{\"text\":\"Elbow Curve\",\"text_color\":{\"value\":\"black\"},\"text_font_size\":{\"value\":\"12pt\"}},\"id\":\"1916\",\"type\":\"Title\"},{\"attributes\":{\"end\":10.0,\"reset_end\":10.0,\"reset_start\":1.0,\"start\":1.0,\"tags\":[[[\"k\",\"k\",null]]]},\"id\":\"1912\",\"type\":\"Range1d\"},{\"attributes\":{\"margin\":[5,5,5,5],\"name\":\"HSpacer03150\",\"sizing_mode\":\"stretch_width\"},\"id\":\"1974\",\"type\":\"Spacer\"},{\"attributes\":{\"data\":{\"inertia\":{\"__ndarray__\":\"D49Eo3xyrEA6Dqaeq1ijQI8U5/fFMZdA/UYsL0c2fECTthPyrtlvQLOr+7LAzmdAuj0PG+g6YkBXI8XCNBpdQCTQCaekEVdAhdx81+/PVEA=\",\"dtype\":\"float64\",\"order\":\"little\",\"shape\":[10]},\"k\":[1,2,3,4,5,6,7,8,9,10]},\"selected\":{\"id\":\"1946\"},\"selection_policy\":{\"id\":\"1966\"}},\"id\":\"1945\",\"type\":\"ColumnDataSource\"}],\"root_ids\":[\"1910\"]},\"title\":\"Bokeh Application\",\"version\":\"2.2.3\"}};\n",
       "    var render_items = [{\"docid\":\"1f7fc79f-7840-445f-8517-65b61b982ae6\",\"root_ids\":[\"1910\"],\"roots\":{\"1910\":\"cba3a02f-508e-4b6d-9141-19d0fcf2af34\"}}];\n",
       "    root.Bokeh.embed.embed_items_notebook(docs_json, render_items);\n",
       "  }\n",
       "  if (root.Bokeh !== undefined && root.Bokeh.Panel !== undefined) {\n",
       "    embed_document(root);\n",
       "  } else {\n",
       "    var attempts = 0;\n",
       "    var timer = setInterval(function(root) {\n",
       "      if (root.Bokeh !== undefined && root.Bokeh.Panel !== undefined) {\n",
       "        clearInterval(timer);\n",
       "        embed_document(root);\n",
       "      } else if (document.readyState == \"complete\") {\n",
       "        attempts++;\n",
       "        if (attempts > 100) {\n",
       "          clearInterval(timer);\n",
       "          console.log(\"Bokeh: ERROR: Unable to run BokehJS code because BokehJS library is missing\");\n",
       "        }\n",
       "      }\n",
       "    }, 10, root)\n",
       "  }\n",
       "})(window);</script>"
      ],
      "text/plain": [
       ":Curve   [k]   (inertia)"
      ]
     },
     "execution_count": 464,
     "metadata": {
      "application/vnd.holoviews_exec.v0+json": {
       "id": "1910"
      }
     },
     "output_type": "execute_result"
    }
   ],
   "source": [
    "# Create an elbow curve to find the best value for K.\n",
    "# YOUR CODE HERE\n",
    "# Find the best value for K\n",
    "inertia = []\n",
    "k = list(range(1, 11))\n",
    "\n",
    "# Calculate the inertia for the range of K values\n",
    "for i in k:\n",
    "    km = KMeans(n_clusters=i, random_state=0)\n",
    "    km.fit(pcs_df)\n",
    "    inertia.append(km.inertia_)\n",
    "\n",
    "# Create the elbow curve\n",
    "elbow_data = {\"k\": k, \"inertia\": inertia}\n",
    "df_elbow = pd.DataFrame(elbow_data)\n",
    "df_elbow.hvplot.line(x=\"k\", y=\"inertia\", xticks=k, title=\"Elbow Curve\")"
   ]
  },
  {
   "cell_type": "markdown",
   "metadata": {},
   "source": [
    "Running K-Means with `k=4`"
   ]
  },
  {
   "cell_type": "code",
   "execution_count": 465,
   "metadata": {},
   "outputs": [
    {
     "data": {
      "text/plain": [
       "array([0, 0, 0, 1, 1, 1, 0, 1, 1, 1, 0, 1, 0, 0, 1, 0, 1, 1, 0, 0, 1, 1,\n",
       "       1, 1, 1, 0, 1, 1, 1, 0, 1, 0, 1, 1, 0, 0, 1, 1, 1, 1, 1, 1, 0, 0,\n",
       "       1, 1, 1, 1, 1, 0, 0, 1, 0, 1, 1, 1, 1, 0, 1, 1, 0, 1, 0, 0, 0, 1,\n",
       "       1, 1, 0, 0, 0, 0, 0, 1, 1, 1, 0, 0, 1, 0, 1, 0, 0, 1, 1, 1, 1, 0,\n",
       "       0, 1, 0, 1, 1, 0, 0, 1, 0, 0, 1, 1, 0, 0, 1, 0, 0, 1, 0, 1, 0, 1,\n",
       "       0, 1, 0, 0, 1, 1, 0, 1, 1, 1, 0, 1, 1, 1, 1, 1, 0, 0, 1, 1, 1, 0,\n",
       "       1, 0, 1, 1, 0, 1, 0, 1, 0, 0, 1, 1, 0, 1, 1, 0, 0, 1, 0, 1, 0, 0,\n",
       "       0, 1, 1, 1, 1, 0, 0, 0, 0, 0, 1, 1, 0, 0, 0, 0, 0, 1, 0, 0, 0, 0,\n",
       "       0, 1, 0, 1, 0, 0, 1, 0, 1, 0, 0, 1, 0, 1, 0, 1, 0, 1, 0, 0, 0, 0,\n",
       "       1, 0, 0, 0, 0, 0, 1, 1, 0, 0, 1, 1, 0, 0, 0, 0, 0, 1, 0, 0, 0, 0,\n",
       "       0, 0, 0, 0, 1, 0, 0, 0, 0, 0, 0, 1, 1, 1, 0, 0, 0, 0, 1, 0, 1, 0,\n",
       "       0, 1, 0, 1, 1, 0, 1, 1, 0, 1, 0, 0, 0, 1, 0, 0, 1, 0, 0, 0, 0, 0,\n",
       "       0, 0, 1, 0, 1, 0, 0, 0, 0, 1, 0, 1, 0, 1, 1, 1, 1, 0, 1, 0, 0, 1,\n",
       "       0, 1, 1, 1, 0, 1, 0, 1, 1, 1, 0, 1, 0, 1, 0, 0, 0, 1, 0, 1, 1, 1,\n",
       "       1, 1, 0, 0, 1, 0, 0, 0, 1, 0, 1, 0, 1, 0, 1, 0, 0, 0, 0, 1, 0, 0,\n",
       "       1, 0, 0, 0, 1, 1, 1, 1, 0, 0, 0, 0, 1, 0, 1, 1, 1, 0, 0, 1, 1, 0,\n",
       "       0, 1, 0, 1, 1, 1, 0, 1, 1, 0, 0, 0, 1, 1, 1, 0, 0, 0, 1, 1, 0, 1,\n",
       "       1, 1, 1, 0, 3, 3, 1, 1, 1, 0, 3, 0, 0, 0, 0, 1, 1, 1, 1, 0, 0, 0,\n",
       "       1, 0, 1, 0, 0, 0, 0, 1, 0, 0, 1, 0, 0, 1, 1, 0, 1, 0, 1, 1, 1, 1,\n",
       "       0, 0, 1, 0, 1, 0, 0, 0, 0, 0, 0, 1, 1, 1, 0, 0, 0, 0, 0, 0, 1, 0,\n",
       "       1, 1, 1, 1, 0, 0, 0, 0, 1, 0, 0, 1, 0, 0, 1, 3, 1, 0, 1, 1, 0, 0,\n",
       "       1, 0, 1, 1, 1, 1, 1, 0, 1, 0, 1, 0, 0, 1, 0, 0, 0, 0, 0, 1, 1, 1,\n",
       "       0, 0, 0, 1, 0, 1, 0, 1, 0, 0, 0, 0, 1, 0, 0, 0, 1, 0, 1, 0, 1, 0,\n",
       "       0, 0, 1, 1, 0, 0, 0, 0, 0, 0, 1, 0, 1, 0, 1, 0, 0, 3, 0, 2, 0, 0,\n",
       "       0, 1, 1, 0], dtype=int32)"
      ]
     },
     "execution_count": 465,
     "metadata": {},
     "output_type": "execute_result"
    }
   ],
   "source": [
    "# Initialize the K-Means model.\n",
    "# YOUR CODE HERE\n",
    "model = KMeans(n_clusters=4, random_state=0)\n",
    "\n",
    "# Fit the model\n",
    "# YOUR CODE HERE\n",
    "model.fit(pcs_df)\n",
    "\n",
    "# Predict clusters\n",
    "# YOUR CODE HERE\n",
    "predictions = model.predict(pcs_df)\n",
    "predictions"
   ]
  },
  {
   "cell_type": "code",
   "execution_count": 466,
   "metadata": {},
   "outputs": [
    {
     "name": "stdout",
     "output_type": "stream",
     "text": [
      "(532, 9)\n"
     ]
    },
    {
     "data": {
      "text/html": [
       "<div>\n",
       "<style scoped>\n",
       "    .dataframe tbody tr th:only-of-type {\n",
       "        vertical-align: middle;\n",
       "    }\n",
       "\n",
       "    .dataframe tbody tr th {\n",
       "        vertical-align: top;\n",
       "    }\n",
       "\n",
       "    .dataframe thead th {\n",
       "        text-align: right;\n",
       "    }\n",
       "</style>\n",
       "<table border=\"1\" class=\"dataframe\">\n",
       "  <thead>\n",
       "    <tr style=\"text-align: right;\">\n",
       "      <th></th>\n",
       "      <th>Algorithm</th>\n",
       "      <th>ProofType</th>\n",
       "      <th>TotalCoinsMined</th>\n",
       "      <th>TotalCoinSupply</th>\n",
       "      <th>PC1</th>\n",
       "      <th>PC2</th>\n",
       "      <th>PC3</th>\n",
       "      <th>CoinName</th>\n",
       "      <th>Class</th>\n",
       "    </tr>\n",
       "    <tr>\n",
       "      <th></th>\n",
       "      <th></th>\n",
       "      <th></th>\n",
       "      <th></th>\n",
       "      <th></th>\n",
       "      <th></th>\n",
       "      <th></th>\n",
       "      <th></th>\n",
       "      <th></th>\n",
       "      <th></th>\n",
       "    </tr>\n",
       "  </thead>\n",
       "  <tbody>\n",
       "    <tr>\n",
       "      <th>42</th>\n",
       "      <td>Scrypt</td>\n",
       "      <td>PoW/PoS</td>\n",
       "      <td>4.199995e+01</td>\n",
       "      <td>42</td>\n",
       "      <td>-0.336647</td>\n",
       "      <td>1.036584</td>\n",
       "      <td>-0.577528</td>\n",
       "      <td>42 Coin</td>\n",
       "      <td>0</td>\n",
       "    </tr>\n",
       "    <tr>\n",
       "      <th>404</th>\n",
       "      <td>Scrypt</td>\n",
       "      <td>PoW/PoS</td>\n",
       "      <td>1.055185e+09</td>\n",
       "      <td>532000000</td>\n",
       "      <td>-0.319998</td>\n",
       "      <td>1.036843</td>\n",
       "      <td>-0.577893</td>\n",
       "      <td>404Coin</td>\n",
       "      <td>0</td>\n",
       "    </tr>\n",
       "    <tr>\n",
       "      <th>1337</th>\n",
       "      <td>X13</td>\n",
       "      <td>PoW/PoS</td>\n",
       "      <td>2.927942e+10</td>\n",
       "      <td>314159265359</td>\n",
       "      <td>2.291302</td>\n",
       "      <td>1.721164</td>\n",
       "      <td>-0.705982</td>\n",
       "      <td>EliteCoin</td>\n",
       "      <td>0</td>\n",
       "    </tr>\n",
       "    <tr>\n",
       "      <th>BTC</th>\n",
       "      <td>SHA-256</td>\n",
       "      <td>PoW</td>\n",
       "      <td>1.792718e+07</td>\n",
       "      <td>21000000</td>\n",
       "      <td>-0.147201</td>\n",
       "      <td>-1.278671</td>\n",
       "      <td>0.176264</td>\n",
       "      <td>Bitcoin</td>\n",
       "      <td>1</td>\n",
       "    </tr>\n",
       "    <tr>\n",
       "      <th>ETH</th>\n",
       "      <td>Ethash</td>\n",
       "      <td>PoW</td>\n",
       "      <td>1.076842e+08</td>\n",
       "      <td>0</td>\n",
       "      <td>-0.156202</td>\n",
       "      <td>-2.013179</td>\n",
       "      <td>0.383610</td>\n",
       "      <td>Ethereum</td>\n",
       "      <td>1</td>\n",
       "    </tr>\n",
       "  </tbody>\n",
       "</table>\n",
       "</div>"
      ],
      "text/plain": [
       "     Algorithm ProofType  TotalCoinsMined TotalCoinSupply       PC1       PC2  \\\n",
       "                                                                                \n",
       "42      Scrypt   PoW/PoS     4.199995e+01              42 -0.336647  1.036584   \n",
       "404     Scrypt   PoW/PoS     1.055185e+09       532000000 -0.319998  1.036843   \n",
       "1337       X13   PoW/PoS     2.927942e+10    314159265359  2.291302  1.721164   \n",
       "BTC    SHA-256       PoW     1.792718e+07        21000000 -0.147201 -1.278671   \n",
       "ETH     Ethash       PoW     1.076842e+08               0 -0.156202 -2.013179   \n",
       "\n",
       "           PC3   CoinName  Class  \n",
       "                                  \n",
       "42   -0.577528    42 Coin      0  \n",
       "404  -0.577893    404Coin      0  \n",
       "1337 -0.705982  EliteCoin      0  \n",
       "BTC   0.176264    Bitcoin      1  \n",
       "ETH   0.383610   Ethereum      1  "
      ]
     },
     "execution_count": 466,
     "metadata": {},
     "output_type": "execute_result"
    }
   ],
   "source": [
    "# Create a new DataFrame including predicted clusters and cryptocurrencies features.\n",
    "# Concatentate the crypto_df and pcs_df DataFrames on the same columns.\n",
    "# YOUR CODE HERE\n",
    "clustered_df = pd.concat([df, pcs_df], axis=1)\n",
    "#new_df.head(10)\n",
    "\n",
    "#  Add a new column, \"CoinName\" to the clustered_df DataFrame that holds the names of the cryptocurrencies. \n",
    "# YOUR CODE HERE\n",
    "clustered_df['CoinName'] = crypto_df['CoinName']\n",
    "\n",
    "\n",
    "#  Add a new column, \"Class\" to the clustered_df DataFrame that holds the predictions.\n",
    "# YOUR CODE HERE\n",
    "clustered_df['Class'] = model.labels_\n",
    "\n",
    "# Print the shape of the clustered_df\n",
    "print(clustered_df.shape)\n",
    "clustered_df.head()"
   ]
  },
  {
   "cell_type": "markdown",
   "metadata": {},
   "source": [
    "### Deliverable 4: Visualizing Cryptocurrencies Results\n",
    "\n",
    "#### 3D-Scatter with Clusters"
   ]
  },
  {
   "cell_type": "code",
   "execution_count": 467,
   "metadata": {},
   "outputs": [
    {
     "data": {
      "application/vnd.plotly.v1+json": {
       "config": {
        "plotlyServerURL": "https://plot.ly"
       },
       "data": [
        {
         "customdata": [
          [
           "42 Coin",
           "Scrypt"
          ],
          [
           "404Coin",
           "Scrypt"
          ],
          [
           "EliteCoin",
           "X13"
          ],
          [
           "Dash",
           "X11"
          ],
          [
           "Bitshares",
           "SHA-512"
          ],
          [
           "BitcoinDark",
           "SHA-256"
          ],
          [
           "PayCoin",
           "SHA-256"
          ],
          [
           "KoboCoin",
           "X15"
          ],
          [
           "Aurora Coin",
           "Scrypt"
          ],
          [
           "BlueCoin",
           "Scrypt"
          ],
          [
           "EnergyCoin",
           "Scrypt"
          ],
          [
           "BitBar",
           "Scrypt"
          ],
          [
           "CryptoBullion",
           "Scrypt"
          ],
          [
           "CasinoCoin",
           "Scrypt"
          ],
          [
           "Diamond",
           "Groestl"
          ],
          [
           "Exclusive Coin",
           "PoS"
          ],
          [
           "FlutterCoin",
           "Scrypt"
          ],
          [
           "HoboNickels",
           "Scrypt"
          ],
          [
           "HyperStake",
           "X11"
          ],
          [
           "IOCoin",
           "X11"
          ],
          [
           "MaxCoin",
           "SHA3"
          ],
          [
           "MintCoin",
           "Scrypt"
          ],
          [
           "MazaCoin",
           "SHA-256"
          ],
          [
           "Nautilus Coin",
           "Scrypt"
          ],
          [
           "NavCoin",
           "X13"
          ],
          [
           "OpalCoin",
           "X13"
          ],
          [
           "Orbitcoin",
           "NeoScrypt"
          ],
          [
           "PotCoin",
           "Scrypt"
          ],
          [
           "PhoenixCoin",
           "Scrypt"
          ],
          [
           "Reddcoin",
           "Scrypt"
          ],
          [
           "SuperCoin",
           "X11"
          ],
          [
           "SyncCoin",
           "X11"
          ],
          [
           "TeslaCoin",
           "Multiple"
          ],
          [
           "TittieCoin",
           "PHI1612"
          ],
          [
           "TorCoin",
           "X11"
          ],
          [
           "UnitaryStatus Dollar",
           "Scrypt"
          ],
          [
           "UltraCoin",
           "Scrypt"
          ],
          [
           "VeriCoin",
           "Scrypt"
          ],
          [
           "X11 Coin",
           "X11"
          ],
          [
           "Crypti",
           "Multiple"
          ],
          [
           "StealthCoin",
           "X13"
          ],
          [
           "ZCC Coin",
           "Scrypt"
          ],
          [
           "BurstCoin",
           "Shabal256"
          ],
          [
           "StorjCoin",
           "Counterparty"
          ],
          [
           "Neutron",
           "SHA-256"
          ],
          [
           "FairCoin",
           "Groestl"
          ],
          [
           "RubyCoin",
           "Scrypt"
          ],
          [
           "Kore",
           "X13"
          ],
          [
           "Dnotes",
           "Scrypt"
          ],
          [
           "8BIT Coin",
           "Scrypt"
          ],
          [
           "Sativa Coin",
           "X13"
          ],
          [
           "Ucoin",
           "X11"
          ],
          [
           "Vtorrent",
           "Scrypt"
          ],
          [
           "IslaCoin",
           "X11"
          ],
          [
           "Nexus",
           "SHA3"
          ],
          [
           "Droidz",
           "QUAIT"
          ],
          [
           "Squall Coin",
           "X11"
          ],
          [
           "Diggits",
           "Scrypt"
          ],
          [
           "Paycon",
           "X13"
          ],
          [
           "Emercoin",
           "SHA-256"
          ],
          [
           "EverGreenCoin",
           "X15"
          ],
          [
           "Decred",
           "BLAKE256"
          ],
          [
           "EDRCoin",
           "SHA-256"
          ],
          [
           "Hitcoin",
           "X11"
          ],
          [
           "DubaiCoin",
           "SHA-256"
          ],
          [
           "PWR Coin",
           "NIST5"
          ],
          [
           "BillaryCoin",
           "Scrypt"
          ],
          [
           "GPU Coin",
           "Scrypt"
          ],
          [
           "EuropeCoin",
           "X11"
          ],
          [
           "ZeitCoin",
           "Scrypt"
          ],
          [
           "SwingCoin",
           "SHA-256"
          ],
          [
           "SafeExchangeCoin",
           "Scrypt"
          ],
          [
           "Nebuchadnezzar",
           "PoS"
          ],
          [
           "Ratecoin",
           "X11"
          ],
          [
           "Revenu",
           "SHA-256"
          ],
          [
           "Clockcoin",
           "SHA-256"
          ],
          [
           "VIP Tokens",
           "NIST5"
          ],
          [
           "BitSend",
           "X11"
          ],
          [
           "Let it Ride",
           "POS 3.0"
          ],
          [
           "PutinCoin",
           "Scrypt"
          ],
          [
           "iBankCoin",
           "Scrypt"
          ],
          [
           "Frankywillcoin",
           "Scrypt"
          ],
          [
           "MudraCoin",
           "X13"
          ],
          [
           "Lutetium Coin",
           "X11"
          ],
          [
           "GoldBlocks",
           "X11"
          ],
          [
           "CarterCoin",
           "Scrypt"
          ],
          [
           "BitTokens",
           "SHA-256"
          ],
          [
           "MustangCoin",
           "X11"
          ],
          [
           "ZoneCoin",
           "Scrypt"
          ],
          [
           "RootCoin",
           "Scrypt"
          ],
          [
           "BitCurrency",
           "Scrypt"
          ],
          [
           "Swiscoin",
           "Scrypt"
          ],
          [
           "BuzzCoin",
           "SHA-256D"
          ],
          [
           "Opair",
           "PoS"
          ],
          [
           "PesoBit",
           "Scrypt"
          ],
          [
           "Halloween Coin",
           "X11"
          ],
          [
           "CoffeeCoin",
           "PoS"
          ],
          [
           "RoyalCoin",
           "X13"
          ],
          [
           "GanjaCoin V2",
           "X14"
          ],
          [
           "TeamUP",
           "PoS"
          ],
          [
           "LanaCoin",
           "SHA-256D"
          ],
          [
           "ARK",
           "DPoS"
          ],
          [
           "InsaneCoin",
           "X11"
          ],
          [
           "EmberCoin",
           "X13"
          ],
          [
           "XenixCoin",
           "X11"
          ],
          [
           "FreeCoin",
           "PoS"
          ],
          [
           "PLNCoin",
           "Scrypt"
          ],
          [
           "AquariusCoin",
           "Scrypt"
          ],
          [
           "Creatio",
           "PoS"
          ],
          [
           "Eternity",
           "X11"
          ],
          [
           "Eurocoin",
           "SHA-256"
          ],
          [
           "BitcoinFast",
           "Scrypt"
          ],
          [
           "Stakenet",
           "X11"
          ],
          [
           "BitConnect Coin",
           "Scrypt"
          ],
          [
           "MoneyCoin",
           "Scrypt"
          ],
          [
           "Enigma",
           "X11"
          ],
          [
           "Russiacoin",
           "Scrypt"
          ],
          [
           "PandaCoin",
           "Scrypt"
          ],
          [
           "GameUnits",
           "Scrypt"
          ],
          [
           "GAKHcoin",
           "Scrypt"
          ],
          [
           "Allsafe",
           "Quark"
          ],
          [
           "LiteCreed",
           "QuBit"
          ],
          [
           "Klingon Empire Darsek",
           "Scrypt"
          ],
          [
           "Internet of People",
           "SHA-256"
          ],
          [
           "KushCoin",
           "X11"
          ],
          [
           "Printerium",
           "Scrypt"
          ],
          [
           "Impeach",
           "Scrypt"
          ],
          [
           "Zilbercoin",
           "Scrypt"
          ],
          [
           "FirstCoin",
           "Scrypt"
          ],
          [
           "FindCoin",
           "X13"
          ],
          [
           "OpenChat",
           "Scrypt"
          ],
          [
           "RenosCoin",
           "Scrypt"
          ],
          [
           "VirtacoinPlus",
           "X11"
          ],
          [
           "TajCoin",
           "Blake2S"
          ],
          [
           "Impact",
           "X11"
          ],
          [
           "Atmos",
           "PoS"
          ],
          [
           "HappyCoin",
           "X11"
          ],
          [
           "MacronCoin",
           "PoS"
          ],
          [
           "Condensate",
           "X11"
          ],
          [
           "Independent Money System",
           "Scrypt"
          ],
          [
           "ArgusCoin",
           "Scrypt"
          ],
          [
           "LomoCoin",
           "Scrypt"
          ],
          [
           "ProCurrency",
           "SHA-256"
          ],
          [
           "GoldReserve",
           "X11"
          ],
          [
           "GrowthCoin",
           "Scrypt"
          ],
          [
           "Phreak",
           "PoS"
          ],
          [
           "Degas Coin",
           "Scrypt"
          ],
          [
           "HTML5 Coin",
           "X15"
          ],
          [
           "Ultimate Secure Cash",
           "SHA-256"
          ],
          [
           "QTUM",
           "POS 3.0"
          ],
          [
           "Espers",
           "536"
          ],
          [
           "Denarius",
           "NIST5"
          ],
          [
           "Virta Unique Coin",
           "NIST5"
          ],
          [
           "Bitcoin Planet",
           "Skein"
          ],
          [
           "BritCoin",
           "X13"
          ],
          [
           "Linda",
           "Scrypt"
          ],
          [
           "DeepOnion",
           "X13"
          ],
          [
           "Signatum",
           "SkunkHash v2 Raptor"
          ],
          [
           "Cream",
           "Skein"
          ],
          [
           "Monoeci",
           "X11"
          ],
          [
           "Draftcoin",
           "Scrypt"
          ],
          [
           "Vechain",
           "VeChainThor Authority"
          ],
          [
           "Stakecoin",
           "PoS"
          ],
          [
           "CoinonatX",
           "Scrypt"
          ],
          [
           "Ethereum Dark",
           "Scrypt"
          ],
          [
           "Obsidian",
           "SHA-512"
          ],
          [
           "Cardano",
           "Ouroboros"
          ],
          [
           "Regalcoin",
           "X11"
          ],
          [
           "TrezarCoin",
           "NeoScrypt"
          ],
          [
           "TerraNovaCoin",
           "Scrypt"
          ],
          [
           "Rupee",
           "Lyra2REv2"
          ],
          [
           "WomenCoin",
           "Scrypt"
          ],
          [
           "Theresa May Coin",
           "SHA-256"
          ],
          [
           "NamoCoin",
           "NIST5"
          ],
          [
           "LUXCoin",
           "PHI1612"
          ],
          [
           "Xios",
           "Scrypt"
          ],
          [
           "Bitcloud 2.0",
           "Quark"
          ],
          [
           "KekCoin",
           "POS 2.0"
          ],
          [
           "BlackholeCoin",
           "Scrypt"
          ],
          [
           "Infinity Economics",
           "SHA-256"
          ],
          [
           "Magnet",
           "X11"
          ],
          [
           "Lamden Tau",
           "DPoS"
          ],
          [
           "Electra",
           "NIST5"
          ],
          [
           "Bitcoin Diamond",
           "X13"
          ],
          [
           "Cash & Back Coin",
           "Scrypt"
          ],
          [
           "Bulwark",
           "NIST5"
          ],
          [
           "Kalkulus",
           "Quark"
          ],
          [
           "GermanCoin",
           "Scrypt"
          ],
          [
           "LiteCoin Ultra",
           "Scrypt"
          ],
          [
           "PhantomX",
           "X11"
          ],
          [
           "Digiwage",
           "Quark"
          ],
          [
           "Trollcoin",
           "Scrypt"
          ],
          [
           "Litecoin Plus",
           "Scrypt"
          ],
          [
           "Monkey Project",
           "X11"
          ],
          [
           "TokenPay",
           "POS 3.0"
          ],
          [
           "1717 Masonic Commemorative Token",
           "Ethash"
          ],
          [
           "My Big Coin",
           "Scrypt"
          ],
          [
           "Unified Society USDEX",
           "Scrypt"
          ],
          [
           "Tokyo Coin",
           "X13"
          ],
          [
           "Stipend",
           "C11"
          ],
          [
           "Pushi",
           "X11"
          ],
          [
           "Ellerium",
           "XEVAN"
          ],
          [
           "Velox",
           "Scrypt"
          ],
          [
           "Ontology",
           "VBFT"
          ],
          [
           "Bitspace",
           "NIST5"
          ],
          [
           "Briacoin",
           "Scrypt"
          ],
          [
           "Ignition",
           "Scrypt"
          ],
          [
           "MedicCoin",
           "Scrypt"
          ],
          [
           "Bitcoin Green",
           "Green Protocol"
          ],
          [
           "Deviant Coin",
           "PoS"
          ],
          [
           "Abjcoin",
           "Scrypt"
          ],
          [
           "Semux",
           "Semux BFT consensus"
          ],
          [
           "Carebit",
           "Quark"
          ],
          [
           "Zealium",
           "PoS"
          ],
          [
           "Proton",
           "X16R"
          ],
          [
           "iDealCash",
           "Scrypt"
          ],
          [
           "Bitcoin Incognito",
           "XEVAN"
          ],
          [
           "HollyWoodCoin",
           "Scrypt"
          ],
          [
           "Swisscoin",
           "Scrypt"
          ],
          [
           "Xt3ch",
           "Scrypt"
          ],
          [
           "TheVig",
           "SHA-256D"
          ],
          [
           "EmaratCoin",
           "Scrypt"
          ],
          [
           "Dekado",
           "X15"
          ],
          [
           "Lynx",
           "Scrypt"
          ],
          [
           "Poseidon Quark",
           "Quark"
          ],
          [
           "BitcoinWSpectrum",
           "SHA-256"
          ],
          [
           "Muse",
           "DPoS"
          ],
          [
           "Trivechain",
           "X16R"
          ],
          [
           "Dystem",
           "Quark"
          ],
          [
           "Giant",
           "Quark"
          ],
          [
           "Peony Coin",
           "Scrypt"
          ],
          [
           "Absolute Coin",
           "Lyra2REv2"
          ],
          [
           "Vitae",
           "Quark"
          ],
          [
           "TPCash",
           "Scrypt"
          ],
          [
           "ARENON",
           "X11"
          ],
          [
           "EUNO",
           "X11"
          ],
          [
           "MMOCoin",
           "Scrypt"
          ],
          [
           "Ketan",
           "PoS"
          ],
          [
           "XDNA",
           "Keccak"
          ],
          [
           "PAXEX",
           "X11"
          ],
          [
           "ThunderStake",
           "Scrypt"
          ],
          [
           "Kcash",
           "SHA-512"
          ],
          [
           "Bettex coin",
           "XEVAN"
          ],
          [
           "BitMoney",
           "XEVAN"
          ],
          [
           "Junson Ming Chan Coin",
           "X11"
          ],
          [
           "HerbCoin",
           "Quark"
          ],
          [
           "Oduwa",
           "Scrypt"
          ],
          [
           "Galilel",
           "Quark"
          ],
          [
           "Crypto Sports",
           "Quark"
          ],
          [
           "Credit",
           "Scrypt"
          ],
          [
           "Dash Platinum",
           "X11"
          ],
          [
           "Nasdacoin",
           "Scrypt"
          ],
          [
           "Beetle Coin",
           "XEVAN"
          ],
          [
           "Titan Coin",
           "SHA-256D"
          ],
          [
           "Award",
           "X11"
          ],
          [
           "Insane Coin",
           "X11"
          ],
          [
           "ALAX",
           "DPoS"
          ],
          [
           "LiteDoge",
           "Scrypt"
          ],
          [
           "TruckCoin",
           "X11"
          ],
          [
           "OrangeCoin",
           "Scrypt"
          ],
          [
           "BitstarCoin",
           "Scrypt"
          ],
          [
           "NeosCoin",
           "SHA-256"
          ],
          [
           "HyperCoin",
           "Scrypt"
          ],
          [
           "PinkCoin",
           "X11"
          ],
          [
           "AudioCoin",
           "Scrypt"
          ],
          [
           "IncaKoin",
           "SHA-256"
          ],
          [
           "Piggy Coin",
           "X11"
          ],
          [
           "Genstake",
           "Scrypt"
          ],
          [
           "XiaoMiCoin",
           "Scrypt"
          ],
          [
           "CapriCoin",
           "X11"
          ],
          [
           " ClubCoin",
           "Scrypt"
          ],
          [
           "Radium",
           "PoS"
          ],
          [
           "Creditbit ",
           "X11"
          ],
          [
           "OKCash",
           "SHA-256"
          ],
          [
           "Lisk",
           "DPoS"
          ],
          [
           "HiCoin",
           "Scrypt"
          ],
          [
           "WhiteCoin",
           "Scrypt"
          ],
          [
           "FriendshipCoin",
           "NeoScrypt"
          ],
          [
           "Triangles Coin",
           "X13"
          ],
          [
           "EOS",
           "DPoS"
          ],
          [
           "Oxycoin",
           "DPoS"
          ],
          [
           "TigerCash",
           "SHA-256"
          ],
          [
           "Particl",
           "PoS"
          ],
          [
           "Nxt",
           "PoS"
          ],
          [
           "ZEPHYR",
           "SHA-256"
          ],
          [
           "Gapcoin",
           "Scrypt"
          ],
          [
           "BitcoinPlus",
           "Scrypt"
          ]
         ],
         "hovertemplate": "Class=%{marker.color}<br>PC1=%{x}<br>PC2=%{y}<br>PC3=%{z}<br>CoinName=%{customdata[0]}<br>Algorithm=%{customdata[1]}<extra></extra>",
         "legendgroup": "0",
         "marker": {
          "color": [
           0,
           0,
           0,
           0,
           0,
           0,
           0,
           0,
           0,
           0,
           0,
           0,
           0,
           0,
           0,
           0,
           0,
           0,
           0,
           0,
           0,
           0,
           0,
           0,
           0,
           0,
           0,
           0,
           0,
           0,
           0,
           0,
           0,
           0,
           0,
           0,
           0,
           0,
           0,
           0,
           0,
           0,
           0,
           0,
           0,
           0,
           0,
           0,
           0,
           0,
           0,
           0,
           0,
           0,
           0,
           0,
           0,
           0,
           0,
           0,
           0,
           0,
           0,
           0,
           0,
           0,
           0,
           0,
           0,
           0,
           0,
           0,
           0,
           0,
           0,
           0,
           0,
           0,
           0,
           0,
           0,
           0,
           0,
           0,
           0,
           0,
           0,
           0,
           0,
           0,
           0,
           0,
           0,
           0,
           0,
           0,
           0,
           0,
           0,
           0,
           0,
           0,
           0,
           0,
           0,
           0,
           0,
           0,
           0,
           0,
           0,
           0,
           0,
           0,
           0,
           0,
           0,
           0,
           0,
           0,
           0,
           0,
           0,
           0,
           0,
           0,
           0,
           0,
           0,
           0,
           0,
           0,
           0,
           0,
           0,
           0,
           0,
           0,
           0,
           0,
           0,
           0,
           0,
           0,
           0,
           0,
           0,
           0,
           0,
           0,
           0,
           0,
           0,
           0,
           0,
           0,
           0,
           0,
           0,
           0,
           0,
           0,
           0,
           0,
           0,
           0,
           0,
           0,
           0,
           0,
           0,
           0,
           0,
           0,
           0,
           0,
           0,
           0,
           0,
           0,
           0,
           0,
           0,
           0,
           0,
           0,
           0,
           0,
           0,
           0,
           0,
           0,
           0,
           0,
           0,
           0,
           0,
           0,
           0,
           0,
           0,
           0,
           0,
           0,
           0,
           0,
           0,
           0,
           0,
           0,
           0,
           0,
           0,
           0,
           0,
           0,
           0,
           0,
           0,
           0,
           0,
           0,
           0,
           0,
           0,
           0,
           0,
           0,
           0,
           0,
           0,
           0,
           0,
           0,
           0,
           0,
           0,
           0,
           0,
           0,
           0,
           0,
           0,
           0,
           0,
           0,
           0,
           0,
           0,
           0,
           0,
           0,
           0,
           0,
           0,
           0,
           0,
           0,
           0,
           0,
           0,
           0,
           0,
           0,
           0,
           0,
           0,
           0,
           0,
           0,
           0,
           0,
           0,
           0,
           0,
           0,
           0,
           0,
           0,
           0,
           0,
           0,
           0,
           0,
           0,
           0,
           0
          ],
          "coloraxis": "coloraxis",
          "symbol": "circle"
         },
         "mode": "markers",
         "name": "0",
         "scene": "scene",
         "showlegend": true,
         "type": "scatter3d",
         "x": [
          -0.33664708904821494,
          -0.3199980995728195,
          2.2913016060163875,
          -0.4021568700093083,
          -0.23104909167341348,
          -0.31869044432708243,
          -0.265605787042405,
          -0.24452728984850514,
          -0.33630695454448084,
          -0.3288897228921821,
          -0.3351447174920707,
          -0.3366430295264859,
          -0.33662732311089805,
          0.6822348793248628,
          -0.37621548127262644,
          -0.3432561015852389,
          -0.25386464342518694,
          -0.3347075800098787,
          -0.328910018607833,
          -0.4020516401740187,
          -0.3554714441265375,
          -0.023665874369546168,
          -0.2820295425383103,
          -0.2833137699847907,
          -0.28991059663913193,
          -0.2905323679905503,
          -0.3536906870907384,
          -0.33095457517585886,
          -0.3350502412309255,
          0.021242521080677007,
          -0.34878263964716544,
          -0.40242288681401595,
          -0.2475818774841114,
          -0.315175099181557,
          -0.4023346176923129,
          -0.31190123773419526,
          -0.3353257067228738,
          -0.2753629319542027,
          -0.4022991056376256,
          -0.24804899657001797,
          -0.2903133855249623,
          -0.32775937071156247,
          0.04325268448784864,
          -0.3281107669605501,
          -0.3179028471469545,
          -0.3756374382807645,
          -0.283293996263409,
          -0.2906077366109847,
          -0.2779532446537704,
          -0.33662917019672495,
          -0.29055994987495914,
          -0.3492272294554077,
          -0.33636379680206907,
          -0.40240442869884163,
          -0.2584640335584275,
          -0.4466133756084973,
          -0.37911451874182767,
          -0.2816969488644121,
          -0.290082039974802,
          -0.31125525180048086,
          -0.24696607721002767,
          -0.10053887980472415,
          -0.3186613787367083,
          -0.08017661906712004,
          -0.31872499489936656,
          -0.2423550002765453,
          -0.33623982842883215,
          -0.2815664385212721,
          -0.3995767396368227,
          0.8687472921696414,
          -0.3185252842895003,
          -0.047910016117486284,
          -0.34293965633513407,
          -0.40024916070901917,
          -0.3172702444085711,
          -0.3149409991344434,
          -0.3636285390531849,
          -0.40114091569989163,
          -0.333153692410568,
          -0.3125586588037062,
          -0.3362779061143418,
          -0.3347181694093317,
          -0.2362189324838773,
          -0.3367286803690081,
          -0.4018788503474175,
          -0.3354828252849273,
          -0.3187059909076035,
          -0.40239363663893807,
          -0.3364668671205287,
          -0.33662340735154145,
          -0.2815553795171544,
          -0.22604404110286191,
          0.016067955658964933,
          -0.3418976265733453,
          -0.33623783569080623,
          -0.3885701246381765,
          -0.34122663891626576,
          -0.2376479536096378,
          -0.4343606986190672,
          -0.3409765173128634,
          -0.2982002564470125,
          3.742678783890456,
          -0.4019865451228612,
          0.840807703452409,
          -0.4023485806558967,
          -0.34236098020042444,
          -0.33616555418119093,
          -0.3363197817995404,
          -0.34293965633513407,
          -0.40192394926283265,
          -0.3185687575583399,
          -0.33616627331784843,
          -0.37796993244158195,
          -0.33631354565591964,
          -0.3319065040689685,
          -0.40237755747572224,
          -0.33552514324189775,
          0.35940999481957864,
          -0.336512637702685,
          -0.3365831309262958,
          -0.34931771894540264,
          -0.3532031224663887,
          -0.3328140022540693,
          -0.318682421198528,
          -0.40228758507284607,
          -0.33636114755457325,
          -0.33648801700448944,
          -0.28320073297396464,
          -0.2697426425682099,
          -0.23741600618228365,
          -0.31735788536804416,
          -0.28294198563016726,
          -0.40155411227946936,
          -0.43162052840935616,
          -0.40029339988414664,
          -0.3411877077234506,
          -0.40145206934799327,
          -0.3355924059148794,
          -0.3973970808676084,
          -0.3364313413380167,
          -0.336430553508972,
          -0.32955995753230904,
          0.2664638569631612,
          -0.4019300358765972,
          -0.2658607470459098,
          -0.34297395569155414,
          -0.33564283033793585,
          0.8863475463148716,
          -0.26429766864119264,
          -0.33193309759324496,
          0.5740675161314872,
          -0.365162873573704,
          -0.36366647748891284,
          -0.41869697407618933,
          -0.2902453240948184,
          0.12782643318386547,
          -0.29031601413817726,
          -0.34247280767643656,
          -0.41820220793978247,
          -0.40220213923724984,
          -0.28327477288288405,
          4.4274658316550894,
          -0.34284041662831055,
          -0.3360668733496238,
          -0.33656607519950416,
          -0.2890620707254248,
          0.665084318047463,
          -0.4021430598174912,
          -0.3486946073455476,
          -0.33652175539019225,
          -0.31694425249765357,
          0.43198039690616125,
          -0.3170300863884114,
          -0.34994392034687344,
          -0.40376207234494343,
          -0.3364721444953756,
          -0.40078242006784054,
          -0.3350468729603328,
          -0.33634261682528116,
          -0.09223790076706619,
          -0.4009369050194762,
          3.7475302797919494,
          0.19384806947248556,
          -0.2869897679035139,
          -0.33380524742964346,
          -0.3119054057477663,
          -0.3492037176611768,
          0.07736478299068014,
          -0.33548215007519966,
          -0.40151736208427924,
          -0.3483693344987286,
          -0.3230588545674716,
          -0.3365881905361223,
          -0.34919918161694696,
          -0.33343538565508435,
          -0.2757581184349305,
          -0.27276795982078833,
          -0.3321372467022797,
          -0.2292198265552461,
          -0.3752145250193816,
          -0.40221941734279804,
          -0.3294942906572057,
          -0.28243565858481523,
          -0.3266672632010359,
          -0.36476223285142073,
          -0.33661552307817727,
          -0.3365972527788886,
          -0.2768221380502022,
          -0.34356953255935163,
          -0.3424352367119001,
          -0.33631403609680877,
          3.9470234119886842,
          -0.39945138646609585,
          -0.34262374951189883,
          -0.3210406390437943,
          -0.2832362060304791,
          -0.3063380690443474,
          -0.28296922302712274,
          -0.13989720405710637,
          -0.2832211556859815,
          -0.36344780616030115,
          -0.3357885949407169,
          -0.19328924961490412,
          2.267893255308268,
          -0.3449165081964056,
          -0.2644250146635104,
          1.0333078063919392,
          -0.37339898971104835,
          -0.34931717250651206,
          -0.4024648171864061,
          -0.16408539158553784,
          -0.3698938930181155,
          -0.3480378369883536,
          -0.32950009104713196,
          -0.34877698559241727,
          -0.4016931975227705,
          -0.2804692016784043,
          -0.3417245572285089,
          -0.3629608855740316,
          -0.3486385914684898,
          -0.19624847534226808,
          -0.22025447536010348,
          -0.2764661371436675,
          0.4978294027207113,
          -0.13929990555353244,
          -0.4017600848250086,
          -0.33631798133778573,
          -0.40221578081424225,
          -0.34943404466576555,
          0.5693395231241328,
          -0.3492534545662516,
          -0.3358014478486642,
          -0.3239550848905426,
          -0.3182136102749035,
          -0.3992606234630333,
          -0.40192021630276425,
          3.7597619097386876,
          0.09820457194463156,
          -0.399461520833229,
          -0.3351877020601468,
          -0.3360116988183253,
          -0.26563841800204285,
          -0.33652951047132595,
          -0.393555312188956,
          -0.25032333778987736,
          -0.09850524096470244,
          -0.38930810286416334,
          -0.33580838385965106,
          -0.3288787117679877,
          -0.3984917631903995,
          -0.33424909121244434,
          -0.3432150607292831,
          -0.3886206026467751,
          -0.3172067950750646,
          3.74307022131208,
          -0.09066827196082675,
          -0.33144625304273906,
          -0.353316970226993,
          -0.29071483119463026,
          3.7529316926594443,
          3.7541749459863083,
          -0.24655153656753903,
          -0.34315097165633296,
          -0.34007201001486775,
          2.4802527314863667,
          -0.3346945519557928,
          -0.2836172216466169
         ],
         "y": [
          1.0365842927660507,
          1.0368425643085,
          1.7211635448756621,
          1.2182390501568954,
          1.376407713644412,
          0.8881522583853457,
          0.6648600432639256,
          1.8398287509617974,
          1.036585430038583,
          1.0368785320772265,
          1.036641278210235,
          1.036584095994558,
          1.036584340963865,
          0.4310529362083685,
          1.0046731268131506,
          1.5781145770019558,
          0.21579747603972102,
          1.0365736718023688,
          0.9957203627496133,
          1.2182430415568783,
          2.029278795520684,
          0.8231433691306698,
          0.8878610386838407,
          0.8132834934380502,
          1.843658860443947,
          1.843635276465552,
          0.5443741985345497,
          1.036505556511633,
          1.036576108870901,
          1.0501591556676089,
          0.9949665881278219,
          1.2182443936701264,
          0.15005223192520722,
          1.5927411826859912,
          1.218240726849353,
          1.0364004149805872,
          1.0365642572607072,
          0.16746328042504688,
          1.2182452308512557,
          0.15010466992715338,
          1.8436435825377528,
          1.0362198469587864,
          0.7984569993054267,
          1.5630093911676315,
          0.888149860441072,
          1.0046981249930234,
          0.8132955946977113,
          1.8436239989939345,
          0.8131473911852127,
          1.036584972463056,
          1.843627214678962,
          0.9949356935053179,
          1.0365810069629713,
          1.2182450944936658,
          2.2105051839648455,
          2.014667559878779,
          0.7767096061123551,
          0.8132860152238458,
          1.8436172795593526,
          0.8877481521122889,
          1.8399633432936293,
          1.1797401152502447,
          0.8881533608521187,
          1.211840883645213,
          0.8881590158083489,
          1.5538911768064154,
          1.03657027480753,
          0.8132060398701714,
          1.2180829506745876,
          0.7875384620566018,
          0.8881458948812848,
          0.4299141169139171,
          1.57811254867304,
          1.2182742274914196,
          0.8880653064290157,
          0.8879415914523574,
          1.5492280938447363,
          1.218195503128296,
          1.456614915807991,
          1.0360948549078535,
          1.0365671935367644,
          1.0365873013376734,
          1.6202426925174616,
          0.9949628737681321,
          1.2182299518558197,
          1.0365653133026147,
          0.8881523702584938,
          1.2182433991606418,
          1.0365763959144005,
          1.036585191049545,
          0.8133615409650784,
          0.4452921003632789,
          1.9805076125982248,
          1.5781141889569696,
          1.0365998159011012,
          1.2177174943112925,
          1.5781634928271338,
          1.620327047265587,
          2.120767667285,
          1.5779898728568904,
          1.9773526099465921,
          1.6905292997149373,
          1.2182398981543772,
          1.885951027208966,
          1.218244509488224,
          1.5781134512449058,
          1.0365755194492083,
          1.0365672421516137,
          1.57811254867304,
          1.2182212256428617,
          0.8881582771213198,
          1.0365793788130047,
          0.6256623345056872,
          1.0365773005265921,
          1.0363076279074768,
          1.2182426059287947,
          1.036525823944412,
          0.8148623984241882,
          1.0365802722999478,
          1.0365843925227132,
          1.4632625550513552,
          0.5178826436705833,
          1.0363789030933404,
          0.888153264264801,
          1.218242964018642,
          1.0365811074497426,
          1.0365749389039618,
          0.8132605464181176,
          0.3426299960696124,
          1.6203274090382787,
          1.0366143784936737,
          0.8132847943773674,
          1.2182071912843138,
          1.9819004899997317,
          1.218247994895577,
          1.5781156567736363,
          1.2182110618040567,
          1.578124639443788,
          1.2180842448734153,
          1.0365775946026958,
          1.036572441446942,
          1.0361515501474539,
          0.6324333985375538,
          1.2182350259702104,
          0.812553723748923,
          1.5781042320906722,
          1.0365487208659339,
          1.8198283517017007,
          0.664778059077228,
          1.4566145596227915,
          1.930446539649194,
          1.5492260208428714,
          1.549205608036494,
          1.9121131034485337,
          1.8436251173369915,
          1.0191239300037853,
          1.8436302246263547,
          1.4804158149235795,
          1.9121318700801024,
          1.2182460974766778,
          0.8132841125742175,
          2.4895233696670847,
          1.5780871280056488,
          1.03657244889543,
          1.0365844191248457,
          1.3766691639684576,
          1.4886490459765962,
          1.2182360661830935,
          0.5442857223648878,
          1.0365780088669143,
          0.705185875518145,
          1.0481995763963043,
          0.8881605146136289,
          1.5489684243432214,
          1.8162649426572284,
          1.036576195741951,
          1.6864930918761807,
          1.5477667294323885,
          1.0365854666616552,
          0.6651306724378541,
          1.2181997335174655,
          1.6904502335486,
          1.5493897015449627,
          1.8436223208332712,
          1.0365447571792201,
          1.3259212667440405,
          1.4632633713564724,
          1.0172099041078522,
          1.03652324533009,
          1.2182436632167062,
          1.4632248637937901,
          1.0364682949527382,
          1.0365837205952777,
          0.9949360558087245,
          1.4566101943543313,
          -0.06969869439721026,
          0.1308076290953207,
          1.036592590645367,
          1.6200872349214097,
          1.0107412052111724,
          1.2182345730381454,
          1.4667177136537282,
          0.813241158303811,
          1.7514385180556502,
          1.549213154879605,
          1.0365833854232842,
          1.0365826753019014,
          0.8131902944062133,
          1.6215024202576371,
          1.5780839754031009,
          1.0365758788045714,
          1.7610471239487553,
          1.6865435783896487,
          1.5780824375324685,
          0.7739671618897568,
          1.0350168293146513,
          1.025204515261682,
          0.8132896728935263,
          1.0368911671994567,
          0.8132674889353394,
          1.9800735016545084,
          1.0365579247239678,
          1.6166422337991126,
          0.3497352078962218,
          1.4629840039026105,
          0.664843259894731,
          1.5750971650469572,
          0.997267249704633,
          1.463258366419607,
          1.686565976247216,
          0.8059748855592181,
          0.9284698822321604,
          1.4632514687906881,
          1.0361538209016303,
          0.9949282168030381,
          1.2182369937244992,
          0.8132203344959997,
          1.578025341407937,
          1.00900776684315,
          0.9949018959471023,
          1.0292815803191666,
          1.2206385655159706,
          1.2434237061067699,
          1.0773969817910312,
          1.0029123325945817,
          1.6865584364712545,
          1.0365820431978838,
          1.686565681117262,
          1.463259286323392,
          1.0184719760041847,
          0.9949349092467236,
          1.0365574372092203,
          1.4666191311518169,
          1.9783516059550998,
          1.2180696849081223,
          1.2182424140269028,
          1.6905634031686179,
          1.0285237595649943,
          1.218356719893203,
          1.0364993358475716,
          1.036570329434286,
          0.664852842303947,
          1.0365887525870607,
          1.2182299643397623,
          1.0324922021018765,
          0.8963860887661302,
          1.218040282432414,
          1.036605581745145,
          1.0365983258429718,
          1.2182475786759686,
          1.0365630000343666,
          1.578109819656716,
          0.34930845731511173,
          0.8881503042002316,
          1.6905196497135422,
          0.8135801516387472,
          1.03657109418595,
          0.5443488070629772,
          1.8436282713929928,
          1.6910058906601964,
          1.6910530476408678,
          0.6648899866113693,
          1.578112507247585,
          1.7643791402485458,
          0.7803568211211337,
          1.0364829631963504,
          0.8132826330998929
         ],
         "z": [
          -0.577527859617189,
          -0.5778930166024688,
          -0.7059816691978785,
          -0.4965538430867054,
          -0.24709457358196568,
          -0.3959847838513311,
          -0.08167705273640626,
          -0.6268229517448746,
          -0.5775348377864321,
          -0.5777182455890724,
          -0.5775647317313266,
          -0.5775279184129652,
          -0.5775282630504183,
          -0.42765747935871534,
          -0.5296042764089753,
          -0.07696054430855678,
          -0.19595005175819935,
          -0.5775656588898003,
          -0.18274196569731369,
          -0.49655642570092196,
          -0.6602191662679668,
          -0.2695978909497005,
          -0.3966887398811861,
          -0.26322413382791654,
          -0.6682918312280561,
          -0.6682765713397751,
          -0.32039613084447377,
          -0.5776332640680999,
          -0.5775590460022195,
          -0.5863114027269608,
          -0.1822542398215273,
          -0.4965491111710355,
          0.10597156996610495,
          -0.3258697617192352,
          -0.4965504608290275,
          -0.5780045028082943,
          -0.5775521220060723,
          -0.4141426166152324,
          -0.49655169993735343,
          0.10597486650685049,
          -0.6682819457397904,
          -0.5776643095937398,
          -0.4931672131265077,
          -0.04693266480082294,
          -0.39600035635936154,
          -0.5296188208381123,
          -0.263225940673045,
          -0.6682737414641622,
          -0.2633161777359459,
          -0.5775282993959036,
          -0.6682750776306823,
          -0.18224169487412678,
          -0.5775331787945027,
          -0.49654956426293156,
          -0.5014743554609497,
          -0.8423976146899298,
          -0.1025538979513152,
          -0.26325696859733516,
          -0.6682835396730143,
          -0.39608738196936716,
          -0.626789536812828,
          -0.46679907611588317,
          -0.3959854971966163,
          -0.5022893288049872,
          -0.39598487518479447,
          -0.6039703241143034,
          -0.5775344243900428,
          -0.26325028435060244,
          -0.4965875988486676,
          -0.2834139338353629,
          -0.3959873671087196,
          -0.41282953163070835,
          -0.07696667714349734,
          -0.4965963343188707,
          -0.396003244483315,
          -0.39603572107707774,
          -0.600986604632286,
          -0.49656922095091477,
          -0.1235125893630994,
          -0.5779556968704107,
          -0.5775332992830093,
          -0.577567032553993,
          -0.35398188614733583,
          -0.18249641307250516,
          -0.49655837943538655,
          -0.5775490826851827,
          -0.3959844839755381,
          -0.49654958409484296,
          -0.5775305675026736,
          -0.5775284408311329,
          -0.26326861085598385,
          -0.3196171702213358,
          -0.7897363959967322,
          -0.07698784066746236,
          -0.5775379037638548,
          -0.49676657744156766,
          -0.07700708550497026,
          -0.3539629455989783,
          -0.7815577079548572,
          -0.07699190623117161,
          -0.7830439178081853,
          0.14528010925286933,
          -0.4965573698807552,
          -0.6959731769966172,
          -0.49655062018817037,
          -0.07697842902947401,
          -0.5775365298786416,
          -0.5775324621260987,
          -0.07696667714349734,
          -0.49655645581273133,
          -0.3959879337171158,
          -0.5775369647240655,
          -0.05503231992921987,
          -0.5775337586662476,
          -0.5775910614704122,
          -0.4965498153638201,
          -0.5775436334920959,
          -0.27634382416341796,
          -0.5775300975956374,
          -0.5775291584932125,
          -0.22627371391609297,
          -0.4120669005293226,
          -0.5775810946624461,
          -0.39598506243758286,
          -0.49655166789584604,
          -0.5775332438139357,
          -0.57752997219687,
          -0.26322373731906606,
          -0.25990723234258234,
          -0.35396765603985464,
          -0.5779195891332934,
          -0.2632317680568853,
          -0.4965622654642242,
          -0.8114937243267784,
          -0.4965923898519393,
          -0.07700229983577636,
          -0.49656476986351955,
          -0.07711596024666158,
          -0.49663161872880623,
          -0.5775314220723254,
          -0.5775308379821343,
          -0.57762011850378,
          -0.08861061484728154,
          -0.4965579399870116,
          -0.2634904424479377,
          -0.07696501857014666,
          -0.5775439305777458,
          -0.647255152302214,
          -0.08169383590744846,
          -0.12353711436630327,
          -0.6775028898882386,
          -0.6009554822897263,
          -0.6009832231908172,
          -0.7398964012336097,
          -0.6682811658110922,
          -0.5848433604284514,
          -0.6682803376647337,
          -0.2789648659570042,
          -0.7399085440831461,
          -0.49655375244034844,
          -0.2632249907902863,
          2.416135662492656,
          -0.07696571495149958,
          -0.5775381585086334,
          -0.5775295048647744,
          -0.24595740615432746,
          -0.02454707467261945,
          -0.496553773635873,
          -0.3204863844655775,
          -0.5775296505712644,
          0.0007499743814070002,
          -0.5943500353672048,
          -0.3960191624923459,
          -0.6012317984773515,
          -0.6394899077115587,
          -0.5775304379821505,
          -0.5406068685235033,
          -0.11153690770727356,
          -0.5775341242883492,
          -0.08519787311523935,
          -0.4965738195154206,
          0.14519167007653275,
          -0.6122255500255397,
          -0.6683463636379662,
          -0.577580453480967,
          -0.286649769443155,
          -0.22627610341560023,
          -0.5836049001123522,
          -0.5775441985896864,
          -0.49656725129881,
          -0.2262884135732726,
          -0.5777878402799256,
          -0.5775289784323735,
          -0.18224230156334753,
          -0.12350637013839148,
          0.12569786815461217,
          -0.2095917256374357,
          -0.5776195936516959,
          -0.35410465576600963,
          -0.38805473360099974,
          -0.4965520629789028,
          -0.4068587293607857,
          -0.26323687847016886,
          -0.1399355026564387,
          -0.6009620479451971,
          -0.5775283892983892,
          -0.5775286743435528,
          -0.2633439380378075,
          -0.26019235531046647,
          -0.07697350282558815,
          -0.5775335832739875,
          0.028898163501043534,
          -0.540639535554582,
          -0.07696952965277352,
          -0.05002371934059466,
          -0.5784203521775264,
          -0.01286296742251531,
          -0.2632317878317659,
          -0.5815235008328073,
          -0.2632241345481234,
          -0.7820474786612404,
          -0.5775420683681852,
          -0.3124903601225707,
          -0.25884166182814305,
          -0.22632986569884211,
          -0.0816988637435212,
          0.02780558083076397,
          -0.36434698513034486,
          -0.22627323726043658,
          -0.540581492950729,
          -0.2647729093391597,
          -0.31355951851869224,
          -0.22629818294115012,
          -0.5776215877832408,
          -0.1822498863087628,
          -0.49656293583921063,
          -0.2632740322657067,
          -0.07698098006160994,
          -0.4111182074064576,
          -0.1822496073608162,
          -0.5795034071792263,
          -0.43191613120642464,
          -0.0925496523350517,
          0.08752261557160577,
          -0.18739549168486827,
          -0.5405947990402975,
          -0.5775342215475346,
          -0.5405864708559651,
          -0.22627099211474572,
          -0.5936536325291808,
          -0.18224107574494192,
          -0.5775417529243505,
          -0.4069587376724475,
          -0.7827574225041649,
          -0.49659241676271204,
          -0.4965589977627441,
          0.14493231291290345,
          -0.5853415295329724,
          -0.4966217908863483,
          -0.5775473412217406,
          -0.5775390222322047,
          -0.0816755576265294,
          -0.5775307453051144,
          -0.4967259057375334,
          -0.5787888525869717,
          -0.4013749803162976,
          -0.4967893044247852,
          -0.5775472184635139,
          -0.5776858447180607,
          -0.49662860228591066,
          -0.5775736442876924,
          -0.07696081645801102,
          -0.16852708275179662,
          -0.3960144172120537,
          0.14527335441654993,
          -0.26713597812240275,
          -0.5776309983465432,
          -0.32040069635422863,
          -0.6682720834162138,
          0.1450182664466893,
          0.14498775377216833,
          -0.08206403685778878,
          -0.07696241925340588,
          0.08420735598343017,
          0.035055578152285605,
          -0.5775553605205577,
          -0.2632179262025632
         ]
        },
        {
         "customdata": [
          [
           "Bitcoin",
           "SHA-256"
          ],
          [
           "Ethereum",
           "Ethash"
          ],
          [
           "Litecoin",
           "Scrypt"
          ],
          [
           "Monero",
           "CryptoNight-V7"
          ],
          [
           "Ethereum Classic",
           "Ethash"
          ],
          [
           "ZCash",
           "Equihash"
          ],
          [
           "DigiByte",
           "Multiple"
          ],
          [
           "ProsperCoin",
           "Scrypt"
          ],
          [
           "Spreadcoin",
           "X11"
          ],
          [
           "Argentum",
           "Scrypt"
          ],
          [
           "MyriadCoin",
           "Multiple"
          ],
          [
           "MoonCoin",
           "Scrypt"
          ],
          [
           "ZetaCoin",
           "SHA-256"
          ],
          [
           "SexCoin",
           "Scrypt"
          ],
          [
           "Quatloo",
           "Scrypt"
          ],
          [
           "QuarkCoin",
           "Quark"
          ],
          [
           "Riecoin",
           "Groestl"
          ],
          [
           "Digitalcoin ",
           "Scrypt"
          ],
          [
           "Catcoin",
           "Scrypt"
          ],
          [
           "CannaCoin",
           "Scrypt"
          ],
          [
           "CryptCoin",
           "X11"
          ],
          [
           "Verge",
           "Multiple"
          ],
          [
           "DevCoin",
           "SHA-256"
          ],
          [
           "EarthCoin",
           "Scrypt"
          ],
          [
           "E-Gulden",
           "Scrypt"
          ],
          [
           "Einsteinium",
           "Scrypt"
          ],
          [
           "Emerald",
           "Scrypt"
          ],
          [
           "Franko",
           "Scrypt"
          ],
          [
           "FeatherCoin",
           "NeoScrypt"
          ],
          [
           "GrandCoin",
           "Scrypt"
          ],
          [
           "GlobalCoin",
           "Scrypt"
          ],
          [
           "GoldCoin",
           "Scrypt"
          ],
          [
           "Infinite Coin",
           "Scrypt"
          ],
          [
           "IXcoin",
           "SHA-256"
          ],
          [
           "KrugerCoin",
           "Scrypt"
          ],
          [
           "LuckyCoin",
           "Scrypt"
          ],
          [
           "Litebar ",
           "Scrypt"
          ],
          [
           "MegaCoin",
           "Scrypt"
          ],
          [
           "MediterraneanCoin",
           "HybridScryptHash256"
          ],
          [
           "MinCoin",
           "Scrypt"
          ],
          [
           "NobleCoin",
           "Scrypt"
          ],
          [
           "Namecoin",
           "SHA-256"
          ],
          [
           "NyanCoin",
           "Scrypt"
          ],
          [
           "RonPaulCoin",
           "Scrypt"
          ],
          [
           "StableCoin",
           "Scrypt"
          ],
          [
           "SmartCoin",
           "Scrypt"
          ],
          [
           "SysCoin",
           "SHA-256"
          ],
          [
           "TigerCoin",
           "SHA-256"
          ],
          [
           "TerraCoin",
           "SHA-256"
          ],
          [
           "UnbreakableCoin",
           "SHA-256"
          ],
          [
           "Unobtanium",
           "SHA-256"
          ],
          [
           "UroCoin",
           "X11"
          ],
          [
           "ViaCoin",
           "Scrypt"
          ],
          [
           "Vertcoin",
           "Lyra2REv2"
          ],
          [
           "WorldCoin",
           "Scrypt"
          ],
          [
           "JouleCoin",
           "SHA-256"
          ],
          [
           "ByteCoin",
           "CryptoNight"
          ],
          [
           "DigitalNote ",
           "CryptoNight"
          ],
          [
           "MonaCoin",
           "Scrypt"
          ],
          [
           "Gulden",
           "Scrypt"
          ],
          [
           "PesetaCoin",
           "Scrypt"
          ],
          [
           "Wild Beast Coin",
           "Scrypt"
          ],
          [
           "Flo",
           "Scrypt"
          ],
          [
           "ArtByte",
           "Scrypt"
          ],
          [
           "Folding Coin",
           "Stanford Folding"
          ],
          [
           "Unitus",
           "Multiple"
          ],
          [
           "CypherPunkCoin",
           "QuBit"
          ],
          [
           "OmniCron",
           "Scrypt"
          ],
          [
           "GreenCoin",
           "Scrypt"
          ],
          [
           "Cryptonite",
           "M7 POW"
          ],
          [
           "MasterCoin",
           "Scrypt"
          ],
          [
           "SoonCoin",
           "SHA-256"
          ],
          [
           "1Credit",
           "Scrypt"
          ],
          [
           "MarsCoin ",
           "X11"
          ],
          [
           "Crypto",
           "Lyra2RE"
          ],
          [
           "Anarchists Prime",
           "SHA-256"
          ],
          [
           "BowsCoin",
           "X11"
          ],
          [
           "Song Coin",
           "Scrypt"
          ],
          [
           "BitZeny",
           "Scrypt"
          ],
          [
           "Expanse",
           "Ethash"
          ],
          [
           "Siacoin",
           "Blake2b"
          ],
          [
           "MindCoin",
           "X11"
          ],
          [
           "I0coin",
           "SHA-256"
          ],
          [
           "Revolution VR",
           "Scrypt"
          ],
          [
           "HOdlcoin",
           "1GB AES Pattern Search"
          ],
          [
           "Gamecredits",
           "Scrypt"
          ],
          [
           "CarpeDiemCoin",
           "SHA-256"
          ],
          [
           "Adzcoin",
           "X11"
          ],
          [
           "SoilCoin",
           "Dagger"
          ],
          [
           "YoCoin",
           "Scrypt"
          ],
          [
           "SibCoin",
           "X11GOST"
          ],
          [
           "Francs",
           "Scrypt"
          ],
          [
           "BolivarCoin",
           "X11"
          ],
          [
           "Omni",
           "Scrypt"
          ],
          [
           "PizzaCoin",
           "X11"
          ],
          [
           "Komodo",
           "Equihash"
          ],
          [
           "Karbo",
           "CryptoNight"
          ],
          [
           "ZayedCoin",
           "SHA-256"
          ],
          [
           "Circuits of Value",
           "Multiple"
          ],
          [
           "DopeCoin",
           "Scrypt"
          ],
          [
           "DollarCoin",
           "SHA-256"
          ],
          [
           "Shilling",
           "Scrypt"
          ],
          [
           "ZCoin",
           "Lyra2Z"
          ],
          [
           "Elementrem",
           "Ethash"
          ],
          [
           "ZClassic",
           "Equihash"
          ],
          [
           "KiloCoin",
           "Scrypt"
          ],
          [
           "ArtexCoin",
           "X11"
          ],
          [
           "Kurrent",
           "X11"
          ],
          [
           "Cannabis Industry Coin",
           "CryptoNight"
          ],
          [
           "OsmiumCoin",
           "Scrypt"
          ],
          [
           "Bikercoins",
           "CryptoNight"
          ],
          [
           "HexxCoin",
           "Lyra2RE"
          ],
          [
           "PacCoin",
           "X11"
          ],
          [
           "Citadel",
           "CryptoNight-V7"
          ],
          [
           "BeaverCoin",
           "Scrypt"
          ],
          [
           "VaultCoin",
           "X11"
          ],
          [
           "Zero",
           "Equihash"
          ],
          [
           "Canada eCoin",
           "Scrypt"
          ],
          [
           "Zoin",
           "Lyra2RE"
          ],
          [
           "DubaiCoin",
           "Dagger-Hashimoto"
          ],
          [
           "EB3coin",
           "Scrypt"
          ],
          [
           "Coinonat",
           "NIST5"
          ],
          [
           "BenjiRolls",
           "Scrypt"
          ],
          [
           "ILCoin",
           "SHA-256"
          ],
          [
           "EquiTrader",
           "Scrypt"
          ],
          [
           "Quantum Resistant Ledger",
           "CryptoNight-V7"
          ],
          [
           "Dynamic",
           "Argon2d"
          ],
          [
           "Nano",
           "Blake2b"
          ],
          [
           "ChanCoin",
           "Cloverhash"
          ],
          [
           "Dinastycoin",
           "CryptoNight"
          ],
          [
           "DigitalPrice",
           "X11"
          ],
          [
           "Unify",
           "Scrypt"
          ],
          [
           "SocialCoin",
           "Scrypt"
          ],
          [
           "ArcticCoin",
           "X11"
          ],
          [
           "DAS",
           "X11"
          ],
          [
           "LeviarCoin",
           "CryptoNight"
          ],
          [
           "Bitcore",
           "Time Travel"
          ],
          [
           "gCn Coin",
           "Scrypt"
          ],
          [
           "SmartCash",
           "Keccak"
          ],
          [
           "Onix",
           "X11"
          ],
          [
           "Bitcoin Cash",
           "SHA-256"
          ],
          [
           "Sojourn Coin",
           "Scrypt"
          ],
          [
           "NewYorkCoin",
           "Scrypt"
          ],
          [
           "FrazCoin",
           "Scrypt"
          ],
          [
           "Kronecoin",
           "Scrypt"
          ],
          [
           "AdCoin",
           "Scrypt"
          ],
          [
           "Linx",
           "Scrypt"
          ],
          [
           "Sumokoin",
           "CryptoNight"
          ],
          [
           "BitcoinZ",
           "Equihash"
          ],
          [
           "Elements",
           "X11"
          ],
          [
           "VIVO Coin",
           "NeoScrypt"
          ],
          [
           "Bitcoin Gold",
           "Equihash"
          ],
          [
           "Pirl",
           "Dagger"
          ],
          [
           "eBoost",
           "Scrypt"
          ],
          [
           "Pura",
           "X11"
          ],
          [
           "Innova",
           "NeoScrypt"
          ],
          [
           "Ellaism",
           "Ethash"
          ],
          [
           "GoByte",
           "NeoScrypt"
          ],
          [
           "SHIELD",
           "Multiple"
          ],
          [
           "UltraNote",
           "CryptoNight"
          ],
          [
           "BitCoal",
           "CryptoNight"
          ],
          [
           "DaxxCoin",
           "Ethash"
          ],
          [
           "AC3",
           "X11"
          ],
          [
           "Lethean",
           "CryptoNight-V7"
          ],
          [
           "PopularCoin",
           "Scrypt"
          ],
          [
           "Photon",
           "BLAKE256"
          ],
          [
           "Sucre",
           "X11"
          ],
          [
           "SparksPay",
           "NeoScrypt"
          ],
          [
           "GunCoin",
           "NeoScrypt"
          ],
          [
           "IrishCoin",
           "Scrypt"
          ],
          [
           "Pioneer Coin",
           "X11"
          ],
          [
           "UnitedBitcoin",
           "SHA-256"
          ],
          [
           "Interzone",
           "C11"
          ],
          [
           "TurtleCoin",
           "CryptoNight"
          ],
          [
           "MUNcoin",
           "SkunkHash"
          ],
          [
           "Niobio Cash",
           "CryptoNight"
          ],
          [
           "ShareChain",
           "Scrypt"
          ],
          [
           "Travelflex",
           "Dagger"
          ],
          [
           "KREDS",
           "Lyra2REv2"
          ],
          [
           "BitFlip",
           "Scrypt"
          ],
          [
           "LottoCoin",
           "Scrypt"
          ],
          [
           "Crypto Improvement Fund",
           "X11"
          ],
          [
           "Callisto Network",
           "Ethash"
          ],
          [
           "BitTube",
           "CryptoNight"
          ],
          [
           "Poseidon",
           "Scrypt"
          ],
          [
           "Aidos Kuneen",
           "IMesh"
          ],
          [
           "Bitrolium",
           "Equihash"
          ],
          [
           "Alpenschillling",
           "Lyra2Z"
          ],
          [
           "FuturoCoin",
           "X11"
          ],
          [
           "Monero Classic",
           "CryptoNight"
          ],
          [
           "Jumpcoin",
           "NIST5"
          ],
          [
           "Infinex",
           "Lyra2RE"
          ],
          [
           "KEYCO",
           "Tribus"
          ],
          [
           "GINcoin",
           "Lyra2Z"
          ],
          [
           "PlatinCoin",
           "CryptoNight"
          ],
          [
           "Loki",
           "CryptoNight Heavy"
          ],
          [
           "Newton Coin",
           "CryptoNight"
          ],
          [
           "MassGrid",
           "Jump Consistent Hash"
          ],
          [
           "PluraCoin",
           "CryptoNight"
          ],
          [
           "Motion",
           "X16R"
          ],
          [
           "PlusOneCoin",
           "HMQ1725"
          ],
          [
           "Axe",
           "X11"
          ],
          [
           "HexCoin",
           "Scrypt"
          ],
          [
           "Webchain",
           "CryptoNight-V7"
          ],
          [
           "Ryo",
           "Cryptonight-GPU"
          ],
          [
           "Urals Coin",
           "XEVAN"
          ],
          [
           "Qwertycoin",
           "CryptoNight Heavy"
          ],
          [
           "Project Pai",
           "SHA-256"
          ],
          [
           "Azart",
           "X11"
          ],
          [
           "Xchange",
           "X16R"
          ],
          [
           "CrypticCoin",
           "Equihash"
          ],
          [
           "Actinium",
           "Lyra2Z"
          ],
          [
           "Bitcoin SV",
           "SHA-256"
          ],
          [
           "FREDEnergy",
           "CryptoNight"
          ],
          [
           "Universal Molecule",
           "Blake"
          ],
          [
           "Lithium",
           "Blake"
          ],
          [
           "PirateCash",
           "Equihash"
          ],
          [
           "Exosis",
           "Exosis"
          ],
          [
           "Block-Logic",
           "Scrypt"
          ],
          [
           "Beam",
           "Equihash"
          ],
          [
           "Bithereum",
           "Equihash"
          ],
          [
           "SLICE",
           "QuBit"
          ],
          [
           "BLAST",
           "SHA-256"
          ],
          [
           "Bitcoin Rhodium",
           "X13"
          ],
          [
           "GlobalToken",
           "SHA-256"
          ],
          [
           "SolarCoin",
           "Scrypt"
          ],
          [
           "UFO Coin",
           "NeoScrypt"
          ],
          [
           "BlakeCoin",
           "Blake"
          ],
          [
           "Crypto Escudo",
           "Scrypt"
          ],
          [
           "Crown Coin",
           "SHA-256"
          ],
          [
           "SmileyCoin",
           "Scrypt"
          ],
          [
           "Groestlcoin",
           "Groestl"
          ],
          [
           "Bata",
           "Scrypt"
          ],
          [
           "Pakcoin",
           "Scrypt"
          ],
          [
           "JoinCoin",
           "Multiple"
          ],
          [
           "Vollar",
           "Equihash+Scrypt"
          ],
          [
           "Reality Clash",
           "Ethash"
          ],
          [
           "Beldex",
           "CryptoNight"
          ],
          [
           "Horizen",
           "Equihash"
          ]
         ],
         "hovertemplate": "Class=%{marker.color}<br>PC1=%{x}<br>PC2=%{y}<br>PC3=%{z}<br>CoinName=%{customdata[0]}<br>Algorithm=%{customdata[1]}<extra></extra>",
         "legendgroup": "1",
         "marker": {
          "color": [
           1,
           1,
           1,
           1,
           1,
           1,
           1,
           1,
           1,
           1,
           1,
           1,
           1,
           1,
           1,
           1,
           1,
           1,
           1,
           1,
           1,
           1,
           1,
           1,
           1,
           1,
           1,
           1,
           1,
           1,
           1,
           1,
           1,
           1,
           1,
           1,
           1,
           1,
           1,
           1,
           1,
           1,
           1,
           1,
           1,
           1,
           1,
           1,
           1,
           1,
           1,
           1,
           1,
           1,
           1,
           1,
           1,
           1,
           1,
           1,
           1,
           1,
           1,
           1,
           1,
           1,
           1,
           1,
           1,
           1,
           1,
           1,
           1,
           1,
           1,
           1,
           1,
           1,
           1,
           1,
           1,
           1,
           1,
           1,
           1,
           1,
           1,
           1,
           1,
           1,
           1,
           1,
           1,
           1,
           1,
           1,
           1,
           1,
           1,
           1,
           1,
           1,
           1,
           1,
           1,
           1,
           1,
           1,
           1,
           1,
           1,
           1,
           1,
           1,
           1,
           1,
           1,
           1,
           1,
           1,
           1,
           1,
           1,
           1,
           1,
           1,
           1,
           1,
           1,
           1,
           1,
           1,
           1,
           1,
           1,
           1,
           1,
           1,
           1,
           1,
           1,
           1,
           1,
           1,
           1,
           1,
           1,
           1,
           1,
           1,
           1,
           1,
           1,
           1,
           1,
           1,
           1,
           1,
           1,
           1,
           1,
           1,
           1,
           1,
           1,
           1,
           1,
           1,
           1,
           1,
           1,
           1,
           1,
           1,
           1,
           1,
           1,
           1,
           1,
           1,
           1,
           1,
           1,
           1,
           1,
           1,
           1,
           1,
           1,
           1,
           1,
           1,
           1,
           1,
           1,
           1,
           1,
           1,
           1,
           1,
           1,
           1,
           1,
           1,
           1,
           1,
           1,
           1,
           1,
           1,
           1,
           1,
           1,
           1,
           1,
           1,
           1,
           1,
           1,
           1,
           1,
           1,
           1,
           1,
           1,
           1,
           1,
           1,
           1,
           1,
           1,
           1,
           1,
           1,
           1,
           1,
           1,
           1,
           1
          ],
          "coloraxis": "coloraxis",
          "symbol": "diamond"
         },
         "mode": "markers",
         "name": "1",
         "scene": "scene",
         "showlegend": true,
         "type": "scatter3d",
         "x": [
          -0.14720079923853419,
          -0.1562023189199611,
          -0.16398908663421455,
          -0.14910888022365526,
          -0.1546460157260122,
          -0.1312145805996701,
          0.1569532945621826,
          -0.16513436506106938,
          -0.23085156712235966,
          -0.16475129088990412,
          -0.0962248701623323,
          2.5537613572396087,
          -0.14428814640127696,
          -0.1620090962815487,
          -0.1645555591197756,
          -0.22636222148651527,
          -0.20379353105356554,
          -0.16460414449700564,
          -0.1651166431029556,
          -0.1652030166979492,
          -0.2309408430083151,
          0.18069950842435872,
          0.23032779535012946,
          0.08331890144493881,
          -0.16494950679543924,
          -0.16055862164944124,
          -0.16488887409197983,
          -0.16525997541460935,
          -0.17753640320542532,
          -0.1445005467873152,
          -0.1640560710760868,
          -0.16433333724023538,
          1.5821965917266188,
          -0.14716219486101403,
          -0.1616251354177219,
          -0.16497592752404885,
          -0.16533044578210745,
          -0.16459031767293422,
          -0.14179402721115175,
          -0.1652118181605679,
          -0.030252709144677557,
          -0.14723975278211623,
          -0.15888099148945936,
          -0.1651913058578133,
          -0.16328760693325967,
          -0.16467848569953467,
          -0.13440309408275575,
          -0.14670396094284477,
          -0.14699095640085905,
          -0.14697406462787482,
          -0.14756413592001694,
          -0.23111456655165707,
          -0.16490799337776524,
          -0.19791526707937077,
          -0.1620138524027534,
          -0.1467712041784565,
          3.8555967215213136,
          0.4573843975478307,
          -0.16377659690055157,
          -0.14839057082568816,
          -0.16249646347192714,
          -0.16533265735482552,
          -0.16236157556646819,
          -0.14859702452671064,
          -0.14522308759341462,
          -0.130202517413846,
          -0.18275907126312863,
          -0.16520582321696012,
          -0.038259353692394006,
          -0.1213290772270542,
          -0.16534153796140497,
          -0.1472675114891154,
          0.4861021876100423,
          -0.23050226500853233,
          -0.15651948204082253,
          -0.1470076464487357,
          -0.23078693548769263,
          -0.16346720890037023,
          -0.16266011499650568,
          -0.15726910401191926,
          0.3574772894887916,
          -0.23082229353584235,
          -0.14716331645221828,
          -0.16130275425625717,
          -0.16735337583842444,
          -0.16390610940965875,
          0.27097334944897106,
          -0.22998378444674797,
          -0.15518373491116438,
          -0.1641536168429238,
          -0.15664440484623196,
          -0.16513164905647126,
          -0.23078558845327013,
          -0.16534159640769458,
          -0.23093545804538299,
          -0.17241938641006427,
          0.30242358423821336,
          -0.14742319215350227,
          -0.11029202194313217,
          -0.16251081441396384,
          -0.1473818524855048,
          -0.1650053111987008,
          -0.15325941774689264,
          -0.1570114628895696,
          -0.13123618304384993,
          -0.09214676459198538,
          -0.21752925425399397,
          -0.22876567871388165,
          0.30241791927796907,
          -0.1653233528364302,
          0.3025485350038737,
          -0.15705939568160782,
          0.4835290899916799,
          -0.14787496921299748,
          -0.16529166332560913,
          -0.22367732533915577,
          -0.1312485375938363,
          -0.16342647844907204,
          -0.15677799881407425,
          -0.16174017131160823,
          -0.1362468783476122,
          -0.19352574657924132,
          -0.16485443205171005,
          -0.1137784946126699,
          -0.1646767258103945,
          -0.14773256298465587,
          -0.15919685041203488,
          -0.0425562804586441,
          -0.17070397592699524,
          0.3385096265989233,
          -0.22999221998100727,
          -0.16499561439350838,
          -0.1647593209733469,
          -0.23038651413635128,
          -0.23096345351665354,
          0.3028125416303362,
          -0.1289008937247034,
          3.241457529517244,
          -0.13155220625595543,
          -0.22184497036312092,
          -0.14719996402046687,
          -0.09099676712294377,
          1.5804971422747482,
          -0.16509339797936912,
          -0.16454560237824611,
          -0.16424682732854948,
          -0.16423376708340515,
          0.3029959233610713,
          0.08087173787441981,
          -0.18538651638652712,
          -0.18222105113039286,
          -0.1310947047955198,
          -0.15394404593506147,
          -0.16342468881372238,
          -0.22651187963276734,
          -0.1820666212025125,
          -0.15537852700682359,
          -0.1821667192309801,
          -0.12044290178120043,
          1.1395405508253678,
          0.30240072596452205,
          -0.08034752585217396,
          -0.22625422566308814,
          -0.13685465735235255,
          -0.08155267847049479,
          1.075112037776385,
          -0.23093747237396683,
          -0.18221859351230366,
          -0.17526259738994,
          -0.16434503630916014,
          -0.23086293976339078,
          -0.14717937284588667,
          -0.20388688856374065,
          8.032025988559544,
          -0.1618148620028042,
          0.3062715729788601,
          0.027538557703969176,
          -0.15344742877749107,
          -0.1834861062708299,
          -0.1649183018872183,
          0.14189571495030143,
          -0.22500923267343614,
          -0.10846736687507408,
          0.31031555786929604,
          -0.16515509573892453,
          -0.15899021764180074,
          -0.13008662362820356,
          -0.15104526052823805,
          -0.23003296493788375,
          0.3025831039367128,
          -0.19358508627804938,
          -0.15690478736680288,
          -0.16818788981691707,
          -0.15334370466714853,
          0.3065069260784001,
          0.5658985344966652,
          2.109297250722662,
          -0.1536821837259258,
          0.3161759325797847,
          -0.2028851449194102,
          -0.15476306321780983,
          -0.23091964821314487,
          -0.16517966433531445,
          -0.1367368695753277,
          -0.15611812327200167,
          -0.1569636287140704,
          3.086201748205673,
          -0.10706102951396784,
          -0.23089104513511569,
          -0.20231348719981243,
          -0.025934613547031717,
          -0.1527420836386456,
          -0.14720000156060858,
          0.38226531944680986,
          -0.1415408230834373,
          -0.14193234330722443,
          -0.2488177735873622,
          -0.14745216275177925,
          -0.16407300176439757,
          -0.12915684208954964,
          -0.13092766595980493,
          -0.18197087663283065,
          -0.14647676076194519,
          -0.11939463960209856,
          -0.1453457745616053,
          0.529973731187556,
          -0.10744655607114677,
          -0.09245210724212186,
          -0.1487475092216946,
          -0.1469903272758694,
          0.5498644806002708,
          -0.20335488992898984,
          -0.1652563995648405,
          -0.1632140199458738,
          -0.1309369162966555,
          -0.13949279524436242,
          -0.15704459392958642,
          0.32413902236554404,
          -0.13121563683581935
         ],
         "y": [
          -1.2786713443159496,
          -2.0131793329308656,
          -1.1302546263299917,
          -2.244049141271256,
          -2.0132676294145817,
          -2.1108160638222797,
          -1.7972827848270156,
          -1.1302538688299961,
          -0.9485908431410244,
          -1.130269505777116,
          -1.7935562756478467,
          -1.2965095199562584,
          -1.2786652554905777,
          -1.1302959836017485,
          -1.1302873377609997,
          -0.4802530288974865,
          -1.162171673013045,
          -1.1302528159725542,
          -1.1302531966306801,
          -1.130250958548246,
          -0.9485928262833605,
          -1.7932636506663706,
          -1.2790695901779776,
          -1.1302862836143908,
          -1.1302468570991844,
          -1.1302758990363901,
          -1.130252274439076,
          -1.130251783108963,
          -1.622506253730809,
          -1.130453131497659,
          -1.1302473452343187,
          -1.1302594375177852,
          -1.1275236470151027,
          -1.2786698800400513,
          -1.1302922384604046,
          -1.1302471576858142,
          -1.1302475205834144,
          -1.1302479656996112,
          -2.215100743976458,
          -1.130249089492894,
          -1.1356464292843191,
          -1.2786728218358285,
          -1.1302383693218723,
          -1.1302560286119114,
          -1.1303444779035843,
          -1.1302577642894098,
          -1.27879417570802,
          -1.2786707480358346,
          -1.2786781176668487,
          -1.2787041362262195,
          -1.2786705684236428,
          -0.9485867875957041,
          -1.1302466856019449,
          -1.2383579739662804,
          -1.130306982615078,
          -1.2786718870767073,
          -2.30935779132805,
          -2.3158536993015515,
          -1.1302613834704782,
          -1.1307826591522223,
          -1.1302558093742632,
          -1.1302485010623746,
          -1.1302462128741677,
          -1.1303134293922512,
          -2.1617062613578493,
          -1.7934419387996772,
          -1.648926012686612,
          -1.1302442116998568,
          -1.1324423251522877,
          -2.324378751012796,
          -1.130247428808371,
          -1.2786738747321136,
          -1.1700810281466394,
          -0.9485867142809369,
          -2.2111434744085754,
          -1.2786870010678462,
          -0.9485890932029878,
          -1.1303233962467547,
          -1.1303206769416294,
          -2.013231657264381,
          -2.1663181413127663,
          -0.9485869265459981,
          -1.2786699225823508,
          -1.1302411294427508,
          -2.227580089614626,
          -1.1302514789783713,
          -1.277967264646765,
          -0.9486028276998487,
          -2.1590066908195653,
          -1.130320044486103,
          -2.2767085876681072,
          -1.1302530642513835,
          -0.9485918483484539,
          -1.1302474288995306,
          -0.9485975329481295,
          -1.7193651198514237,
          -2.3147228289191473,
          -1.2786718773788157,
          -1.7935285992578016,
          -1.130279935938464,
          -1.2786709423684421,
          -1.1302552878148608,
          -2.2116934815557228,
          -2.0132284087609453,
          -2.1108168832096235,
          -1.1344862912043638,
          -0.9484222723882032,
          -0.9486576491753922,
          -2.314730760949793,
          -1.1302482086739154,
          -2.3147286128940747,
          -2.211124814112559,
          -0.99163610652671,
          -2.244132127196438,
          -1.130247459687969,
          -0.9490062504754027,
          -2.110814545582605,
          -1.1302445113842547,
          -2.2111218578005802,
          -2.1749951724687047,
          -1.1319496637249913,
          -0.6176195254467065,
          -1.1302534378127589,
          -1.2791427925883088,
          -1.130272289978532,
          -2.2440706009065265,
          -2.278292174080378,
          -2.1817302659327686,
          -2.1275824457340127,
          -2.314750178095791,
          -0.9486143726178382,
          -1.130247397046829,
          -1.1302775275176113,
          -0.9486012659273377,
          -0.9485943153106402,
          -2.314738944273613,
          -2.3877466306555855,
          -1.1413380036442575,
          -1.1587948178004692,
          -0.9490069046605737,
          -1.278671312635874,
          -1.1347934513090043,
          -1.0640267966654429,
          -1.1302516133762768,
          -1.1302757351431505,
          -1.130275627469302,
          -1.1302751320901905,
          -2.3147564651868566,
          -2.1174895860486944,
          -0.9481151161063146,
          -1.6224671619112394,
          -2.1108115168961965,
          -2.1590482807523457,
          -1.130244443502836,
          -0.9486577521700975,
          -1.6224739324116582,
          -2.0133445229732,
          -1.6224684685722768,
          -1.7935347829979391,
          -2.3425962861144103,
          -2.3147254498398016,
          -2.017317734563236,
          -0.9487882912206541,
          -2.2442855308091474,
          -1.1305766556423604,
          -1.0121216858222337,
          -0.9485939612416672,
          -1.6224628593346868,
          -1.6225350633723385,
          -1.1302540964160483,
          -0.9485933791879646,
          -1.2786699465054856,
          -1.1560918113789351,
          -2.7230893431879757,
          -2.358531024800288,
          -2.314805581993945,
          -1.129946590156924,
          -2.1589899413751192,
          -1.23852345614305,
          -1.1302590031221829,
          -1.1315069865026404,
          -0.948705990267841,
          -2.015928869739113,
          -2.315118028061256,
          -1.1302546551509765,
          -2.3393661661588716,
          -2.110807656494265,
          -2.2118049524312204,
          -0.948615918086571,
          -2.3147226713896534,
          -0.6176026573141171,
          -2.2111303711646837,
          -2.2234195021709304,
          -2.2116890315835125,
          -2.314981867109098,
          -2.1466442013723936,
          -2.3752675292047667,
          -2.1550656651069744,
          -2.314895742247914,
          -1.1695516430388064,
          -2.1511839017774106,
          -0.9485941270374394,
          -1.1302563624533912,
          -2.2448075966230268,
          -2.129601962275675,
          -0.7001723384767434,
          -2.1803598144428014,
          -1.278607373183627,
          -0.9485958483527974,
          -1.1695846284362594,
          -2.1121398834729828,
          -2.211717776552767,
          -1.278671314059783,
          -2.3173559943439317,
          -2.2313563256433437,
          -2.2313151276764964,
          -0.1673191581931405,
          -2.0714110147051956,
          -1.1302830654067253,
          -2.1109076503096094,
          -2.1108121166812666,
          -1.6489662721945106,
          -1.2786740483822072,
          -0.32320384937944974,
          -1.2787041119394287,
          -1.1726964813354894,
          -1.622418239122767,
          -2.234331545677635,
          -1.1303191373229673,
          -1.2786780938039446,
          -1.1381969963771184,
          -1.1621697679746228,
          -1.1302472726806359,
          -1.1302939806653156,
          -1.79347175914217,
          -2.1664897500462925,
          -2.0132284604359993,
          -2.314874479869506,
          -2.1108161038856403
         ],
         "z": [
          0.17626424986337944,
          0.3836101004193888,
          -0.005300557826060683,
          0.41220626552088674,
          0.3835890570199868,
          0.43590610127105794,
          0.35859686403444563,
          -0.0052775954109872715,
          0.07569963318794491,
          -0.0052834849041986,
          0.36325863771203165,
          -0.04064382448682368,
          0.17620491907070868,
          -0.005335593434157776,
          -0.0052853482714528815,
          0.03157416230979841,
          0.04262846097253542,
          -0.005288389545897889,
          -0.005278030353993592,
          -0.0052765525083887,
          0.07570166089512954,
          0.3576510123629393,
          0.16871223311347236,
          -0.010274350813662599,
          -0.0052821323142637515,
          -0.005367124921675308,
          -0.005282721943116968,
          -0.0052753101229106245,
          0.25176563797295526,
          -0.005669686040834584,
          -0.0053000573423428714,
          -0.005293069084778977,
          -0.04076335598359559,
          0.17626330241141758,
          -0.00534375729699333,
          -0.0052815655585561035,
          -0.005274388047838345,
          -0.005289232517372377,
          0.5194564714669462,
          -0.005276592965808332,
          -0.007364491035773658,
          0.17626520588479033,
          -0.005405259305463328,
          -0.0052761979355409805,
          -0.005304215453061496,
          -0.0052863172087868945,
          0.17602097548573867,
          0.17625418075750268,
          0.17626081500705423,
          0.17626350419465717,
          0.17627147227783488,
          0.07570445432325147,
          -0.005282987806085751,
          0.2586801688603787,
          -0.005334217169821417,
          0.17625566674854726,
          0.324856189880604,
          0.3940070569464638,
          -0.00530404784276914,
          -0.005553028288585351,
          -0.005330461580064325,
          -0.005274229385878685,
          -0.005334293674875099,
          -0.0056035022686318796,
          0.369356625266604,
          0.36392918210226627,
          0.16020143737596537,
          -0.005277281511827197,
          -0.0075763760348305596,
          0.33120575715652595,
          -0.005274175484286431,
          0.17626588715575373,
          -0.01374799578658472,
          0.07569212221552452,
          0.3869952135047604,
          0.1762621851550086,
          0.07569812863708772,
          -0.005303055061640558,
          -0.005319615739405141,
          0.38363766298084223,
          0.4111677918169695,
          0.075698588026766,
          0.17626332993818664,
          -0.005356196018296141,
          0.2971891260963055,
          -0.0053025943032474565,
          0.16776583852130422,
          0.07568356291909398,
          0.46773434067047376,
          -0.005289630199170009,
          0.3983397545482722,
          -0.005277743746595307,
          0.0756984222884816,
          -0.005274174297346363,
          0.07570210047858647,
          0.6477061150026568,
          0.3969942378399092,
          0.1762687879461735,
          0.36353854002732366,
          -0.00532736385361786,
          0.17626784706075646,
          -0.005280027628837775,
          0.40780287247338165,
          0.3836320993299993,
          0.4359066314512978,
          -0.006253838629078123,
          0.0754118742692531,
          0.07566542903258565,
          0.3969952753283861,
          -0.005274450695343621,
          0.3969923963894281,
          0.3870039076616233,
          0.06633301597057312,
          0.4121910925207468,
          -0.005275175697982877,
          0.07560360283632517,
          0.4359066079530038,
          -0.005313058851645384,
          0.3869978999053148,
          0.36528378586227295,
          -0.0056615736750361785,
          -0.02870686214879341,
          -0.005283279702022261,
          0.17564645868492298,
          -0.005284661503190582,
          0.4121810632784904,
          0.48840375106502937,
          0.421013450964231,
          0.3171703081216737,
          0.39627113116485674,
          0.0756850767935811,
          -0.005281141460879626,
          -0.005282389369439035,
          0.07569148668776968,
          0.07570228932589343,
          0.39698828563491556,
          0.4375578480441599,
          -0.07255039139469113,
          0.16003883367559604,
          0.0755667998512686,
          0.176264229364955,
          -0.006241223671131852,
          -0.048121654089209195,
          -0.005278682527646993,
          -0.005286899480327858,
          -0.005292925353658663,
          -0.005293245886088056,
          0.39698663461662864,
          0.4324144688484271,
          0.07472918888688676,
          0.2518553729990063,
          0.4359031592066238,
          0.4677142319281429,
          -0.0053131027739579,
          0.0756200796227949,
          0.25185305308645517,
          0.3836127521992621,
          0.2518544316060468,
          0.3637435630529937,
          0.38339100199085957,
          0.39699500303593116,
          0.382565204061136,
          0.07563009167969281,
          0.4119871504102696,
          -0.006922234001858688,
          0.08815459156980483,
          0.07570172519099126,
          0.2518548226159674,
          0.2517232280126285,
          -0.005293455449643694,
          0.07570015733551937,
          0.17626365588463394,
          0.18419865679744055,
          0.2889666290745753,
          0.4363799804379325,
          0.3969264251314921,
          -0.009191228142017815,
          0.4676974446407028,
          0.25840902430159013,
          -0.005281346286128267,
          -0.011311187144127993,
          0.07559545242023086,
          0.382969465958142,
          0.3968814092573274,
          -0.005277086626162352,
          0.527814326889356,
          0.4358824204806731,
          0.40777128671874957,
          0.07568607678093725,
          0.39699100890442746,
          -0.02870763168094944,
          0.3870014428852898,
          0.4058257395308689,
          0.4078040508060977,
          0.3969422119301607,
          0.4081671330199244,
          0.36767674736609984,
          0.35349861968692076,
          0.39673758039939977,
          0.2079211398167442,
          0.3582596248811474,
          0.07570138575300193,
          -0.005276393373391463,
          0.41204556027635003,
          0.3867800776645863,
          0.16537708843416796,
          0.36136717709702426,
          0.17544892348402027,
          0.07570101047010143,
          0.20791347453146589,
          0.43394129259996633,
          0.4077952887761737,
          0.17626423028628782,
          0.395693853419422,
          0.35844571319206736,
          0.3584487967819086,
          0.17795267573312412,
          0.3091239597644684,
          -0.005295557930073733,
          0.43587534869653716,
          0.4358998671051152,
          0.16019026080516371,
          0.17624999221812102,
          -0.09601864747160009,
          0.17623072936056383,
          -0.014326483255007657,
          0.25034471797712193,
          0.357804106763883,
          -0.0055998089823005495,
          0.1762607995666885,
          -0.018743355347593575,
          0.04261941081037394,
          -0.005275907210949835,
          -0.005311575558534037,
          0.36394743486127856,
          0.3058923506639981,
          0.3836327721626576,
          0.3965748347322629,
          0.43590612719384314
         ]
        },
        {
         "customdata": [
          [
           "BiblePay",
           "Proof-of-BibleHash"
          ],
          [
           "LitecoinCash",
           "SHA-256 + Hive"
          ],
          [
           "Poa Network",
           "Proof-of-Authority"
          ],
          [
           "Acute Angle Cloud",
           "ECC 256K1"
          ],
          [
           "Waves",
           "Leased POS"
          ]
         ],
         "hovertemplate": "Class=%{marker.color}<br>PC1=%{x}<br>PC2=%{y}<br>PC3=%{z}<br>CoinName=%{customdata[0]}<br>Algorithm=%{customdata[1]}<extra></extra>",
         "legendgroup": "3",
         "marker": {
          "color": [
           3,
           3,
           3,
           3,
           3
          ],
          "coloraxis": "coloraxis",
          "symbol": "square"
         },
         "mode": "markers",
         "name": "3",
         "scene": "scene",
         "showlegend": true,
         "type": "scatter3d",
         "x": [
          -0.15408323343922917,
          -0.3818642641103628,
          -0.3820311606396263,
          -0.43005634924212605,
          -0.4059893740099547
         ],
         "y": [
          2.1400935194826407,
          3.520167026088751,
          3.108146074770236,
          4.101659915400575,
          2.972059025632312
         ],
         "z": [
          12.266109898466123,
          13.335796481075363,
          16.671521435805197,
          13.298588592830813,
          14.273822400359068
         ]
        },
        {
         "customdata": [
          [
           "BitTorrent",
           "TRC10"
          ]
         ],
         "hovertemplate": "Class=%{marker.color}<br>PC1=%{x}<br>PC2=%{y}<br>PC3=%{z}<br>CoinName=%{customdata[0]}<br>Algorithm=%{customdata[1]}<extra></extra>",
         "legendgroup": "2",
         "marker": {
          "color": [
           2
          ],
          "coloraxis": "coloraxis",
          "symbol": "x"
         },
         "mode": "markers",
         "name": "2",
         "scene": "scene",
         "showlegend": true,
         "type": "scatter3d",
         "x": [
          34.04466485652093
         ],
         "y": [
          1.8019320913472014
         ],
         "z": [
          -0.6575688343411729
         ]
        }
       ],
       "layout": {
        "coloraxis": {
         "colorbar": {
          "title": {
           "text": "Class"
          }
         },
         "colorscale": [
          [
           0,
           "#0d0887"
          ],
          [
           0.1111111111111111,
           "#46039f"
          ],
          [
           0.2222222222222222,
           "#7201a8"
          ],
          [
           0.3333333333333333,
           "#9c179e"
          ],
          [
           0.4444444444444444,
           "#bd3786"
          ],
          [
           0.5555555555555556,
           "#d8576b"
          ],
          [
           0.6666666666666666,
           "#ed7953"
          ],
          [
           0.7777777777777778,
           "#fb9f3a"
          ],
          [
           0.8888888888888888,
           "#fdca26"
          ],
          [
           1,
           "#f0f921"
          ]
         ]
        },
        "legend": {
         "title": {
          "text": "Class"
         },
         "tracegroupgap": 0,
         "x": 0,
         "y": 1
        },
        "margin": {
         "t": 60
        },
        "scene": {
         "domain": {
          "x": [
           0,
           1
          ],
          "y": [
           0,
           1
          ]
         },
         "xaxis": {
          "title": {
           "text": "PC1"
          }
         },
         "yaxis": {
          "title": {
           "text": "PC2"
          }
         },
         "zaxis": {
          "title": {
           "text": "PC3"
          }
         }
        },
        "template": {
         "data": {
          "bar": [
           {
            "error_x": {
             "color": "#2a3f5f"
            },
            "error_y": {
             "color": "#2a3f5f"
            },
            "marker": {
             "line": {
              "color": "#E5ECF6",
              "width": 0.5
             }
            },
            "type": "bar"
           }
          ],
          "barpolar": [
           {
            "marker": {
             "line": {
              "color": "#E5ECF6",
              "width": 0.5
             }
            },
            "type": "barpolar"
           }
          ],
          "carpet": [
           {
            "aaxis": {
             "endlinecolor": "#2a3f5f",
             "gridcolor": "white",
             "linecolor": "white",
             "minorgridcolor": "white",
             "startlinecolor": "#2a3f5f"
            },
            "baxis": {
             "endlinecolor": "#2a3f5f",
             "gridcolor": "white",
             "linecolor": "white",
             "minorgridcolor": "white",
             "startlinecolor": "#2a3f5f"
            },
            "type": "carpet"
           }
          ],
          "choropleth": [
           {
            "colorbar": {
             "outlinewidth": 0,
             "ticks": ""
            },
            "type": "choropleth"
           }
          ],
          "contour": [
           {
            "colorbar": {
             "outlinewidth": 0,
             "ticks": ""
            },
            "colorscale": [
             [
              0,
              "#0d0887"
             ],
             [
              0.1111111111111111,
              "#46039f"
             ],
             [
              0.2222222222222222,
              "#7201a8"
             ],
             [
              0.3333333333333333,
              "#9c179e"
             ],
             [
              0.4444444444444444,
              "#bd3786"
             ],
             [
              0.5555555555555556,
              "#d8576b"
             ],
             [
              0.6666666666666666,
              "#ed7953"
             ],
             [
              0.7777777777777778,
              "#fb9f3a"
             ],
             [
              0.8888888888888888,
              "#fdca26"
             ],
             [
              1,
              "#f0f921"
             ]
            ],
            "type": "contour"
           }
          ],
          "contourcarpet": [
           {
            "colorbar": {
             "outlinewidth": 0,
             "ticks": ""
            },
            "type": "contourcarpet"
           }
          ],
          "heatmap": [
           {
            "colorbar": {
             "outlinewidth": 0,
             "ticks": ""
            },
            "colorscale": [
             [
              0,
              "#0d0887"
             ],
             [
              0.1111111111111111,
              "#46039f"
             ],
             [
              0.2222222222222222,
              "#7201a8"
             ],
             [
              0.3333333333333333,
              "#9c179e"
             ],
             [
              0.4444444444444444,
              "#bd3786"
             ],
             [
              0.5555555555555556,
              "#d8576b"
             ],
             [
              0.6666666666666666,
              "#ed7953"
             ],
             [
              0.7777777777777778,
              "#fb9f3a"
             ],
             [
              0.8888888888888888,
              "#fdca26"
             ],
             [
              1,
              "#f0f921"
             ]
            ],
            "type": "heatmap"
           }
          ],
          "heatmapgl": [
           {
            "colorbar": {
             "outlinewidth": 0,
             "ticks": ""
            },
            "colorscale": [
             [
              0,
              "#0d0887"
             ],
             [
              0.1111111111111111,
              "#46039f"
             ],
             [
              0.2222222222222222,
              "#7201a8"
             ],
             [
              0.3333333333333333,
              "#9c179e"
             ],
             [
              0.4444444444444444,
              "#bd3786"
             ],
             [
              0.5555555555555556,
              "#d8576b"
             ],
             [
              0.6666666666666666,
              "#ed7953"
             ],
             [
              0.7777777777777778,
              "#fb9f3a"
             ],
             [
              0.8888888888888888,
              "#fdca26"
             ],
             [
              1,
              "#f0f921"
             ]
            ],
            "type": "heatmapgl"
           }
          ],
          "histogram": [
           {
            "marker": {
             "colorbar": {
              "outlinewidth": 0,
              "ticks": ""
             }
            },
            "type": "histogram"
           }
          ],
          "histogram2d": [
           {
            "colorbar": {
             "outlinewidth": 0,
             "ticks": ""
            },
            "colorscale": [
             [
              0,
              "#0d0887"
             ],
             [
              0.1111111111111111,
              "#46039f"
             ],
             [
              0.2222222222222222,
              "#7201a8"
             ],
             [
              0.3333333333333333,
              "#9c179e"
             ],
             [
              0.4444444444444444,
              "#bd3786"
             ],
             [
              0.5555555555555556,
              "#d8576b"
             ],
             [
              0.6666666666666666,
              "#ed7953"
             ],
             [
              0.7777777777777778,
              "#fb9f3a"
             ],
             [
              0.8888888888888888,
              "#fdca26"
             ],
             [
              1,
              "#f0f921"
             ]
            ],
            "type": "histogram2d"
           }
          ],
          "histogram2dcontour": [
           {
            "colorbar": {
             "outlinewidth": 0,
             "ticks": ""
            },
            "colorscale": [
             [
              0,
              "#0d0887"
             ],
             [
              0.1111111111111111,
              "#46039f"
             ],
             [
              0.2222222222222222,
              "#7201a8"
             ],
             [
              0.3333333333333333,
              "#9c179e"
             ],
             [
              0.4444444444444444,
              "#bd3786"
             ],
             [
              0.5555555555555556,
              "#d8576b"
             ],
             [
              0.6666666666666666,
              "#ed7953"
             ],
             [
              0.7777777777777778,
              "#fb9f3a"
             ],
             [
              0.8888888888888888,
              "#fdca26"
             ],
             [
              1,
              "#f0f921"
             ]
            ],
            "type": "histogram2dcontour"
           }
          ],
          "mesh3d": [
           {
            "colorbar": {
             "outlinewidth": 0,
             "ticks": ""
            },
            "type": "mesh3d"
           }
          ],
          "parcoords": [
           {
            "line": {
             "colorbar": {
              "outlinewidth": 0,
              "ticks": ""
             }
            },
            "type": "parcoords"
           }
          ],
          "pie": [
           {
            "automargin": true,
            "type": "pie"
           }
          ],
          "scatter": [
           {
            "marker": {
             "colorbar": {
              "outlinewidth": 0,
              "ticks": ""
             }
            },
            "type": "scatter"
           }
          ],
          "scatter3d": [
           {
            "line": {
             "colorbar": {
              "outlinewidth": 0,
              "ticks": ""
             }
            },
            "marker": {
             "colorbar": {
              "outlinewidth": 0,
              "ticks": ""
             }
            },
            "type": "scatter3d"
           }
          ],
          "scattercarpet": [
           {
            "marker": {
             "colorbar": {
              "outlinewidth": 0,
              "ticks": ""
             }
            },
            "type": "scattercarpet"
           }
          ],
          "scattergeo": [
           {
            "marker": {
             "colorbar": {
              "outlinewidth": 0,
              "ticks": ""
             }
            },
            "type": "scattergeo"
           }
          ],
          "scattergl": [
           {
            "marker": {
             "colorbar": {
              "outlinewidth": 0,
              "ticks": ""
             }
            },
            "type": "scattergl"
           }
          ],
          "scattermapbox": [
           {
            "marker": {
             "colorbar": {
              "outlinewidth": 0,
              "ticks": ""
             }
            },
            "type": "scattermapbox"
           }
          ],
          "scatterpolar": [
           {
            "marker": {
             "colorbar": {
              "outlinewidth": 0,
              "ticks": ""
             }
            },
            "type": "scatterpolar"
           }
          ],
          "scatterpolargl": [
           {
            "marker": {
             "colorbar": {
              "outlinewidth": 0,
              "ticks": ""
             }
            },
            "type": "scatterpolargl"
           }
          ],
          "scatterternary": [
           {
            "marker": {
             "colorbar": {
              "outlinewidth": 0,
              "ticks": ""
             }
            },
            "type": "scatterternary"
           }
          ],
          "surface": [
           {
            "colorbar": {
             "outlinewidth": 0,
             "ticks": ""
            },
            "colorscale": [
             [
              0,
              "#0d0887"
             ],
             [
              0.1111111111111111,
              "#46039f"
             ],
             [
              0.2222222222222222,
              "#7201a8"
             ],
             [
              0.3333333333333333,
              "#9c179e"
             ],
             [
              0.4444444444444444,
              "#bd3786"
             ],
             [
              0.5555555555555556,
              "#d8576b"
             ],
             [
              0.6666666666666666,
              "#ed7953"
             ],
             [
              0.7777777777777778,
              "#fb9f3a"
             ],
             [
              0.8888888888888888,
              "#fdca26"
             ],
             [
              1,
              "#f0f921"
             ]
            ],
            "type": "surface"
           }
          ],
          "table": [
           {
            "cells": {
             "fill": {
              "color": "#EBF0F8"
             },
             "line": {
              "color": "white"
             }
            },
            "header": {
             "fill": {
              "color": "#C8D4E3"
             },
             "line": {
              "color": "white"
             }
            },
            "type": "table"
           }
          ]
         },
         "layout": {
          "annotationdefaults": {
           "arrowcolor": "#2a3f5f",
           "arrowhead": 0,
           "arrowwidth": 1
          },
          "coloraxis": {
           "colorbar": {
            "outlinewidth": 0,
            "ticks": ""
           }
          },
          "colorscale": {
           "diverging": [
            [
             0,
             "#8e0152"
            ],
            [
             0.1,
             "#c51b7d"
            ],
            [
             0.2,
             "#de77ae"
            ],
            [
             0.3,
             "#f1b6da"
            ],
            [
             0.4,
             "#fde0ef"
            ],
            [
             0.5,
             "#f7f7f7"
            ],
            [
             0.6,
             "#e6f5d0"
            ],
            [
             0.7,
             "#b8e186"
            ],
            [
             0.8,
             "#7fbc41"
            ],
            [
             0.9,
             "#4d9221"
            ],
            [
             1,
             "#276419"
            ]
           ],
           "sequential": [
            [
             0,
             "#0d0887"
            ],
            [
             0.1111111111111111,
             "#46039f"
            ],
            [
             0.2222222222222222,
             "#7201a8"
            ],
            [
             0.3333333333333333,
             "#9c179e"
            ],
            [
             0.4444444444444444,
             "#bd3786"
            ],
            [
             0.5555555555555556,
             "#d8576b"
            ],
            [
             0.6666666666666666,
             "#ed7953"
            ],
            [
             0.7777777777777778,
             "#fb9f3a"
            ],
            [
             0.8888888888888888,
             "#fdca26"
            ],
            [
             1,
             "#f0f921"
            ]
           ],
           "sequentialminus": [
            [
             0,
             "#0d0887"
            ],
            [
             0.1111111111111111,
             "#46039f"
            ],
            [
             0.2222222222222222,
             "#7201a8"
            ],
            [
             0.3333333333333333,
             "#9c179e"
            ],
            [
             0.4444444444444444,
             "#bd3786"
            ],
            [
             0.5555555555555556,
             "#d8576b"
            ],
            [
             0.6666666666666666,
             "#ed7953"
            ],
            [
             0.7777777777777778,
             "#fb9f3a"
            ],
            [
             0.8888888888888888,
             "#fdca26"
            ],
            [
             1,
             "#f0f921"
            ]
           ]
          },
          "colorway": [
           "#636efa",
           "#EF553B",
           "#00cc96",
           "#ab63fa",
           "#FFA15A",
           "#19d3f3",
           "#FF6692",
           "#B6E880",
           "#FF97FF",
           "#FECB52"
          ],
          "font": {
           "color": "#2a3f5f"
          },
          "geo": {
           "bgcolor": "white",
           "lakecolor": "white",
           "landcolor": "#E5ECF6",
           "showlakes": true,
           "showland": true,
           "subunitcolor": "white"
          },
          "hoverlabel": {
           "align": "left"
          },
          "hovermode": "closest",
          "mapbox": {
           "style": "light"
          },
          "paper_bgcolor": "white",
          "plot_bgcolor": "#E5ECF6",
          "polar": {
           "angularaxis": {
            "gridcolor": "white",
            "linecolor": "white",
            "ticks": ""
           },
           "bgcolor": "#E5ECF6",
           "radialaxis": {
            "gridcolor": "white",
            "linecolor": "white",
            "ticks": ""
           }
          },
          "scene": {
           "xaxis": {
            "backgroundcolor": "#E5ECF6",
            "gridcolor": "white",
            "gridwidth": 2,
            "linecolor": "white",
            "showbackground": true,
            "ticks": "",
            "zerolinecolor": "white"
           },
           "yaxis": {
            "backgroundcolor": "#E5ECF6",
            "gridcolor": "white",
            "gridwidth": 2,
            "linecolor": "white",
            "showbackground": true,
            "ticks": "",
            "zerolinecolor": "white"
           },
           "zaxis": {
            "backgroundcolor": "#E5ECF6",
            "gridcolor": "white",
            "gridwidth": 2,
            "linecolor": "white",
            "showbackground": true,
            "ticks": "",
            "zerolinecolor": "white"
           }
          },
          "shapedefaults": {
           "line": {
            "color": "#2a3f5f"
           }
          },
          "ternary": {
           "aaxis": {
            "gridcolor": "white",
            "linecolor": "white",
            "ticks": ""
           },
           "baxis": {
            "gridcolor": "white",
            "linecolor": "white",
            "ticks": ""
           },
           "bgcolor": "#E5ECF6",
           "caxis": {
            "gridcolor": "white",
            "linecolor": "white",
            "ticks": ""
           }
          },
          "title": {
           "x": 0.05
          },
          "xaxis": {
           "automargin": true,
           "gridcolor": "white",
           "linecolor": "white",
           "ticks": "",
           "title": {
            "standoff": 15
           },
           "zerolinecolor": "white",
           "zerolinewidth": 2
          },
          "yaxis": {
           "automargin": true,
           "gridcolor": "white",
           "linecolor": "white",
           "ticks": "",
           "title": {
            "standoff": 15
           },
           "zerolinecolor": "white",
           "zerolinewidth": 2
          }
         }
        },
        "width": 800
       }
      },
      "text/html": [
       "<div>                            <div id=\"82eaf094-16fb-463a-aed8-c701a4876b64\" class=\"plotly-graph-div\" style=\"height:525px; width:800px;\"></div>            <script type=\"text/javascript\">                require([\"plotly\"], function(Plotly) {                    window.PLOTLYENV=window.PLOTLYENV || {};                                    if (document.getElementById(\"82eaf094-16fb-463a-aed8-c701a4876b64\")) {                    Plotly.newPlot(                        \"82eaf094-16fb-463a-aed8-c701a4876b64\",                        [{\"customdata\": [[\"42 Coin\", \"Scrypt\"], [\"404Coin\", \"Scrypt\"], [\"EliteCoin\", \"X13\"], [\"Dash\", \"X11\"], [\"Bitshares\", \"SHA-512\"], [\"BitcoinDark\", \"SHA-256\"], [\"PayCoin\", \"SHA-256\"], [\"KoboCoin\", \"X15\"], [\"Aurora Coin\", \"Scrypt\"], [\"BlueCoin\", \"Scrypt\"], [\"EnergyCoin\", \"Scrypt\"], [\"BitBar\", \"Scrypt\"], [\"CryptoBullion\", \"Scrypt\"], [\"CasinoCoin\", \"Scrypt\"], [\"Diamond\", \"Groestl\"], [\"Exclusive Coin\", \"PoS\"], [\"FlutterCoin\", \"Scrypt\"], [\"HoboNickels\", \"Scrypt\"], [\"HyperStake\", \"X11\"], [\"IOCoin\", \"X11\"], [\"MaxCoin\", \"SHA3\"], [\"MintCoin\", \"Scrypt\"], [\"MazaCoin\", \"SHA-256\"], [\"Nautilus Coin\", \"Scrypt\"], [\"NavCoin\", \"X13\"], [\"OpalCoin\", \"X13\"], [\"Orbitcoin\", \"NeoScrypt\"], [\"PotCoin\", \"Scrypt\"], [\"PhoenixCoin\", \"Scrypt\"], [\"Reddcoin\", \"Scrypt\"], [\"SuperCoin\", \"X11\"], [\"SyncCoin\", \"X11\"], [\"TeslaCoin\", \"Multiple\"], [\"TittieCoin\", \"PHI1612\"], [\"TorCoin\", \"X11\"], [\"UnitaryStatus Dollar\", \"Scrypt\"], [\"UltraCoin\", \"Scrypt\"], [\"VeriCoin\", \"Scrypt\"], [\"X11 Coin\", \"X11\"], [\"Crypti\", \"Multiple\"], [\"StealthCoin\", \"X13\"], [\"ZCC Coin\", \"Scrypt\"], [\"BurstCoin\", \"Shabal256\"], [\"StorjCoin\", \"Counterparty\"], [\"Neutron\", \"SHA-256\"], [\"FairCoin\", \"Groestl\"], [\"RubyCoin\", \"Scrypt\"], [\"Kore\", \"X13\"], [\"Dnotes\", \"Scrypt\"], [\"8BIT Coin\", \"Scrypt\"], [\"Sativa Coin\", \"X13\"], [\"Ucoin\", \"X11\"], [\"Vtorrent\", \"Scrypt\"], [\"IslaCoin\", \"X11\"], [\"Nexus\", \"SHA3\"], [\"Droidz\", \"QUAIT\"], [\"Squall Coin\", \"X11\"], [\"Diggits\", \"Scrypt\"], [\"Paycon\", \"X13\"], [\"Emercoin\", \"SHA-256\"], [\"EverGreenCoin\", \"X15\"], [\"Decred\", \"BLAKE256\"], [\"EDRCoin\", \"SHA-256\"], [\"Hitcoin\", \"X11\"], [\"DubaiCoin\", \"SHA-256\"], [\"PWR Coin\", \"NIST5\"], [\"BillaryCoin\", \"Scrypt\"], [\"GPU Coin\", \"Scrypt\"], [\"EuropeCoin\", \"X11\"], [\"ZeitCoin\", \"Scrypt\"], [\"SwingCoin\", \"SHA-256\"], [\"SafeExchangeCoin\", \"Scrypt\"], [\"Nebuchadnezzar\", \"PoS\"], [\"Ratecoin\", \"X11\"], [\"Revenu\", \"SHA-256\"], [\"Clockcoin\", \"SHA-256\"], [\"VIP Tokens\", \"NIST5\"], [\"BitSend\", \"X11\"], [\"Let it Ride\", \"POS 3.0\"], [\"PutinCoin\", \"Scrypt\"], [\"iBankCoin\", \"Scrypt\"], [\"Frankywillcoin\", \"Scrypt\"], [\"MudraCoin\", \"X13\"], [\"Lutetium Coin\", \"X11\"], [\"GoldBlocks\", \"X11\"], [\"CarterCoin\", \"Scrypt\"], [\"BitTokens\", \"SHA-256\"], [\"MustangCoin\", \"X11\"], [\"ZoneCoin\", \"Scrypt\"], [\"RootCoin\", \"Scrypt\"], [\"BitCurrency\", \"Scrypt\"], [\"Swiscoin\", \"Scrypt\"], [\"BuzzCoin\", \"SHA-256D\"], [\"Opair\", \"PoS\"], [\"PesoBit\", \"Scrypt\"], [\"Halloween Coin\", \"X11\"], [\"CoffeeCoin\", \"PoS\"], [\"RoyalCoin\", \"X13\"], [\"GanjaCoin V2\", \"X14\"], [\"TeamUP\", \"PoS\"], [\"LanaCoin\", \"SHA-256D\"], [\"ARK\", \"DPoS\"], [\"InsaneCoin\", \"X11\"], [\"EmberCoin\", \"X13\"], [\"XenixCoin\", \"X11\"], [\"FreeCoin\", \"PoS\"], [\"PLNCoin\", \"Scrypt\"], [\"AquariusCoin\", \"Scrypt\"], [\"Creatio\", \"PoS\"], [\"Eternity\", \"X11\"], [\"Eurocoin\", \"SHA-256\"], [\"BitcoinFast\", \"Scrypt\"], [\"Stakenet\", \"X11\"], [\"BitConnect Coin\", \"Scrypt\"], [\"MoneyCoin\", \"Scrypt\"], [\"Enigma\", \"X11\"], [\"Russiacoin\", \"Scrypt\"], [\"PandaCoin\", \"Scrypt\"], [\"GameUnits\", \"Scrypt\"], [\"GAKHcoin\", \"Scrypt\"], [\"Allsafe\", \"Quark\"], [\"LiteCreed\", \"QuBit\"], [\"Klingon Empire Darsek\", \"Scrypt\"], [\"Internet of People\", \"SHA-256\"], [\"KushCoin\", \"X11\"], [\"Printerium\", \"Scrypt\"], [\"Impeach\", \"Scrypt\"], [\"Zilbercoin\", \"Scrypt\"], [\"FirstCoin\", \"Scrypt\"], [\"FindCoin\", \"X13\"], [\"OpenChat\", \"Scrypt\"], [\"RenosCoin\", \"Scrypt\"], [\"VirtacoinPlus\", \"X11\"], [\"TajCoin\", \"Blake2S\"], [\"Impact\", \"X11\"], [\"Atmos\", \"PoS\"], [\"HappyCoin\", \"X11\"], [\"MacronCoin\", \"PoS\"], [\"Condensate\", \"X11\"], [\"Independent Money System\", \"Scrypt\"], [\"ArgusCoin\", \"Scrypt\"], [\"LomoCoin\", \"Scrypt\"], [\"ProCurrency\", \"SHA-256\"], [\"GoldReserve\", \"X11\"], [\"GrowthCoin\", \"Scrypt\"], [\"Phreak\", \"PoS\"], [\"Degas Coin\", \"Scrypt\"], [\"HTML5 Coin\", \"X15\"], [\"Ultimate Secure Cash\", \"SHA-256\"], [\"QTUM\", \"POS 3.0\"], [\"Espers\", \"536\"], [\"Denarius\", \"NIST5\"], [\"Virta Unique Coin\", \"NIST5\"], [\"Bitcoin Planet\", \"Skein\"], [\"BritCoin\", \"X13\"], [\"Linda\", \"Scrypt\"], [\"DeepOnion\", \"X13\"], [\"Signatum\", \"SkunkHash v2 Raptor\"], [\"Cream\", \"Skein\"], [\"Monoeci\", \"X11\"], [\"Draftcoin\", \"Scrypt\"], [\"Vechain\", \"VeChainThor Authority\"], [\"Stakecoin\", \"PoS\"], [\"CoinonatX\", \"Scrypt\"], [\"Ethereum Dark\", \"Scrypt\"], [\"Obsidian\", \"SHA-512\"], [\"Cardano\", \"Ouroboros\"], [\"Regalcoin\", \"X11\"], [\"TrezarCoin\", \"NeoScrypt\"], [\"TerraNovaCoin\", \"Scrypt\"], [\"Rupee\", \"Lyra2REv2\"], [\"WomenCoin\", \"Scrypt\"], [\"Theresa May Coin\", \"SHA-256\"], [\"NamoCoin\", \"NIST5\"], [\"LUXCoin\", \"PHI1612\"], [\"Xios\", \"Scrypt\"], [\"Bitcloud 2.0\", \"Quark\"], [\"KekCoin\", \"POS 2.0\"], [\"BlackholeCoin\", \"Scrypt\"], [\"Infinity Economics\", \"SHA-256\"], [\"Magnet\", \"X11\"], [\"Lamden Tau\", \"DPoS\"], [\"Electra\", \"NIST5\"], [\"Bitcoin Diamond\", \"X13\"], [\"Cash & Back Coin\", \"Scrypt\"], [\"Bulwark\", \"NIST5\"], [\"Kalkulus\", \"Quark\"], [\"GermanCoin\", \"Scrypt\"], [\"LiteCoin Ultra\", \"Scrypt\"], [\"PhantomX\", \"X11\"], [\"Digiwage\", \"Quark\"], [\"Trollcoin\", \"Scrypt\"], [\"Litecoin Plus\", \"Scrypt\"], [\"Monkey Project\", \"X11\"], [\"TokenPay\", \"POS 3.0\"], [\"1717 Masonic Commemorative Token\", \"Ethash\"], [\"My Big Coin\", \"Scrypt\"], [\"Unified Society USDEX\", \"Scrypt\"], [\"Tokyo Coin\", \"X13\"], [\"Stipend\", \"C11\"], [\"Pushi\", \"X11\"], [\"Ellerium\", \"XEVAN\"], [\"Velox\", \"Scrypt\"], [\"Ontology\", \"VBFT\"], [\"Bitspace\", \"NIST5\"], [\"Briacoin\", \"Scrypt\"], [\"Ignition\", \"Scrypt\"], [\"MedicCoin\", \"Scrypt\"], [\"Bitcoin Green\", \"Green Protocol\"], [\"Deviant Coin\", \"PoS\"], [\"Abjcoin\", \"Scrypt\"], [\"Semux\", \"Semux BFT consensus\"], [\"Carebit\", \"Quark\"], [\"Zealium\", \"PoS\"], [\"Proton\", \"X16R\"], [\"iDealCash\", \"Scrypt\"], [\"Bitcoin Incognito\", \"XEVAN\"], [\"HollyWoodCoin\", \"Scrypt\"], [\"Swisscoin\", \"Scrypt\"], [\"Xt3ch\", \"Scrypt\"], [\"TheVig\", \"SHA-256D\"], [\"EmaratCoin\", \"Scrypt\"], [\"Dekado\", \"X15\"], [\"Lynx\", \"Scrypt\"], [\"Poseidon Quark\", \"Quark\"], [\"BitcoinWSpectrum\", \"SHA-256\"], [\"Muse\", \"DPoS\"], [\"Trivechain\", \"X16R\"], [\"Dystem\", \"Quark\"], [\"Giant\", \"Quark\"], [\"Peony Coin\", \"Scrypt\"], [\"Absolute Coin\", \"Lyra2REv2\"], [\"Vitae\", \"Quark\"], [\"TPCash\", \"Scrypt\"], [\"ARENON\", \"X11\"], [\"EUNO\", \"X11\"], [\"MMOCoin\", \"Scrypt\"], [\"Ketan\", \"PoS\"], [\"XDNA\", \"Keccak\"], [\"PAXEX\", \"X11\"], [\"ThunderStake\", \"Scrypt\"], [\"Kcash\", \"SHA-512\"], [\"Bettex coin\", \"XEVAN\"], [\"BitMoney\", \"XEVAN\"], [\"Junson Ming Chan Coin\", \"X11\"], [\"HerbCoin\", \"Quark\"], [\"Oduwa\", \"Scrypt\"], [\"Galilel\", \"Quark\"], [\"Crypto Sports\", \"Quark\"], [\"Credit\", \"Scrypt\"], [\"Dash Platinum\", \"X11\"], [\"Nasdacoin\", \"Scrypt\"], [\"Beetle Coin\", \"XEVAN\"], [\"Titan Coin\", \"SHA-256D\"], [\"Award\", \"X11\"], [\"Insane Coin\", \"X11\"], [\"ALAX\", \"DPoS\"], [\"LiteDoge\", \"Scrypt\"], [\"TruckCoin\", \"X11\"], [\"OrangeCoin\", \"Scrypt\"], [\"BitstarCoin\", \"Scrypt\"], [\"NeosCoin\", \"SHA-256\"], [\"HyperCoin\", \"Scrypt\"], [\"PinkCoin\", \"X11\"], [\"AudioCoin\", \"Scrypt\"], [\"IncaKoin\", \"SHA-256\"], [\"Piggy Coin\", \"X11\"], [\"Genstake\", \"Scrypt\"], [\"XiaoMiCoin\", \"Scrypt\"], [\"CapriCoin\", \"X11\"], [\" ClubCoin\", \"Scrypt\"], [\"Radium\", \"PoS\"], [\"Creditbit \", \"X11\"], [\"OKCash\", \"SHA-256\"], [\"Lisk\", \"DPoS\"], [\"HiCoin\", \"Scrypt\"], [\"WhiteCoin\", \"Scrypt\"], [\"FriendshipCoin\", \"NeoScrypt\"], [\"Triangles Coin\", \"X13\"], [\"EOS\", \"DPoS\"], [\"Oxycoin\", \"DPoS\"], [\"TigerCash\", \"SHA-256\"], [\"Particl\", \"PoS\"], [\"Nxt\", \"PoS\"], [\"ZEPHYR\", \"SHA-256\"], [\"Gapcoin\", \"Scrypt\"], [\"BitcoinPlus\", \"Scrypt\"]], \"hovertemplate\": \"Class=%{marker.color}<br>PC1=%{x}<br>PC2=%{y}<br>PC3=%{z}<br>CoinName=%{customdata[0]}<br>Algorithm=%{customdata[1]}<extra></extra>\", \"legendgroup\": \"0\", \"marker\": {\"color\": [0, 0, 0, 0, 0, 0, 0, 0, 0, 0, 0, 0, 0, 0, 0, 0, 0, 0, 0, 0, 0, 0, 0, 0, 0, 0, 0, 0, 0, 0, 0, 0, 0, 0, 0, 0, 0, 0, 0, 0, 0, 0, 0, 0, 0, 0, 0, 0, 0, 0, 0, 0, 0, 0, 0, 0, 0, 0, 0, 0, 0, 0, 0, 0, 0, 0, 0, 0, 0, 0, 0, 0, 0, 0, 0, 0, 0, 0, 0, 0, 0, 0, 0, 0, 0, 0, 0, 0, 0, 0, 0, 0, 0, 0, 0, 0, 0, 0, 0, 0, 0, 0, 0, 0, 0, 0, 0, 0, 0, 0, 0, 0, 0, 0, 0, 0, 0, 0, 0, 0, 0, 0, 0, 0, 0, 0, 0, 0, 0, 0, 0, 0, 0, 0, 0, 0, 0, 0, 0, 0, 0, 0, 0, 0, 0, 0, 0, 0, 0, 0, 0, 0, 0, 0, 0, 0, 0, 0, 0, 0, 0, 0, 0, 0, 0, 0, 0, 0, 0, 0, 0, 0, 0, 0, 0, 0, 0, 0, 0, 0, 0, 0, 0, 0, 0, 0, 0, 0, 0, 0, 0, 0, 0, 0, 0, 0, 0, 0, 0, 0, 0, 0, 0, 0, 0, 0, 0, 0, 0, 0, 0, 0, 0, 0, 0, 0, 0, 0, 0, 0, 0, 0, 0, 0, 0, 0, 0, 0, 0, 0, 0, 0, 0, 0, 0, 0, 0, 0, 0, 0, 0, 0, 0, 0, 0, 0, 0, 0, 0, 0, 0, 0, 0, 0, 0, 0, 0, 0, 0, 0, 0, 0, 0, 0, 0, 0, 0, 0, 0, 0, 0, 0, 0, 0, 0, 0, 0, 0, 0, 0, 0, 0, 0, 0, 0, 0, 0], \"coloraxis\": \"coloraxis\", \"symbol\": \"circle\"}, \"mode\": \"markers\", \"name\": \"0\", \"scene\": \"scene\", \"showlegend\": true, \"type\": \"scatter3d\", \"x\": [-0.33664708904821494, -0.3199980995728195, 2.2913016060163875, -0.4021568700093083, -0.23104909167341348, -0.31869044432708243, -0.265605787042405, -0.24452728984850514, -0.33630695454448084, -0.3288897228921821, -0.3351447174920707, -0.3366430295264859, -0.33662732311089805, 0.6822348793248628, -0.37621548127262644, -0.3432561015852389, -0.25386464342518694, -0.3347075800098787, -0.328910018607833, -0.4020516401740187, -0.3554714441265375, -0.023665874369546168, -0.2820295425383103, -0.2833137699847907, -0.28991059663913193, -0.2905323679905503, -0.3536906870907384, -0.33095457517585886, -0.3350502412309255, 0.021242521080677007, -0.34878263964716544, -0.40242288681401595, -0.2475818774841114, -0.315175099181557, -0.4023346176923129, -0.31190123773419526, -0.3353257067228738, -0.2753629319542027, -0.4022991056376256, -0.24804899657001797, -0.2903133855249623, -0.32775937071156247, 0.04325268448784864, -0.3281107669605501, -0.3179028471469545, -0.3756374382807645, -0.283293996263409, -0.2906077366109847, -0.2779532446537704, -0.33662917019672495, -0.29055994987495914, -0.3492272294554077, -0.33636379680206907, -0.40240442869884163, -0.2584640335584275, -0.4466133756084973, -0.37911451874182767, -0.2816969488644121, -0.290082039974802, -0.31125525180048086, -0.24696607721002767, -0.10053887980472415, -0.3186613787367083, -0.08017661906712004, -0.31872499489936656, -0.2423550002765453, -0.33623982842883215, -0.2815664385212721, -0.3995767396368227, 0.8687472921696414, -0.3185252842895003, -0.047910016117486284, -0.34293965633513407, -0.40024916070901917, -0.3172702444085711, -0.3149409991344434, -0.3636285390531849, -0.40114091569989163, -0.333153692410568, -0.3125586588037062, -0.3362779061143418, -0.3347181694093317, -0.2362189324838773, -0.3367286803690081, -0.4018788503474175, -0.3354828252849273, -0.3187059909076035, -0.40239363663893807, -0.3364668671205287, -0.33662340735154145, -0.2815553795171544, -0.22604404110286191, 0.016067955658964933, -0.3418976265733453, -0.33623783569080623, -0.3885701246381765, -0.34122663891626576, -0.2376479536096378, -0.4343606986190672, -0.3409765173128634, -0.2982002564470125, 3.742678783890456, -0.4019865451228612, 0.840807703452409, -0.4023485806558967, -0.34236098020042444, -0.33616555418119093, -0.3363197817995404, -0.34293965633513407, -0.40192394926283265, -0.3185687575583399, -0.33616627331784843, -0.37796993244158195, -0.33631354565591964, -0.3319065040689685, -0.40237755747572224, -0.33552514324189775, 0.35940999481957864, -0.336512637702685, -0.3365831309262958, -0.34931771894540264, -0.3532031224663887, -0.3328140022540693, -0.318682421198528, -0.40228758507284607, -0.33636114755457325, -0.33648801700448944, -0.28320073297396464, -0.2697426425682099, -0.23741600618228365, -0.31735788536804416, -0.28294198563016726, -0.40155411227946936, -0.43162052840935616, -0.40029339988414664, -0.3411877077234506, -0.40145206934799327, -0.3355924059148794, -0.3973970808676084, -0.3364313413380167, -0.336430553508972, -0.32955995753230904, 0.2664638569631612, -0.4019300358765972, -0.2658607470459098, -0.34297395569155414, -0.33564283033793585, 0.8863475463148716, -0.26429766864119264, -0.33193309759324496, 0.5740675161314872, -0.365162873573704, -0.36366647748891284, -0.41869697407618933, -0.2902453240948184, 0.12782643318386547, -0.29031601413817726, -0.34247280767643656, -0.41820220793978247, -0.40220213923724984, -0.28327477288288405, 4.4274658316550894, -0.34284041662831055, -0.3360668733496238, -0.33656607519950416, -0.2890620707254248, 0.665084318047463, -0.4021430598174912, -0.3486946073455476, -0.33652175539019225, -0.31694425249765357, 0.43198039690616125, -0.3170300863884114, -0.34994392034687344, -0.40376207234494343, -0.3364721444953756, -0.40078242006784054, -0.3350468729603328, -0.33634261682528116, -0.09223790076706619, -0.4009369050194762, 3.7475302797919494, 0.19384806947248556, -0.2869897679035139, -0.33380524742964346, -0.3119054057477663, -0.3492037176611768, 0.07736478299068014, -0.33548215007519966, -0.40151736208427924, -0.3483693344987286, -0.3230588545674716, -0.3365881905361223, -0.34919918161694696, -0.33343538565508435, -0.2757581184349305, -0.27276795982078833, -0.3321372467022797, -0.2292198265552461, -0.3752145250193816, -0.40221941734279804, -0.3294942906572057, -0.28243565858481523, -0.3266672632010359, -0.36476223285142073, -0.33661552307817727, -0.3365972527788886, -0.2768221380502022, -0.34356953255935163, -0.3424352367119001, -0.33631403609680877, 3.9470234119886842, -0.39945138646609585, -0.34262374951189883, -0.3210406390437943, -0.2832362060304791, -0.3063380690443474, -0.28296922302712274, -0.13989720405710637, -0.2832211556859815, -0.36344780616030115, -0.3357885949407169, -0.19328924961490412, 2.267893255308268, -0.3449165081964056, -0.2644250146635104, 1.0333078063919392, -0.37339898971104835, -0.34931717250651206, -0.4024648171864061, -0.16408539158553784, -0.3698938930181155, -0.3480378369883536, -0.32950009104713196, -0.34877698559241727, -0.4016931975227705, -0.2804692016784043, -0.3417245572285089, -0.3629608855740316, -0.3486385914684898, -0.19624847534226808, -0.22025447536010348, -0.2764661371436675, 0.4978294027207113, -0.13929990555353244, -0.4017600848250086, -0.33631798133778573, -0.40221578081424225, -0.34943404466576555, 0.5693395231241328, -0.3492534545662516, -0.3358014478486642, -0.3239550848905426, -0.3182136102749035, -0.3992606234630333, -0.40192021630276425, 3.7597619097386876, 0.09820457194463156, -0.399461520833229, -0.3351877020601468, -0.3360116988183253, -0.26563841800204285, -0.33652951047132595, -0.393555312188956, -0.25032333778987736, -0.09850524096470244, -0.38930810286416334, -0.33580838385965106, -0.3288787117679877, -0.3984917631903995, -0.33424909121244434, -0.3432150607292831, -0.3886206026467751, -0.3172067950750646, 3.74307022131208, -0.09066827196082675, -0.33144625304273906, -0.353316970226993, -0.29071483119463026, 3.7529316926594443, 3.7541749459863083, -0.24655153656753903, -0.34315097165633296, -0.34007201001486775, 2.4802527314863667, -0.3346945519557928, -0.2836172216466169], \"y\": [1.0365842927660507, 1.0368425643085, 1.7211635448756621, 1.2182390501568954, 1.376407713644412, 0.8881522583853457, 0.6648600432639256, 1.8398287509617974, 1.036585430038583, 1.0368785320772265, 1.036641278210235, 1.036584095994558, 1.036584340963865, 0.4310529362083685, 1.0046731268131506, 1.5781145770019558, 0.21579747603972102, 1.0365736718023688, 0.9957203627496133, 1.2182430415568783, 2.029278795520684, 0.8231433691306698, 0.8878610386838407, 0.8132834934380502, 1.843658860443947, 1.843635276465552, 0.5443741985345497, 1.036505556511633, 1.036576108870901, 1.0501591556676089, 0.9949665881278219, 1.2182443936701264, 0.15005223192520722, 1.5927411826859912, 1.218240726849353, 1.0364004149805872, 1.0365642572607072, 0.16746328042504688, 1.2182452308512557, 0.15010466992715338, 1.8436435825377528, 1.0362198469587864, 0.7984569993054267, 1.5630093911676315, 0.888149860441072, 1.0046981249930234, 0.8132955946977113, 1.8436239989939345, 0.8131473911852127, 1.036584972463056, 1.843627214678962, 0.9949356935053179, 1.0365810069629713, 1.2182450944936658, 2.2105051839648455, 2.014667559878779, 0.7767096061123551, 0.8132860152238458, 1.8436172795593526, 0.8877481521122889, 1.8399633432936293, 1.1797401152502447, 0.8881533608521187, 1.211840883645213, 0.8881590158083489, 1.5538911768064154, 1.03657027480753, 0.8132060398701714, 1.2180829506745876, 0.7875384620566018, 0.8881458948812848, 0.4299141169139171, 1.57811254867304, 1.2182742274914196, 0.8880653064290157, 0.8879415914523574, 1.5492280938447363, 1.218195503128296, 1.456614915807991, 1.0360948549078535, 1.0365671935367644, 1.0365873013376734, 1.6202426925174616, 0.9949628737681321, 1.2182299518558197, 1.0365653133026147, 0.8881523702584938, 1.2182433991606418, 1.0365763959144005, 1.036585191049545, 0.8133615409650784, 0.4452921003632789, 1.9805076125982248, 1.5781141889569696, 1.0365998159011012, 1.2177174943112925, 1.5781634928271338, 1.620327047265587, 2.120767667285, 1.5779898728568904, 1.9773526099465921, 1.6905292997149373, 1.2182398981543772, 1.885951027208966, 1.218244509488224, 1.5781134512449058, 1.0365755194492083, 1.0365672421516137, 1.57811254867304, 1.2182212256428617, 0.8881582771213198, 1.0365793788130047, 0.6256623345056872, 1.0365773005265921, 1.0363076279074768, 1.2182426059287947, 1.036525823944412, 0.8148623984241882, 1.0365802722999478, 1.0365843925227132, 1.4632625550513552, 0.5178826436705833, 1.0363789030933404, 0.888153264264801, 1.218242964018642, 1.0365811074497426, 1.0365749389039618, 0.8132605464181176, 0.3426299960696124, 1.6203274090382787, 1.0366143784936737, 0.8132847943773674, 1.2182071912843138, 1.9819004899997317, 1.218247994895577, 1.5781156567736363, 1.2182110618040567, 1.578124639443788, 1.2180842448734153, 1.0365775946026958, 1.036572441446942, 1.0361515501474539, 0.6324333985375538, 1.2182350259702104, 0.812553723748923, 1.5781042320906722, 1.0365487208659339, 1.8198283517017007, 0.664778059077228, 1.4566145596227915, 1.930446539649194, 1.5492260208428714, 1.549205608036494, 1.9121131034485337, 1.8436251173369915, 1.0191239300037853, 1.8436302246263547, 1.4804158149235795, 1.9121318700801024, 1.2182460974766778, 0.8132841125742175, 2.4895233696670847, 1.5780871280056488, 1.03657244889543, 1.0365844191248457, 1.3766691639684576, 1.4886490459765962, 1.2182360661830935, 0.5442857223648878, 1.0365780088669143, 0.705185875518145, 1.0481995763963043, 0.8881605146136289, 1.5489684243432214, 1.8162649426572284, 1.036576195741951, 1.6864930918761807, 1.5477667294323885, 1.0365854666616552, 0.6651306724378541, 1.2181997335174655, 1.6904502335486, 1.5493897015449627, 1.8436223208332712, 1.0365447571792201, 1.3259212667440405, 1.4632633713564724, 1.0172099041078522, 1.03652324533009, 1.2182436632167062, 1.4632248637937901, 1.0364682949527382, 1.0365837205952777, 0.9949360558087245, 1.4566101943543313, -0.06969869439721026, 0.1308076290953207, 1.036592590645367, 1.6200872349214097, 1.0107412052111724, 1.2182345730381454, 1.4667177136537282, 0.813241158303811, 1.7514385180556502, 1.549213154879605, 1.0365833854232842, 1.0365826753019014, 0.8131902944062133, 1.6215024202576371, 1.5780839754031009, 1.0365758788045714, 1.7610471239487553, 1.6865435783896487, 1.5780824375324685, 0.7739671618897568, 1.0350168293146513, 1.025204515261682, 0.8132896728935263, 1.0368911671994567, 0.8132674889353394, 1.9800735016545084, 1.0365579247239678, 1.6166422337991126, 0.3497352078962218, 1.4629840039026105, 0.664843259894731, 1.5750971650469572, 0.997267249704633, 1.463258366419607, 1.686565976247216, 0.8059748855592181, 0.9284698822321604, 1.4632514687906881, 1.0361538209016303, 0.9949282168030381, 1.2182369937244992, 0.8132203344959997, 1.578025341407937, 1.00900776684315, 0.9949018959471023, 1.0292815803191666, 1.2206385655159706, 1.2434237061067699, 1.0773969817910312, 1.0029123325945817, 1.6865584364712545, 1.0365820431978838, 1.686565681117262, 1.463259286323392, 1.0184719760041847, 0.9949349092467236, 1.0365574372092203, 1.4666191311518169, 1.9783516059550998, 1.2180696849081223, 1.2182424140269028, 1.6905634031686179, 1.0285237595649943, 1.218356719893203, 1.0364993358475716, 1.036570329434286, 0.664852842303947, 1.0365887525870607, 1.2182299643397623, 1.0324922021018765, 0.8963860887661302, 1.218040282432414, 1.036605581745145, 1.0365983258429718, 1.2182475786759686, 1.0365630000343666, 1.578109819656716, 0.34930845731511173, 0.8881503042002316, 1.6905196497135422, 0.8135801516387472, 1.03657109418595, 0.5443488070629772, 1.8436282713929928, 1.6910058906601964, 1.6910530476408678, 0.6648899866113693, 1.578112507247585, 1.7643791402485458, 0.7803568211211337, 1.0364829631963504, 0.8132826330998929], \"z\": [-0.577527859617189, -0.5778930166024688, -0.7059816691978785, -0.4965538430867054, -0.24709457358196568, -0.3959847838513311, -0.08167705273640626, -0.6268229517448746, -0.5775348377864321, -0.5777182455890724, -0.5775647317313266, -0.5775279184129652, -0.5775282630504183, -0.42765747935871534, -0.5296042764089753, -0.07696054430855678, -0.19595005175819935, -0.5775656588898003, -0.18274196569731369, -0.49655642570092196, -0.6602191662679668, -0.2695978909497005, -0.3966887398811861, -0.26322413382791654, -0.6682918312280561, -0.6682765713397751, -0.32039613084447377, -0.5776332640680999, -0.5775590460022195, -0.5863114027269608, -0.1822542398215273, -0.4965491111710355, 0.10597156996610495, -0.3258697617192352, -0.4965504608290275, -0.5780045028082943, -0.5775521220060723, -0.4141426166152324, -0.49655169993735343, 0.10597486650685049, -0.6682819457397904, -0.5776643095937398, -0.4931672131265077, -0.04693266480082294, -0.39600035635936154, -0.5296188208381123, -0.263225940673045, -0.6682737414641622, -0.2633161777359459, -0.5775282993959036, -0.6682750776306823, -0.18224169487412678, -0.5775331787945027, -0.49654956426293156, -0.5014743554609497, -0.8423976146899298, -0.1025538979513152, -0.26325696859733516, -0.6682835396730143, -0.39608738196936716, -0.626789536812828, -0.46679907611588317, -0.3959854971966163, -0.5022893288049872, -0.39598487518479447, -0.6039703241143034, -0.5775344243900428, -0.26325028435060244, -0.4965875988486676, -0.2834139338353629, -0.3959873671087196, -0.41282953163070835, -0.07696667714349734, -0.4965963343188707, -0.396003244483315, -0.39603572107707774, -0.600986604632286, -0.49656922095091477, -0.1235125893630994, -0.5779556968704107, -0.5775332992830093, -0.577567032553993, -0.35398188614733583, -0.18249641307250516, -0.49655837943538655, -0.5775490826851827, -0.3959844839755381, -0.49654958409484296, -0.5775305675026736, -0.5775284408311329, -0.26326861085598385, -0.3196171702213358, -0.7897363959967322, -0.07698784066746236, -0.5775379037638548, -0.49676657744156766, -0.07700708550497026, -0.3539629455989783, -0.7815577079548572, -0.07699190623117161, -0.7830439178081853, 0.14528010925286933, -0.4965573698807552, -0.6959731769966172, -0.49655062018817037, -0.07697842902947401, -0.5775365298786416, -0.5775324621260987, -0.07696667714349734, -0.49655645581273133, -0.3959879337171158, -0.5775369647240655, -0.05503231992921987, -0.5775337586662476, -0.5775910614704122, -0.4965498153638201, -0.5775436334920959, -0.27634382416341796, -0.5775300975956374, -0.5775291584932125, -0.22627371391609297, -0.4120669005293226, -0.5775810946624461, -0.39598506243758286, -0.49655166789584604, -0.5775332438139357, -0.57752997219687, -0.26322373731906606, -0.25990723234258234, -0.35396765603985464, -0.5779195891332934, -0.2632317680568853, -0.4965622654642242, -0.8114937243267784, -0.4965923898519393, -0.07700229983577636, -0.49656476986351955, -0.07711596024666158, -0.49663161872880623, -0.5775314220723254, -0.5775308379821343, -0.57762011850378, -0.08861061484728154, -0.4965579399870116, -0.2634904424479377, -0.07696501857014666, -0.5775439305777458, -0.647255152302214, -0.08169383590744846, -0.12353711436630327, -0.6775028898882386, -0.6009554822897263, -0.6009832231908172, -0.7398964012336097, -0.6682811658110922, -0.5848433604284514, -0.6682803376647337, -0.2789648659570042, -0.7399085440831461, -0.49655375244034844, -0.2632249907902863, 2.416135662492656, -0.07696571495149958, -0.5775381585086334, -0.5775295048647744, -0.24595740615432746, -0.02454707467261945, -0.496553773635873, -0.3204863844655775, -0.5775296505712644, 0.0007499743814070002, -0.5943500353672048, -0.3960191624923459, -0.6012317984773515, -0.6394899077115587, -0.5775304379821505, -0.5406068685235033, -0.11153690770727356, -0.5775341242883492, -0.08519787311523935, -0.4965738195154206, 0.14519167007653275, -0.6122255500255397, -0.6683463636379662, -0.577580453480967, -0.286649769443155, -0.22627610341560023, -0.5836049001123522, -0.5775441985896864, -0.49656725129881, -0.2262884135732726, -0.5777878402799256, -0.5775289784323735, -0.18224230156334753, -0.12350637013839148, 0.12569786815461217, -0.2095917256374357, -0.5776195936516959, -0.35410465576600963, -0.38805473360099974, -0.4965520629789028, -0.4068587293607857, -0.26323687847016886, -0.1399355026564387, -0.6009620479451971, -0.5775283892983892, -0.5775286743435528, -0.2633439380378075, -0.26019235531046647, -0.07697350282558815, -0.5775335832739875, 0.028898163501043534, -0.540639535554582, -0.07696952965277352, -0.05002371934059466, -0.5784203521775264, -0.01286296742251531, -0.2632317878317659, -0.5815235008328073, -0.2632241345481234, -0.7820474786612404, -0.5775420683681852, -0.3124903601225707, -0.25884166182814305, -0.22632986569884211, -0.0816988637435212, 0.02780558083076397, -0.36434698513034486, -0.22627323726043658, -0.540581492950729, -0.2647729093391597, -0.31355951851869224, -0.22629818294115012, -0.5776215877832408, -0.1822498863087628, -0.49656293583921063, -0.2632740322657067, -0.07698098006160994, -0.4111182074064576, -0.1822496073608162, -0.5795034071792263, -0.43191613120642464, -0.0925496523350517, 0.08752261557160577, -0.18739549168486827, -0.5405947990402975, -0.5775342215475346, -0.5405864708559651, -0.22627099211474572, -0.5936536325291808, -0.18224107574494192, -0.5775417529243505, -0.4069587376724475, -0.7827574225041649, -0.49659241676271204, -0.4965589977627441, 0.14493231291290345, -0.5853415295329724, -0.4966217908863483, -0.5775473412217406, -0.5775390222322047, -0.0816755576265294, -0.5775307453051144, -0.4967259057375334, -0.5787888525869717, -0.4013749803162976, -0.4967893044247852, -0.5775472184635139, -0.5776858447180607, -0.49662860228591066, -0.5775736442876924, -0.07696081645801102, -0.16852708275179662, -0.3960144172120537, 0.14527335441654993, -0.26713597812240275, -0.5776309983465432, -0.32040069635422863, -0.6682720834162138, 0.1450182664466893, 0.14498775377216833, -0.08206403685778878, -0.07696241925340588, 0.08420735598343017, 0.035055578152285605, -0.5775553605205577, -0.2632179262025632]}, {\"customdata\": [[\"Bitcoin\", \"SHA-256\"], [\"Ethereum\", \"Ethash\"], [\"Litecoin\", \"Scrypt\"], [\"Monero\", \"CryptoNight-V7\"], [\"Ethereum Classic\", \"Ethash\"], [\"ZCash\", \"Equihash\"], [\"DigiByte\", \"Multiple\"], [\"ProsperCoin\", \"Scrypt\"], [\"Spreadcoin\", \"X11\"], [\"Argentum\", \"Scrypt\"], [\"MyriadCoin\", \"Multiple\"], [\"MoonCoin\", \"Scrypt\"], [\"ZetaCoin\", \"SHA-256\"], [\"SexCoin\", \"Scrypt\"], [\"Quatloo\", \"Scrypt\"], [\"QuarkCoin\", \"Quark\"], [\"Riecoin\", \"Groestl\"], [\"Digitalcoin \", \"Scrypt\"], [\"Catcoin\", \"Scrypt\"], [\"CannaCoin\", \"Scrypt\"], [\"CryptCoin\", \"X11\"], [\"Verge\", \"Multiple\"], [\"DevCoin\", \"SHA-256\"], [\"EarthCoin\", \"Scrypt\"], [\"E-Gulden\", \"Scrypt\"], [\"Einsteinium\", \"Scrypt\"], [\"Emerald\", \"Scrypt\"], [\"Franko\", \"Scrypt\"], [\"FeatherCoin\", \"NeoScrypt\"], [\"GrandCoin\", \"Scrypt\"], [\"GlobalCoin\", \"Scrypt\"], [\"GoldCoin\", \"Scrypt\"], [\"Infinite Coin\", \"Scrypt\"], [\"IXcoin\", \"SHA-256\"], [\"KrugerCoin\", \"Scrypt\"], [\"LuckyCoin\", \"Scrypt\"], [\"Litebar \", \"Scrypt\"], [\"MegaCoin\", \"Scrypt\"], [\"MediterraneanCoin\", \"HybridScryptHash256\"], [\"MinCoin\", \"Scrypt\"], [\"NobleCoin\", \"Scrypt\"], [\"Namecoin\", \"SHA-256\"], [\"NyanCoin\", \"Scrypt\"], [\"RonPaulCoin\", \"Scrypt\"], [\"StableCoin\", \"Scrypt\"], [\"SmartCoin\", \"Scrypt\"], [\"SysCoin\", \"SHA-256\"], [\"TigerCoin\", \"SHA-256\"], [\"TerraCoin\", \"SHA-256\"], [\"UnbreakableCoin\", \"SHA-256\"], [\"Unobtanium\", \"SHA-256\"], [\"UroCoin\", \"X11\"], [\"ViaCoin\", \"Scrypt\"], [\"Vertcoin\", \"Lyra2REv2\"], [\"WorldCoin\", \"Scrypt\"], [\"JouleCoin\", \"SHA-256\"], [\"ByteCoin\", \"CryptoNight\"], [\"DigitalNote \", \"CryptoNight\"], [\"MonaCoin\", \"Scrypt\"], [\"Gulden\", \"Scrypt\"], [\"PesetaCoin\", \"Scrypt\"], [\"Wild Beast Coin\", \"Scrypt\"], [\"Flo\", \"Scrypt\"], [\"ArtByte\", \"Scrypt\"], [\"Folding Coin\", \"Stanford Folding\"], [\"Unitus\", \"Multiple\"], [\"CypherPunkCoin\", \"QuBit\"], [\"OmniCron\", \"Scrypt\"], [\"GreenCoin\", \"Scrypt\"], [\"Cryptonite\", \"M7 POW\"], [\"MasterCoin\", \"Scrypt\"], [\"SoonCoin\", \"SHA-256\"], [\"1Credit\", \"Scrypt\"], [\"MarsCoin \", \"X11\"], [\"Crypto\", \"Lyra2RE\"], [\"Anarchists Prime\", \"SHA-256\"], [\"BowsCoin\", \"X11\"], [\"Song Coin\", \"Scrypt\"], [\"BitZeny\", \"Scrypt\"], [\"Expanse\", \"Ethash\"], [\"Siacoin\", \"Blake2b\"], [\"MindCoin\", \"X11\"], [\"I0coin\", \"SHA-256\"], [\"Revolution VR\", \"Scrypt\"], [\"HOdlcoin\", \"1GB AES Pattern Search\"], [\"Gamecredits\", \"Scrypt\"], [\"CarpeDiemCoin\", \"SHA-256\"], [\"Adzcoin\", \"X11\"], [\"SoilCoin\", \"Dagger\"], [\"YoCoin\", \"Scrypt\"], [\"SibCoin\", \"X11GOST\"], [\"Francs\", \"Scrypt\"], [\"BolivarCoin\", \"X11\"], [\"Omni\", \"Scrypt\"], [\"PizzaCoin\", \"X11\"], [\"Komodo\", \"Equihash\"], [\"Karbo\", \"CryptoNight\"], [\"ZayedCoin\", \"SHA-256\"], [\"Circuits of Value\", \"Multiple\"], [\"DopeCoin\", \"Scrypt\"], [\"DollarCoin\", \"SHA-256\"], [\"Shilling\", \"Scrypt\"], [\"ZCoin\", \"Lyra2Z\"], [\"Elementrem\", \"Ethash\"], [\"ZClassic\", \"Equihash\"], [\"KiloCoin\", \"Scrypt\"], [\"ArtexCoin\", \"X11\"], [\"Kurrent\", \"X11\"], [\"Cannabis Industry Coin\", \"CryptoNight\"], [\"OsmiumCoin\", \"Scrypt\"], [\"Bikercoins\", \"CryptoNight\"], [\"HexxCoin\", \"Lyra2RE\"], [\"PacCoin\", \"X11\"], [\"Citadel\", \"CryptoNight-V7\"], [\"BeaverCoin\", \"Scrypt\"], [\"VaultCoin\", \"X11\"], [\"Zero\", \"Equihash\"], [\"Canada eCoin\", \"Scrypt\"], [\"Zoin\", \"Lyra2RE\"], [\"DubaiCoin\", \"Dagger-Hashimoto\"], [\"EB3coin\", \"Scrypt\"], [\"Coinonat\", \"NIST5\"], [\"BenjiRolls\", \"Scrypt\"], [\"ILCoin\", \"SHA-256\"], [\"EquiTrader\", \"Scrypt\"], [\"Quantum Resistant Ledger\", \"CryptoNight-V7\"], [\"Dynamic\", \"Argon2d\"], [\"Nano\", \"Blake2b\"], [\"ChanCoin\", \"Cloverhash\"], [\"Dinastycoin\", \"CryptoNight\"], [\"DigitalPrice\", \"X11\"], [\"Unify\", \"Scrypt\"], [\"SocialCoin\", \"Scrypt\"], [\"ArcticCoin\", \"X11\"], [\"DAS\", \"X11\"], [\"LeviarCoin\", \"CryptoNight\"], [\"Bitcore\", \"Time Travel\"], [\"gCn Coin\", \"Scrypt\"], [\"SmartCash\", \"Keccak\"], [\"Onix\", \"X11\"], [\"Bitcoin Cash\", \"SHA-256\"], [\"Sojourn Coin\", \"Scrypt\"], [\"NewYorkCoin\", \"Scrypt\"], [\"FrazCoin\", \"Scrypt\"], [\"Kronecoin\", \"Scrypt\"], [\"AdCoin\", \"Scrypt\"], [\"Linx\", \"Scrypt\"], [\"Sumokoin\", \"CryptoNight\"], [\"BitcoinZ\", \"Equihash\"], [\"Elements\", \"X11\"], [\"VIVO Coin\", \"NeoScrypt\"], [\"Bitcoin Gold\", \"Equihash\"], [\"Pirl\", \"Dagger\"], [\"eBoost\", \"Scrypt\"], [\"Pura\", \"X11\"], [\"Innova\", \"NeoScrypt\"], [\"Ellaism\", \"Ethash\"], [\"GoByte\", \"NeoScrypt\"], [\"SHIELD\", \"Multiple\"], [\"UltraNote\", \"CryptoNight\"], [\"BitCoal\", \"CryptoNight\"], [\"DaxxCoin\", \"Ethash\"], [\"AC3\", \"X11\"], [\"Lethean\", \"CryptoNight-V7\"], [\"PopularCoin\", \"Scrypt\"], [\"Photon\", \"BLAKE256\"], [\"Sucre\", \"X11\"], [\"SparksPay\", \"NeoScrypt\"], [\"GunCoin\", \"NeoScrypt\"], [\"IrishCoin\", \"Scrypt\"], [\"Pioneer Coin\", \"X11\"], [\"UnitedBitcoin\", \"SHA-256\"], [\"Interzone\", \"C11\"], [\"TurtleCoin\", \"CryptoNight\"], [\"MUNcoin\", \"SkunkHash\"], [\"Niobio Cash\", \"CryptoNight\"], [\"ShareChain\", \"Scrypt\"], [\"Travelflex\", \"Dagger\"], [\"KREDS\", \"Lyra2REv2\"], [\"BitFlip\", \"Scrypt\"], [\"LottoCoin\", \"Scrypt\"], [\"Crypto Improvement Fund\", \"X11\"], [\"Callisto Network\", \"Ethash\"], [\"BitTube\", \"CryptoNight\"], [\"Poseidon\", \"Scrypt\"], [\"Aidos Kuneen\", \"IMesh\"], [\"Bitrolium\", \"Equihash\"], [\"Alpenschillling\", \"Lyra2Z\"], [\"FuturoCoin\", \"X11\"], [\"Monero Classic\", \"CryptoNight\"], [\"Jumpcoin\", \"NIST5\"], [\"Infinex\", \"Lyra2RE\"], [\"KEYCO\", \"Tribus\"], [\"GINcoin\", \"Lyra2Z\"], [\"PlatinCoin\", \"CryptoNight\"], [\"Loki\", \"CryptoNight Heavy\"], [\"Newton Coin\", \"CryptoNight\"], [\"MassGrid\", \"Jump Consistent Hash\"], [\"PluraCoin\", \"CryptoNight\"], [\"Motion\", \"X16R\"], [\"PlusOneCoin\", \"HMQ1725\"], [\"Axe\", \"X11\"], [\"HexCoin\", \"Scrypt\"], [\"Webchain\", \"CryptoNight-V7\"], [\"Ryo\", \"Cryptonight-GPU\"], [\"Urals Coin\", \"XEVAN\"], [\"Qwertycoin\", \"CryptoNight Heavy\"], [\"Project Pai\", \"SHA-256\"], [\"Azart\", \"X11\"], [\"Xchange\", \"X16R\"], [\"CrypticCoin\", \"Equihash\"], [\"Actinium\", \"Lyra2Z\"], [\"Bitcoin SV\", \"SHA-256\"], [\"FREDEnergy\", \"CryptoNight\"], [\"Universal Molecule\", \"Blake\"], [\"Lithium\", \"Blake\"], [\"PirateCash\", \"Equihash\"], [\"Exosis\", \"Exosis\"], [\"Block-Logic\", \"Scrypt\"], [\"Beam\", \"Equihash\"], [\"Bithereum\", \"Equihash\"], [\"SLICE\", \"QuBit\"], [\"BLAST\", \"SHA-256\"], [\"Bitcoin Rhodium\", \"X13\"], [\"GlobalToken\", \"SHA-256\"], [\"SolarCoin\", \"Scrypt\"], [\"UFO Coin\", \"NeoScrypt\"], [\"BlakeCoin\", \"Blake\"], [\"Crypto Escudo\", \"Scrypt\"], [\"Crown Coin\", \"SHA-256\"], [\"SmileyCoin\", \"Scrypt\"], [\"Groestlcoin\", \"Groestl\"], [\"Bata\", \"Scrypt\"], [\"Pakcoin\", \"Scrypt\"], [\"JoinCoin\", \"Multiple\"], [\"Vollar\", \"Equihash+Scrypt\"], [\"Reality Clash\", \"Ethash\"], [\"Beldex\", \"CryptoNight\"], [\"Horizen\", \"Equihash\"]], \"hovertemplate\": \"Class=%{marker.color}<br>PC1=%{x}<br>PC2=%{y}<br>PC3=%{z}<br>CoinName=%{customdata[0]}<br>Algorithm=%{customdata[1]}<extra></extra>\", \"legendgroup\": \"1\", \"marker\": {\"color\": [1, 1, 1, 1, 1, 1, 1, 1, 1, 1, 1, 1, 1, 1, 1, 1, 1, 1, 1, 1, 1, 1, 1, 1, 1, 1, 1, 1, 1, 1, 1, 1, 1, 1, 1, 1, 1, 1, 1, 1, 1, 1, 1, 1, 1, 1, 1, 1, 1, 1, 1, 1, 1, 1, 1, 1, 1, 1, 1, 1, 1, 1, 1, 1, 1, 1, 1, 1, 1, 1, 1, 1, 1, 1, 1, 1, 1, 1, 1, 1, 1, 1, 1, 1, 1, 1, 1, 1, 1, 1, 1, 1, 1, 1, 1, 1, 1, 1, 1, 1, 1, 1, 1, 1, 1, 1, 1, 1, 1, 1, 1, 1, 1, 1, 1, 1, 1, 1, 1, 1, 1, 1, 1, 1, 1, 1, 1, 1, 1, 1, 1, 1, 1, 1, 1, 1, 1, 1, 1, 1, 1, 1, 1, 1, 1, 1, 1, 1, 1, 1, 1, 1, 1, 1, 1, 1, 1, 1, 1, 1, 1, 1, 1, 1, 1, 1, 1, 1, 1, 1, 1, 1, 1, 1, 1, 1, 1, 1, 1, 1, 1, 1, 1, 1, 1, 1, 1, 1, 1, 1, 1, 1, 1, 1, 1, 1, 1, 1, 1, 1, 1, 1, 1, 1, 1, 1, 1, 1, 1, 1, 1, 1, 1, 1, 1, 1, 1, 1, 1, 1, 1, 1, 1, 1, 1, 1, 1, 1, 1, 1, 1, 1, 1, 1, 1, 1, 1, 1, 1], \"coloraxis\": \"coloraxis\", \"symbol\": \"diamond\"}, \"mode\": \"markers\", \"name\": \"1\", \"scene\": \"scene\", \"showlegend\": true, \"type\": \"scatter3d\", \"x\": [-0.14720079923853419, -0.1562023189199611, -0.16398908663421455, -0.14910888022365526, -0.1546460157260122, -0.1312145805996701, 0.1569532945621826, -0.16513436506106938, -0.23085156712235966, -0.16475129088990412, -0.0962248701623323, 2.5537613572396087, -0.14428814640127696, -0.1620090962815487, -0.1645555591197756, -0.22636222148651527, -0.20379353105356554, -0.16460414449700564, -0.1651166431029556, -0.1652030166979492, -0.2309408430083151, 0.18069950842435872, 0.23032779535012946, 0.08331890144493881, -0.16494950679543924, -0.16055862164944124, -0.16488887409197983, -0.16525997541460935, -0.17753640320542532, -0.1445005467873152, -0.1640560710760868, -0.16433333724023538, 1.5821965917266188, -0.14716219486101403, -0.1616251354177219, -0.16497592752404885, -0.16533044578210745, -0.16459031767293422, -0.14179402721115175, -0.1652118181605679, -0.030252709144677557, -0.14723975278211623, -0.15888099148945936, -0.1651913058578133, -0.16328760693325967, -0.16467848569953467, -0.13440309408275575, -0.14670396094284477, -0.14699095640085905, -0.14697406462787482, -0.14756413592001694, -0.23111456655165707, -0.16490799337776524, -0.19791526707937077, -0.1620138524027534, -0.1467712041784565, 3.8555967215213136, 0.4573843975478307, -0.16377659690055157, -0.14839057082568816, -0.16249646347192714, -0.16533265735482552, -0.16236157556646819, -0.14859702452671064, -0.14522308759341462, -0.130202517413846, -0.18275907126312863, -0.16520582321696012, -0.038259353692394006, -0.1213290772270542, -0.16534153796140497, -0.1472675114891154, 0.4861021876100423, -0.23050226500853233, -0.15651948204082253, -0.1470076464487357, -0.23078693548769263, -0.16346720890037023, -0.16266011499650568, -0.15726910401191926, 0.3574772894887916, -0.23082229353584235, -0.14716331645221828, -0.16130275425625717, -0.16735337583842444, -0.16390610940965875, 0.27097334944897106, -0.22998378444674797, -0.15518373491116438, -0.1641536168429238, -0.15664440484623196, -0.16513164905647126, -0.23078558845327013, -0.16534159640769458, -0.23093545804538299, -0.17241938641006427, 0.30242358423821336, -0.14742319215350227, -0.11029202194313217, -0.16251081441396384, -0.1473818524855048, -0.1650053111987008, -0.15325941774689264, -0.1570114628895696, -0.13123618304384993, -0.09214676459198538, -0.21752925425399397, -0.22876567871388165, 0.30241791927796907, -0.1653233528364302, 0.3025485350038737, -0.15705939568160782, 0.4835290899916799, -0.14787496921299748, -0.16529166332560913, -0.22367732533915577, -0.1312485375938363, -0.16342647844907204, -0.15677799881407425, -0.16174017131160823, -0.1362468783476122, -0.19352574657924132, -0.16485443205171005, -0.1137784946126699, -0.1646767258103945, -0.14773256298465587, -0.15919685041203488, -0.0425562804586441, -0.17070397592699524, 0.3385096265989233, -0.22999221998100727, -0.16499561439350838, -0.1647593209733469, -0.23038651413635128, -0.23096345351665354, 0.3028125416303362, -0.1289008937247034, 3.241457529517244, -0.13155220625595543, -0.22184497036312092, -0.14719996402046687, -0.09099676712294377, 1.5804971422747482, -0.16509339797936912, -0.16454560237824611, -0.16424682732854948, -0.16423376708340515, 0.3029959233610713, 0.08087173787441981, -0.18538651638652712, -0.18222105113039286, -0.1310947047955198, -0.15394404593506147, -0.16342468881372238, -0.22651187963276734, -0.1820666212025125, -0.15537852700682359, -0.1821667192309801, -0.12044290178120043, 1.1395405508253678, 0.30240072596452205, -0.08034752585217396, -0.22625422566308814, -0.13685465735235255, -0.08155267847049479, 1.075112037776385, -0.23093747237396683, -0.18221859351230366, -0.17526259738994, -0.16434503630916014, -0.23086293976339078, -0.14717937284588667, -0.20388688856374065, 8.032025988559544, -0.1618148620028042, 0.3062715729788601, 0.027538557703969176, -0.15344742877749107, -0.1834861062708299, -0.1649183018872183, 0.14189571495030143, -0.22500923267343614, -0.10846736687507408, 0.31031555786929604, -0.16515509573892453, -0.15899021764180074, -0.13008662362820356, -0.15104526052823805, -0.23003296493788375, 0.3025831039367128, -0.19358508627804938, -0.15690478736680288, -0.16818788981691707, -0.15334370466714853, 0.3065069260784001, 0.5658985344966652, 2.109297250722662, -0.1536821837259258, 0.3161759325797847, -0.2028851449194102, -0.15476306321780983, -0.23091964821314487, -0.16517966433531445, -0.1367368695753277, -0.15611812327200167, -0.1569636287140704, 3.086201748205673, -0.10706102951396784, -0.23089104513511569, -0.20231348719981243, -0.025934613547031717, -0.1527420836386456, -0.14720000156060858, 0.38226531944680986, -0.1415408230834373, -0.14193234330722443, -0.2488177735873622, -0.14745216275177925, -0.16407300176439757, -0.12915684208954964, -0.13092766595980493, -0.18197087663283065, -0.14647676076194519, -0.11939463960209856, -0.1453457745616053, 0.529973731187556, -0.10744655607114677, -0.09245210724212186, -0.1487475092216946, -0.1469903272758694, 0.5498644806002708, -0.20335488992898984, -0.1652563995648405, -0.1632140199458738, -0.1309369162966555, -0.13949279524436242, -0.15704459392958642, 0.32413902236554404, -0.13121563683581935], \"y\": [-1.2786713443159496, -2.0131793329308656, -1.1302546263299917, -2.244049141271256, -2.0132676294145817, -2.1108160638222797, -1.7972827848270156, -1.1302538688299961, -0.9485908431410244, -1.130269505777116, -1.7935562756478467, -1.2965095199562584, -1.2786652554905777, -1.1302959836017485, -1.1302873377609997, -0.4802530288974865, -1.162171673013045, -1.1302528159725542, -1.1302531966306801, -1.130250958548246, -0.9485928262833605, -1.7932636506663706, -1.2790695901779776, -1.1302862836143908, -1.1302468570991844, -1.1302758990363901, -1.130252274439076, -1.130251783108963, -1.622506253730809, -1.130453131497659, -1.1302473452343187, -1.1302594375177852, -1.1275236470151027, -1.2786698800400513, -1.1302922384604046, -1.1302471576858142, -1.1302475205834144, -1.1302479656996112, -2.215100743976458, -1.130249089492894, -1.1356464292843191, -1.2786728218358285, -1.1302383693218723, -1.1302560286119114, -1.1303444779035843, -1.1302577642894098, -1.27879417570802, -1.2786707480358346, -1.2786781176668487, -1.2787041362262195, -1.2786705684236428, -0.9485867875957041, -1.1302466856019449, -1.2383579739662804, -1.130306982615078, -1.2786718870767073, -2.30935779132805, -2.3158536993015515, -1.1302613834704782, -1.1307826591522223, -1.1302558093742632, -1.1302485010623746, -1.1302462128741677, -1.1303134293922512, -2.1617062613578493, -1.7934419387996772, -1.648926012686612, -1.1302442116998568, -1.1324423251522877, -2.324378751012796, -1.130247428808371, -1.2786738747321136, -1.1700810281466394, -0.9485867142809369, -2.2111434744085754, -1.2786870010678462, -0.9485890932029878, -1.1303233962467547, -1.1303206769416294, -2.013231657264381, -2.1663181413127663, -0.9485869265459981, -1.2786699225823508, -1.1302411294427508, -2.227580089614626, -1.1302514789783713, -1.277967264646765, -0.9486028276998487, -2.1590066908195653, -1.130320044486103, -2.2767085876681072, -1.1302530642513835, -0.9485918483484539, -1.1302474288995306, -0.9485975329481295, -1.7193651198514237, -2.3147228289191473, -1.2786718773788157, -1.7935285992578016, -1.130279935938464, -1.2786709423684421, -1.1302552878148608, -2.2116934815557228, -2.0132284087609453, -2.1108168832096235, -1.1344862912043638, -0.9484222723882032, -0.9486576491753922, -2.314730760949793, -1.1302482086739154, -2.3147286128940747, -2.211124814112559, -0.99163610652671, -2.244132127196438, -1.130247459687969, -0.9490062504754027, -2.110814545582605, -1.1302445113842547, -2.2111218578005802, -2.1749951724687047, -1.1319496637249913, -0.6176195254467065, -1.1302534378127589, -1.2791427925883088, -1.130272289978532, -2.2440706009065265, -2.278292174080378, -2.1817302659327686, -2.1275824457340127, -2.314750178095791, -0.9486143726178382, -1.130247397046829, -1.1302775275176113, -0.9486012659273377, -0.9485943153106402, -2.314738944273613, -2.3877466306555855, -1.1413380036442575, -1.1587948178004692, -0.9490069046605737, -1.278671312635874, -1.1347934513090043, -1.0640267966654429, -1.1302516133762768, -1.1302757351431505, -1.130275627469302, -1.1302751320901905, -2.3147564651868566, -2.1174895860486944, -0.9481151161063146, -1.6224671619112394, -2.1108115168961965, -2.1590482807523457, -1.130244443502836, -0.9486577521700975, -1.6224739324116582, -2.0133445229732, -1.6224684685722768, -1.7935347829979391, -2.3425962861144103, -2.3147254498398016, -2.017317734563236, -0.9487882912206541, -2.2442855308091474, -1.1305766556423604, -1.0121216858222337, -0.9485939612416672, -1.6224628593346868, -1.6225350633723385, -1.1302540964160483, -0.9485933791879646, -1.2786699465054856, -1.1560918113789351, -2.7230893431879757, -2.358531024800288, -2.314805581993945, -1.129946590156924, -2.1589899413751192, -1.23852345614305, -1.1302590031221829, -1.1315069865026404, -0.948705990267841, -2.015928869739113, -2.315118028061256, -1.1302546551509765, -2.3393661661588716, -2.110807656494265, -2.2118049524312204, -0.948615918086571, -2.3147226713896534, -0.6176026573141171, -2.2111303711646837, -2.2234195021709304, -2.2116890315835125, -2.314981867109098, -2.1466442013723936, -2.3752675292047667, -2.1550656651069744, -2.314895742247914, -1.1695516430388064, -2.1511839017774106, -0.9485941270374394, -1.1302563624533912, -2.2448075966230268, -2.129601962275675, -0.7001723384767434, -2.1803598144428014, -1.278607373183627, -0.9485958483527974, -1.1695846284362594, -2.1121398834729828, -2.211717776552767, -1.278671314059783, -2.3173559943439317, -2.2313563256433437, -2.2313151276764964, -0.1673191581931405, -2.0714110147051956, -1.1302830654067253, -2.1109076503096094, -2.1108121166812666, -1.6489662721945106, -1.2786740483822072, -0.32320384937944974, -1.2787041119394287, -1.1726964813354894, -1.622418239122767, -2.234331545677635, -1.1303191373229673, -1.2786780938039446, -1.1381969963771184, -1.1621697679746228, -1.1302472726806359, -1.1302939806653156, -1.79347175914217, -2.1664897500462925, -2.0132284604359993, -2.314874479869506, -2.1108161038856403], \"z\": [0.17626424986337944, 0.3836101004193888, -0.005300557826060683, 0.41220626552088674, 0.3835890570199868, 0.43590610127105794, 0.35859686403444563, -0.0052775954109872715, 0.07569963318794491, -0.0052834849041986, 0.36325863771203165, -0.04064382448682368, 0.17620491907070868, -0.005335593434157776, -0.0052853482714528815, 0.03157416230979841, 0.04262846097253542, -0.005288389545897889, -0.005278030353993592, -0.0052765525083887, 0.07570166089512954, 0.3576510123629393, 0.16871223311347236, -0.010274350813662599, -0.0052821323142637515, -0.005367124921675308, -0.005282721943116968, -0.0052753101229106245, 0.25176563797295526, -0.005669686040834584, -0.0053000573423428714, -0.005293069084778977, -0.04076335598359559, 0.17626330241141758, -0.00534375729699333, -0.0052815655585561035, -0.005274388047838345, -0.005289232517372377, 0.5194564714669462, -0.005276592965808332, -0.007364491035773658, 0.17626520588479033, -0.005405259305463328, -0.0052761979355409805, -0.005304215453061496, -0.0052863172087868945, 0.17602097548573867, 0.17625418075750268, 0.17626081500705423, 0.17626350419465717, 0.17627147227783488, 0.07570445432325147, -0.005282987806085751, 0.2586801688603787, -0.005334217169821417, 0.17625566674854726, 0.324856189880604, 0.3940070569464638, -0.00530404784276914, -0.005553028288585351, -0.005330461580064325, -0.005274229385878685, -0.005334293674875099, -0.0056035022686318796, 0.369356625266604, 0.36392918210226627, 0.16020143737596537, -0.005277281511827197, -0.0075763760348305596, 0.33120575715652595, -0.005274175484286431, 0.17626588715575373, -0.01374799578658472, 0.07569212221552452, 0.3869952135047604, 0.1762621851550086, 0.07569812863708772, -0.005303055061640558, -0.005319615739405141, 0.38363766298084223, 0.4111677918169695, 0.075698588026766, 0.17626332993818664, -0.005356196018296141, 0.2971891260963055, -0.0053025943032474565, 0.16776583852130422, 0.07568356291909398, 0.46773434067047376, -0.005289630199170009, 0.3983397545482722, -0.005277743746595307, 0.0756984222884816, -0.005274174297346363, 0.07570210047858647, 0.6477061150026568, 0.3969942378399092, 0.1762687879461735, 0.36353854002732366, -0.00532736385361786, 0.17626784706075646, -0.005280027628837775, 0.40780287247338165, 0.3836320993299993, 0.4359066314512978, -0.006253838629078123, 0.0754118742692531, 0.07566542903258565, 0.3969952753283861, -0.005274450695343621, 0.3969923963894281, 0.3870039076616233, 0.06633301597057312, 0.4121910925207468, -0.005275175697982877, 0.07560360283632517, 0.4359066079530038, -0.005313058851645384, 0.3869978999053148, 0.36528378586227295, -0.0056615736750361785, -0.02870686214879341, -0.005283279702022261, 0.17564645868492298, -0.005284661503190582, 0.4121810632784904, 0.48840375106502937, 0.421013450964231, 0.3171703081216737, 0.39627113116485674, 0.0756850767935811, -0.005281141460879626, -0.005282389369439035, 0.07569148668776968, 0.07570228932589343, 0.39698828563491556, 0.4375578480441599, -0.07255039139469113, 0.16003883367559604, 0.0755667998512686, 0.176264229364955, -0.006241223671131852, -0.048121654089209195, -0.005278682527646993, -0.005286899480327858, -0.005292925353658663, -0.005293245886088056, 0.39698663461662864, 0.4324144688484271, 0.07472918888688676, 0.2518553729990063, 0.4359031592066238, 0.4677142319281429, -0.0053131027739579, 0.0756200796227949, 0.25185305308645517, 0.3836127521992621, 0.2518544316060468, 0.3637435630529937, 0.38339100199085957, 0.39699500303593116, 0.382565204061136, 0.07563009167969281, 0.4119871504102696, -0.006922234001858688, 0.08815459156980483, 0.07570172519099126, 0.2518548226159674, 0.2517232280126285, -0.005293455449643694, 0.07570015733551937, 0.17626365588463394, 0.18419865679744055, 0.2889666290745753, 0.4363799804379325, 0.3969264251314921, -0.009191228142017815, 0.4676974446407028, 0.25840902430159013, -0.005281346286128267, -0.011311187144127993, 0.07559545242023086, 0.382969465958142, 0.3968814092573274, -0.005277086626162352, 0.527814326889356, 0.4358824204806731, 0.40777128671874957, 0.07568607678093725, 0.39699100890442746, -0.02870763168094944, 0.3870014428852898, 0.4058257395308689, 0.4078040508060977, 0.3969422119301607, 0.4081671330199244, 0.36767674736609984, 0.35349861968692076, 0.39673758039939977, 0.2079211398167442, 0.3582596248811474, 0.07570138575300193, -0.005276393373391463, 0.41204556027635003, 0.3867800776645863, 0.16537708843416796, 0.36136717709702426, 0.17544892348402027, 0.07570101047010143, 0.20791347453146589, 0.43394129259996633, 0.4077952887761737, 0.17626423028628782, 0.395693853419422, 0.35844571319206736, 0.3584487967819086, 0.17795267573312412, 0.3091239597644684, -0.005295557930073733, 0.43587534869653716, 0.4358998671051152, 0.16019026080516371, 0.17624999221812102, -0.09601864747160009, 0.17623072936056383, -0.014326483255007657, 0.25034471797712193, 0.357804106763883, -0.0055998089823005495, 0.1762607995666885, -0.018743355347593575, 0.04261941081037394, -0.005275907210949835, -0.005311575558534037, 0.36394743486127856, 0.3058923506639981, 0.3836327721626576, 0.3965748347322629, 0.43590612719384314]}, {\"customdata\": [[\"BiblePay\", \"Proof-of-BibleHash\"], [\"LitecoinCash\", \"SHA-256 + Hive\"], [\"Poa Network\", \"Proof-of-Authority\"], [\"Acute Angle Cloud\", \"ECC 256K1\"], [\"Waves\", \"Leased POS\"]], \"hovertemplate\": \"Class=%{marker.color}<br>PC1=%{x}<br>PC2=%{y}<br>PC3=%{z}<br>CoinName=%{customdata[0]}<br>Algorithm=%{customdata[1]}<extra></extra>\", \"legendgroup\": \"3\", \"marker\": {\"color\": [3, 3, 3, 3, 3], \"coloraxis\": \"coloraxis\", \"symbol\": \"square\"}, \"mode\": \"markers\", \"name\": \"3\", \"scene\": \"scene\", \"showlegend\": true, \"type\": \"scatter3d\", \"x\": [-0.15408323343922917, -0.3818642641103628, -0.3820311606396263, -0.43005634924212605, -0.4059893740099547], \"y\": [2.1400935194826407, 3.520167026088751, 3.108146074770236, 4.101659915400575, 2.972059025632312], \"z\": [12.266109898466123, 13.335796481075363, 16.671521435805197, 13.298588592830813, 14.273822400359068]}, {\"customdata\": [[\"BitTorrent\", \"TRC10\"]], \"hovertemplate\": \"Class=%{marker.color}<br>PC1=%{x}<br>PC2=%{y}<br>PC3=%{z}<br>CoinName=%{customdata[0]}<br>Algorithm=%{customdata[1]}<extra></extra>\", \"legendgroup\": \"2\", \"marker\": {\"color\": [2], \"coloraxis\": \"coloraxis\", \"symbol\": \"x\"}, \"mode\": \"markers\", \"name\": \"2\", \"scene\": \"scene\", \"showlegend\": true, \"type\": \"scatter3d\", \"x\": [34.04466485652093], \"y\": [1.8019320913472014], \"z\": [-0.6575688343411729]}],                        {\"coloraxis\": {\"colorbar\": {\"title\": {\"text\": \"Class\"}}, \"colorscale\": [[0.0, \"#0d0887\"], [0.1111111111111111, \"#46039f\"], [0.2222222222222222, \"#7201a8\"], [0.3333333333333333, \"#9c179e\"], [0.4444444444444444, \"#bd3786\"], [0.5555555555555556, \"#d8576b\"], [0.6666666666666666, \"#ed7953\"], [0.7777777777777778, \"#fb9f3a\"], [0.8888888888888888, \"#fdca26\"], [1.0, \"#f0f921\"]]}, \"legend\": {\"title\": {\"text\": \"Class\"}, \"tracegroupgap\": 0, \"x\": 0, \"y\": 1}, \"margin\": {\"t\": 60}, \"scene\": {\"domain\": {\"x\": [0.0, 1.0], \"y\": [0.0, 1.0]}, \"xaxis\": {\"title\": {\"text\": \"PC1\"}}, \"yaxis\": {\"title\": {\"text\": \"PC2\"}}, \"zaxis\": {\"title\": {\"text\": \"PC3\"}}}, \"template\": {\"data\": {\"bar\": [{\"error_x\": {\"color\": \"#2a3f5f\"}, \"error_y\": {\"color\": \"#2a3f5f\"}, \"marker\": {\"line\": {\"color\": \"#E5ECF6\", \"width\": 0.5}}, \"type\": \"bar\"}], \"barpolar\": [{\"marker\": {\"line\": {\"color\": \"#E5ECF6\", \"width\": 0.5}}, \"type\": \"barpolar\"}], \"carpet\": [{\"aaxis\": {\"endlinecolor\": \"#2a3f5f\", \"gridcolor\": \"white\", \"linecolor\": \"white\", \"minorgridcolor\": \"white\", \"startlinecolor\": \"#2a3f5f\"}, \"baxis\": {\"endlinecolor\": \"#2a3f5f\", \"gridcolor\": \"white\", \"linecolor\": \"white\", \"minorgridcolor\": \"white\", \"startlinecolor\": \"#2a3f5f\"}, \"type\": \"carpet\"}], \"choropleth\": [{\"colorbar\": {\"outlinewidth\": 0, \"ticks\": \"\"}, \"type\": \"choropleth\"}], \"contour\": [{\"colorbar\": {\"outlinewidth\": 0, \"ticks\": \"\"}, \"colorscale\": [[0.0, \"#0d0887\"], [0.1111111111111111, \"#46039f\"], [0.2222222222222222, \"#7201a8\"], [0.3333333333333333, \"#9c179e\"], [0.4444444444444444, \"#bd3786\"], [0.5555555555555556, \"#d8576b\"], [0.6666666666666666, \"#ed7953\"], [0.7777777777777778, \"#fb9f3a\"], [0.8888888888888888, \"#fdca26\"], [1.0, \"#f0f921\"]], \"type\": \"contour\"}], \"contourcarpet\": [{\"colorbar\": {\"outlinewidth\": 0, \"ticks\": \"\"}, \"type\": \"contourcarpet\"}], \"heatmap\": [{\"colorbar\": {\"outlinewidth\": 0, \"ticks\": \"\"}, \"colorscale\": [[0.0, \"#0d0887\"], [0.1111111111111111, \"#46039f\"], [0.2222222222222222, \"#7201a8\"], [0.3333333333333333, \"#9c179e\"], [0.4444444444444444, \"#bd3786\"], [0.5555555555555556, \"#d8576b\"], [0.6666666666666666, \"#ed7953\"], [0.7777777777777778, \"#fb9f3a\"], [0.8888888888888888, \"#fdca26\"], [1.0, \"#f0f921\"]], \"type\": \"heatmap\"}], \"heatmapgl\": [{\"colorbar\": {\"outlinewidth\": 0, \"ticks\": \"\"}, \"colorscale\": [[0.0, \"#0d0887\"], [0.1111111111111111, \"#46039f\"], [0.2222222222222222, \"#7201a8\"], [0.3333333333333333, \"#9c179e\"], [0.4444444444444444, \"#bd3786\"], [0.5555555555555556, \"#d8576b\"], [0.6666666666666666, \"#ed7953\"], [0.7777777777777778, \"#fb9f3a\"], [0.8888888888888888, \"#fdca26\"], [1.0, \"#f0f921\"]], \"type\": \"heatmapgl\"}], \"histogram\": [{\"marker\": {\"colorbar\": {\"outlinewidth\": 0, \"ticks\": \"\"}}, \"type\": \"histogram\"}], \"histogram2d\": [{\"colorbar\": {\"outlinewidth\": 0, \"ticks\": \"\"}, \"colorscale\": [[0.0, \"#0d0887\"], [0.1111111111111111, \"#46039f\"], [0.2222222222222222, \"#7201a8\"], [0.3333333333333333, \"#9c179e\"], [0.4444444444444444, \"#bd3786\"], [0.5555555555555556, \"#d8576b\"], [0.6666666666666666, \"#ed7953\"], [0.7777777777777778, \"#fb9f3a\"], [0.8888888888888888, \"#fdca26\"], [1.0, \"#f0f921\"]], \"type\": \"histogram2d\"}], \"histogram2dcontour\": [{\"colorbar\": {\"outlinewidth\": 0, \"ticks\": \"\"}, \"colorscale\": [[0.0, \"#0d0887\"], [0.1111111111111111, \"#46039f\"], [0.2222222222222222, \"#7201a8\"], [0.3333333333333333, \"#9c179e\"], [0.4444444444444444, \"#bd3786\"], [0.5555555555555556, \"#d8576b\"], [0.6666666666666666, \"#ed7953\"], [0.7777777777777778, \"#fb9f3a\"], [0.8888888888888888, \"#fdca26\"], [1.0, \"#f0f921\"]], \"type\": \"histogram2dcontour\"}], \"mesh3d\": [{\"colorbar\": {\"outlinewidth\": 0, \"ticks\": \"\"}, \"type\": \"mesh3d\"}], \"parcoords\": [{\"line\": {\"colorbar\": {\"outlinewidth\": 0, \"ticks\": \"\"}}, \"type\": \"parcoords\"}], \"pie\": [{\"automargin\": true, \"type\": \"pie\"}], \"scatter\": [{\"marker\": {\"colorbar\": {\"outlinewidth\": 0, \"ticks\": \"\"}}, \"type\": \"scatter\"}], \"scatter3d\": [{\"line\": {\"colorbar\": {\"outlinewidth\": 0, \"ticks\": \"\"}}, \"marker\": {\"colorbar\": {\"outlinewidth\": 0, \"ticks\": \"\"}}, \"type\": \"scatter3d\"}], \"scattercarpet\": [{\"marker\": {\"colorbar\": {\"outlinewidth\": 0, \"ticks\": \"\"}}, \"type\": \"scattercarpet\"}], \"scattergeo\": [{\"marker\": {\"colorbar\": {\"outlinewidth\": 0, \"ticks\": \"\"}}, \"type\": \"scattergeo\"}], \"scattergl\": [{\"marker\": {\"colorbar\": {\"outlinewidth\": 0, \"ticks\": \"\"}}, \"type\": \"scattergl\"}], \"scattermapbox\": [{\"marker\": {\"colorbar\": {\"outlinewidth\": 0, \"ticks\": \"\"}}, \"type\": \"scattermapbox\"}], \"scatterpolar\": [{\"marker\": {\"colorbar\": {\"outlinewidth\": 0, \"ticks\": \"\"}}, \"type\": \"scatterpolar\"}], \"scatterpolargl\": [{\"marker\": {\"colorbar\": {\"outlinewidth\": 0, \"ticks\": \"\"}}, \"type\": \"scatterpolargl\"}], \"scatterternary\": [{\"marker\": {\"colorbar\": {\"outlinewidth\": 0, \"ticks\": \"\"}}, \"type\": \"scatterternary\"}], \"surface\": [{\"colorbar\": {\"outlinewidth\": 0, \"ticks\": \"\"}, \"colorscale\": [[0.0, \"#0d0887\"], [0.1111111111111111, \"#46039f\"], [0.2222222222222222, \"#7201a8\"], [0.3333333333333333, \"#9c179e\"], [0.4444444444444444, \"#bd3786\"], [0.5555555555555556, \"#d8576b\"], [0.6666666666666666, \"#ed7953\"], [0.7777777777777778, \"#fb9f3a\"], [0.8888888888888888, \"#fdca26\"], [1.0, \"#f0f921\"]], \"type\": \"surface\"}], \"table\": [{\"cells\": {\"fill\": {\"color\": \"#EBF0F8\"}, \"line\": {\"color\": \"white\"}}, \"header\": {\"fill\": {\"color\": \"#C8D4E3\"}, \"line\": {\"color\": \"white\"}}, \"type\": \"table\"}]}, \"layout\": {\"annotationdefaults\": {\"arrowcolor\": \"#2a3f5f\", \"arrowhead\": 0, \"arrowwidth\": 1}, \"coloraxis\": {\"colorbar\": {\"outlinewidth\": 0, \"ticks\": \"\"}}, \"colorscale\": {\"diverging\": [[0, \"#8e0152\"], [0.1, \"#c51b7d\"], [0.2, \"#de77ae\"], [0.3, \"#f1b6da\"], [0.4, \"#fde0ef\"], [0.5, \"#f7f7f7\"], [0.6, \"#e6f5d0\"], [0.7, \"#b8e186\"], [0.8, \"#7fbc41\"], [0.9, \"#4d9221\"], [1, \"#276419\"]], \"sequential\": [[0.0, \"#0d0887\"], [0.1111111111111111, \"#46039f\"], [0.2222222222222222, \"#7201a8\"], [0.3333333333333333, \"#9c179e\"], [0.4444444444444444, \"#bd3786\"], [0.5555555555555556, \"#d8576b\"], [0.6666666666666666, \"#ed7953\"], [0.7777777777777778, \"#fb9f3a\"], [0.8888888888888888, \"#fdca26\"], [1.0, \"#f0f921\"]], \"sequentialminus\": [[0.0, \"#0d0887\"], [0.1111111111111111, \"#46039f\"], [0.2222222222222222, \"#7201a8\"], [0.3333333333333333, \"#9c179e\"], [0.4444444444444444, \"#bd3786\"], [0.5555555555555556, \"#d8576b\"], [0.6666666666666666, \"#ed7953\"], [0.7777777777777778, \"#fb9f3a\"], [0.8888888888888888, \"#fdca26\"], [1.0, \"#f0f921\"]]}, \"colorway\": [\"#636efa\", \"#EF553B\", \"#00cc96\", \"#ab63fa\", \"#FFA15A\", \"#19d3f3\", \"#FF6692\", \"#B6E880\", \"#FF97FF\", \"#FECB52\"], \"font\": {\"color\": \"#2a3f5f\"}, \"geo\": {\"bgcolor\": \"white\", \"lakecolor\": \"white\", \"landcolor\": \"#E5ECF6\", \"showlakes\": true, \"showland\": true, \"subunitcolor\": \"white\"}, \"hoverlabel\": {\"align\": \"left\"}, \"hovermode\": \"closest\", \"mapbox\": {\"style\": \"light\"}, \"paper_bgcolor\": \"white\", \"plot_bgcolor\": \"#E5ECF6\", \"polar\": {\"angularaxis\": {\"gridcolor\": \"white\", \"linecolor\": \"white\", \"ticks\": \"\"}, \"bgcolor\": \"#E5ECF6\", \"radialaxis\": {\"gridcolor\": \"white\", \"linecolor\": \"white\", \"ticks\": \"\"}}, \"scene\": {\"xaxis\": {\"backgroundcolor\": \"#E5ECF6\", \"gridcolor\": \"white\", \"gridwidth\": 2, \"linecolor\": \"white\", \"showbackground\": true, \"ticks\": \"\", \"zerolinecolor\": \"white\"}, \"yaxis\": {\"backgroundcolor\": \"#E5ECF6\", \"gridcolor\": \"white\", \"gridwidth\": 2, \"linecolor\": \"white\", \"showbackground\": true, \"ticks\": \"\", \"zerolinecolor\": \"white\"}, \"zaxis\": {\"backgroundcolor\": \"#E5ECF6\", \"gridcolor\": \"white\", \"gridwidth\": 2, \"linecolor\": \"white\", \"showbackground\": true, \"ticks\": \"\", \"zerolinecolor\": \"white\"}}, \"shapedefaults\": {\"line\": {\"color\": \"#2a3f5f\"}}, \"ternary\": {\"aaxis\": {\"gridcolor\": \"white\", \"linecolor\": \"white\", \"ticks\": \"\"}, \"baxis\": {\"gridcolor\": \"white\", \"linecolor\": \"white\", \"ticks\": \"\"}, \"bgcolor\": \"#E5ECF6\", \"caxis\": {\"gridcolor\": \"white\", \"linecolor\": \"white\", \"ticks\": \"\"}}, \"title\": {\"x\": 0.05}, \"xaxis\": {\"automargin\": true, \"gridcolor\": \"white\", \"linecolor\": \"white\", \"ticks\": \"\", \"title\": {\"standoff\": 15}, \"zerolinecolor\": \"white\", \"zerolinewidth\": 2}, \"yaxis\": {\"automargin\": true, \"gridcolor\": \"white\", \"linecolor\": \"white\", \"ticks\": \"\", \"title\": {\"standoff\": 15}, \"zerolinecolor\": \"white\", \"zerolinewidth\": 2}}}, \"width\": 800},                        {\"responsive\": true}                    ).then(function(){\n",
       "                            \n",
       "var gd = document.getElementById('82eaf094-16fb-463a-aed8-c701a4876b64');\n",
       "var x = new MutationObserver(function (mutations, observer) {{\n",
       "        var display = window.getComputedStyle(gd).display;\n",
       "        if (!display || display === 'none') {{\n",
       "            console.log([gd, 'removed!']);\n",
       "            Plotly.purge(gd);\n",
       "            observer.disconnect();\n",
       "        }}\n",
       "}});\n",
       "\n",
       "// Listen for the removal of the full notebook cells\n",
       "var notebookContainer = gd.closest('#notebook-container');\n",
       "if (notebookContainer) {{\n",
       "    x.observe(notebookContainer, {childList: true});\n",
       "}}\n",
       "\n",
       "// Listen for the clearing of the current output cell\n",
       "var outputEl = gd.closest('.output');\n",
       "if (outputEl) {{\n",
       "    x.observe(outputEl, {childList: true});\n",
       "}}\n",
       "\n",
       "                        })                };                });            </script>        </div>"
      ]
     },
     "metadata": {},
     "output_type": "display_data"
    }
   ],
   "source": [
    "# Creating a 3D-Scatter with the PCA data and the clusters\n",
    "# YOUR CODE HERE\n",
    "fig = px.scatter_3d(\n",
    "    clustered_df,\n",
    "    x=\"PC1\",\n",
    "    y=\"PC2\",\n",
    "    z=\"PC3\",\n",
    "    color=\"Class\",\n",
    "    symbol=\"Class\",\n",
    "    width=800,\n",
    "    hover_data=[\"CoinName\", \"Algorithm\"]\n",
    ")\n",
    "fig.update_layout(legend=dict(x=0, y=1))\n",
    "fig.show()"
   ]
  },
  {
   "cell_type": "code",
   "execution_count": 469,
   "metadata": {},
   "outputs": [
    {
     "data": {},
     "metadata": {},
     "output_type": "display_data"
    },
    {
     "data": {
      "application/vnd.holoviews_exec.v0+json": "",
      "text/html": [
       "<div id='2011'>\n",
       "\n",
       "\n",
       "\n",
       "\n",
       "\n",
       "  <div class=\"bk-root\" id=\"64375ae3-ee4e-4de0-aada-b77575187e92\" data-root-id=\"2011\"></div>\n",
       "</div>\n",
       "<script type=\"application/javascript\">(function(root) {\n",
       "  function embed_document(root) {\n",
       "    var docs_json = {\"c8e79137-382c-4d7e-847e-69d66546cab7\":{\"roots\":{\"references\":[{\"attributes\":{},\"id\":\"2030\",\"type\":\"StringFormatter\"},{\"attributes\":{},\"id\":\"2040\",\"type\":\"NumberFormatter\"},{\"attributes\":{},\"id\":\"2048\",\"type\":\"UnionRenderers\"},{\"attributes\":{\"editor\":{\"id\":\"2016\"},\"field\":\"CoinName\",\"formatter\":{\"id\":\"2015\"},\"title\":\"CoinName\"},\"id\":\"2017\",\"type\":\"TableColumn\"},{\"attributes\":{},\"id\":\"2041\",\"type\":\"IntEditor\"},{\"attributes\":{},\"id\":\"2031\",\"type\":\"StringEditor\"},{\"attributes\":{\"source\":{\"id\":\"2013\"}},\"id\":\"2046\",\"type\":\"CDSView\"},{\"attributes\":{\"editor\":{\"id\":\"2031\"},\"field\":\"TotalCoinSupply\",\"formatter\":{\"id\":\"2030\"},\"title\":\"TotalCoinSupply\"},\"id\":\"2032\",\"type\":\"TableColumn\"},{\"attributes\":{},\"id\":\"2020\",\"type\":\"StringFormatter\"},{\"attributes\":{\"margin\":[5,5,5,5],\"name\":\"HSpacer03345\",\"sizing_mode\":\"stretch_width\"},\"id\":\"2051\",\"type\":\"Spacer\"},{\"attributes\":{\"format\":\"0,0.0[00000]\"},\"id\":\"2035\",\"type\":\"NumberFormatter\"},{\"attributes\":{},\"id\":\"2021\",\"type\":\"StringEditor\"},{\"attributes\":{\"editor\":{\"id\":\"2021\"},\"field\":\"Algorithm\",\"formatter\":{\"id\":\"2020\"},\"title\":\"Algorithm\"},\"id\":\"2022\",\"type\":\"TableColumn\"},{\"attributes\":{\"data\":{\"Algorithm\":[\"Scrypt\",\"Scrypt\",\"X13\",\"SHA-256\",\"Ethash\",\"Scrypt\",\"X11\",\"CryptoNight-V7\",\"Ethash\",\"Equihash\",\"SHA-512\",\"Multiple\",\"SHA-256\",\"SHA-256\",\"Scrypt\",\"X15\",\"X11\",\"Scrypt\",\"Scrypt\",\"Scrypt\",\"Multiple\",\"Scrypt\",\"SHA-256\",\"Scrypt\",\"Scrypt\",\"Scrypt\",\"Quark\",\"Groestl\",\"Scrypt\",\"Scrypt\",\"Scrypt\",\"Scrypt\",\"Scrypt\",\"X11\",\"Scrypt\",\"Groestl\",\"Multiple\",\"SHA-256\",\"Scrypt\",\"Scrypt\",\"Scrypt\",\"Scrypt\",\"PoS\",\"Scrypt\",\"Scrypt\",\"NeoScrypt\",\"Scrypt\",\"Scrypt\",\"Scrypt\",\"Scrypt\",\"X11\",\"Scrypt\",\"X11\",\"SHA-256\",\"Scrypt\",\"Scrypt\",\"Scrypt\",\"SHA3\",\"Scrypt\",\"HybridScryptHash256\",\"Scrypt\",\"Scrypt\",\"SHA-256\",\"Scrypt\",\"X13\",\"Scrypt\",\"SHA-256\",\"Scrypt\",\"X13\",\"NeoScrypt\",\"Scrypt\",\"Scrypt\",\"Scrypt\",\"Scrypt\",\"Scrypt\",\"Scrypt\",\"X11\",\"X11\",\"SHA-256\",\"Multiple\",\"SHA-256\",\"PHI1612\",\"X11\",\"SHA-256\",\"SHA-256\",\"SHA-256\",\"X11\",\"Scrypt\",\"Scrypt\",\"Scrypt\",\"Scrypt\",\"Lyra2REv2\",\"Scrypt\",\"X11\",\"Multiple\",\"SHA-256\",\"X13\",\"Scrypt\",\"CryptoNight\",\"CryptoNight\",\"Shabal256\",\"Counterparty\",\"Scrypt\",\"SHA-256\",\"Groestl\",\"Scrypt\",\"Scrypt\",\"Scrypt\",\"X13\",\"Scrypt\",\"Scrypt\",\"Scrypt\",\"Scrypt\",\"X13\",\"Scrypt\",\"Stanford Folding\",\"X11\",\"Multiple\",\"QuBit\",\"Scrypt\",\"Scrypt\",\"Scrypt\",\"M7 POW\",\"Scrypt\",\"SHA-256\",\"Scrypt\",\"X11\",\"SHA3\",\"X11\",\"Lyra2RE\",\"SHA-256\",\"QUAIT\",\"X11\",\"X11\",\"Scrypt\",\"Scrypt\",\"Scrypt\",\"Ethash\",\"X13\",\"Blake2b\",\"SHA-256\",\"X15\",\"X11\",\"SHA-256\",\"BLAKE256\",\"Scrypt\",\"1GB AES Pattern Search\",\"SHA-256\",\"X11\",\"Scrypt\",\"SHA-256\",\"SHA-256\",\"NIST5\",\"Scrypt\",\"Scrypt\",\"X11\",\"Dagger\",\"Scrypt\",\"X11GOST\",\"X11\",\"Scrypt\",\"SHA-256\",\"Scrypt\",\"PoS\",\"Scrypt\",\"X11\",\"X11\",\"SHA-256\",\"SHA-256\",\"NIST5\",\"X11\",\"Scrypt\",\"POS 3.0\",\"Scrypt\",\"Scrypt\",\"Scrypt\",\"X13\",\"X11\",\"X11\",\"Equihash\",\"X11\",\"Scrypt\",\"CryptoNight\",\"SHA-256\",\"SHA-256\",\"X11\",\"Scrypt\",\"Multiple\",\"Scrypt\",\"Scrypt\",\"Scrypt\",\"SHA-256\",\"Scrypt\",\"Scrypt\",\"SHA-256D\",\"PoS\",\"Scrypt\",\"X11\",\"Lyra2Z\",\"PoS\",\"X13\",\"X14\",\"PoS\",\"SHA-256D\",\"Ethash\",\"Equihash\",\"DPoS\",\"X11\",\"Scrypt\",\"X11\",\"X13\",\"X11\",\"PoS\",\"Scrypt\",\"Scrypt\",\"X11\",\"PoS\",\"X11\",\"SHA-256\",\"Scrypt\",\"X11\",\"Scrypt\",\"Scrypt\",\"X11\",\"CryptoNight\",\"Scrypt\",\"Scrypt\",\"Scrypt\",\"Scrypt\",\"Quark\",\"QuBit\",\"Scrypt\",\"CryptoNight\",\"Lyra2RE\",\"Scrypt\",\"SHA-256\",\"X11\",\"Scrypt\",\"X11\",\"Scrypt\",\"CryptoNight-V7\",\"Scrypt\",\"Scrypt\",\"Scrypt\",\"X13\",\"X11\",\"Equihash\",\"Scrypt\",\"Scrypt\",\"Lyra2RE\",\"Scrypt\",\"Dagger-Hashimoto\",\"X11\",\"Blake2S\",\"X11\",\"Scrypt\",\"PoS\",\"X11\",\"NIST5\",\"PoS\",\"X11\",\"Scrypt\",\"Scrypt\",\"Scrypt\",\"SHA-256\",\"X11\",\"Scrypt\",\"Scrypt\",\"SHA-256\",\"PoS\",\"Scrypt\",\"X15\",\"SHA-256\",\"Scrypt\",\"POS 3.0\",\"CryptoNight-V7\",\"536\",\"Argon2d\",\"Blake2b\",\"Cloverhash\",\"CryptoNight\",\"NIST5\",\"X11\",\"NIST5\",\"Skein\",\"Scrypt\",\"X13\",\"Scrypt\",\"X11\",\"X11\",\"Scrypt\",\"CryptoNight\",\"X13\",\"Time Travel\",\"Scrypt\",\"Keccak\",\"SkunkHash v2 Raptor\",\"X11\",\"Skein\",\"SHA-256\",\"X11\",\"Scrypt\",\"VeChainThor Authority\",\"Scrypt\",\"PoS\",\"Scrypt\",\"Scrypt\",\"Scrypt\",\"Scrypt\",\"Scrypt\",\"Scrypt\",\"Scrypt\",\"CryptoNight\",\"SHA-512\",\"Ouroboros\",\"X11\",\"Equihash\",\"NeoScrypt\",\"X11\",\"Scrypt\",\"NeoScrypt\",\"Lyra2REv2\",\"Equihash\",\"Scrypt\",\"SHA-256\",\"NIST5\",\"PHI1612\",\"Dagger\",\"Scrypt\",\"Quark\",\"Scrypt\",\"POS 2.0\",\"Scrypt\",\"SHA-256\",\"X11\",\"NeoScrypt\",\"Ethash\",\"NeoScrypt\",\"X11\",\"DPoS\",\"NIST5\",\"X13\",\"Multiple\",\"Scrypt\",\"CryptoNight\",\"CryptoNight\",\"Ethash\",\"NIST5\",\"Quark\",\"X11\",\"CryptoNight-V7\",\"Scrypt\",\"Scrypt\",\"Scrypt\",\"X11\",\"BLAKE256\",\"X11\",\"NeoScrypt\",\"Quark\",\"NeoScrypt\",\"Scrypt\",\"Scrypt\",\"Scrypt\",\"X11\",\"X11\",\"SHA-256\",\"C11\",\"POS 3.0\",\"Ethash\",\"Scrypt\",\"CryptoNight\",\"SkunkHash\",\"Scrypt\",\"CryptoNight\",\"Scrypt\",\"Dagger\",\"Lyra2REv2\",\"X13\",\"Proof-of-BibleHash\",\"SHA-256 + Hive\",\"Scrypt\",\"Scrypt\",\"X11\",\"C11\",\"Proof-of-Authority\",\"X11\",\"XEVAN\",\"Scrypt\",\"VBFT\",\"Ethash\",\"CryptoNight\",\"Scrypt\",\"IMesh\",\"NIST5\",\"Scrypt\",\"Scrypt\",\"Equihash\",\"Scrypt\",\"Lyra2Z\",\"Green Protocol\",\"PoS\",\"Scrypt\",\"Semux BFT consensus\",\"X11\",\"Quark\",\"PoS\",\"CryptoNight\",\"X16R\",\"Scrypt\",\"NIST5\",\"Lyra2RE\",\"XEVAN\",\"Tribus\",\"Scrypt\",\"Lyra2Z\",\"CryptoNight\",\"CryptoNight Heavy\",\"CryptoNight\",\"Scrypt\",\"Scrypt\",\"Jump Consistent Hash\",\"SHA-256D\",\"CryptoNight\",\"Scrypt\",\"X15\",\"Scrypt\",\"Quark\",\"SHA-256\",\"DPoS\",\"X16R\",\"HMQ1725\",\"X11\",\"X16R\",\"Quark\",\"Quark\",\"Scrypt\",\"Lyra2REv2\",\"Quark\",\"Scrypt\",\"Scrypt\",\"CryptoNight-V7\",\"Cryptonight-GPU\",\"XEVAN\",\"CryptoNight Heavy\",\"X11\",\"X11\",\"Scrypt\",\"PoS\",\"SHA-256\",\"Keccak\",\"X11\",\"X11\",\"Scrypt\",\"SHA-512\",\"X16R\",\"ECC 256K1\",\"Equihash\",\"XEVAN\",\"Lyra2Z\",\"SHA-256\",\"XEVAN\",\"X11\",\"CryptoNight\",\"Quark\",\"Blake\",\"Blake\",\"Equihash\",\"Exosis\",\"Scrypt\",\"Scrypt\",\"Equihash\",\"Quark\",\"Equihash\",\"Quark\",\"Scrypt\",\"QuBit\",\"X11\",\"Scrypt\",\"XEVAN\",\"SHA-256D\",\"X11\",\"SHA-256\",\"X13\",\"SHA-256\",\"X11\",\"DPoS\",\"Scrypt\",\"Scrypt\",\"X11\",\"NeoScrypt\",\"Scrypt\",\"Blake\",\"Scrypt\",\"SHA-256\",\"Scrypt\",\"X11\",\"Scrypt\",\"Scrypt\",\"SHA-256\",\"X11\",\"SHA-256\",\"Scrypt\",\"Scrypt\",\"Scrypt\",\"Groestl\",\"X11\",\"Scrypt\",\"PoS\",\"Scrypt\",\"Scrypt\",\"X11\",\"SHA-256\",\"DPoS\",\"Scrypt\",\"Scrypt\",\"NeoScrypt\",\"Multiple\",\"X13\",\"Equihash+Scrypt\",\"DPoS\",\"Ethash\",\"DPoS\",\"SHA-256\",\"Leased POS\",\"PoS\",\"TRC10\",\"PoS\",\"SHA-256\",\"Scrypt\",\"CryptoNight\",\"Equihash\",\"Scrypt\"],\"Class\":{\"__ndarray__\":\"AAAAAAAAAAAAAAAAAQAAAAEAAAABAAAAAAAAAAEAAAABAAAAAQAAAAAAAAABAAAAAAAAAAAAAAABAAAAAAAAAAEAAAABAAAAAAAAAAAAAAABAAAAAQAAAAEAAAABAAAAAQAAAAAAAAABAAAAAQAAAAEAAAAAAAAAAQAAAAAAAAABAAAAAQAAAAAAAAAAAAAAAQAAAAEAAAABAAAAAQAAAAEAAAABAAAAAAAAAAAAAAABAAAAAQAAAAEAAAABAAAAAQAAAAAAAAAAAAAAAQAAAAAAAAABAAAAAQAAAAEAAAABAAAAAAAAAAEAAAABAAAAAAAAAAEAAAAAAAAAAAAAAAAAAAABAAAAAQAAAAEAAAAAAAAAAAAAAAAAAAAAAAAAAAAAAAEAAAABAAAAAQAAAAAAAAAAAAAAAQAAAAAAAAABAAAAAAAAAAAAAAABAAAAAQAAAAEAAAABAAAAAAAAAAAAAAABAAAAAAAAAAEAAAABAAAAAAAAAAAAAAABAAAAAAAAAAAAAAABAAAAAQAAAAAAAAAAAAAAAQAAAAAAAAAAAAAAAQAAAAAAAAABAAAAAAAAAAEAAAAAAAAAAQAAAAAAAAAAAAAAAQAAAAEAAAAAAAAAAQAAAAEAAAABAAAAAAAAAAEAAAABAAAAAQAAAAEAAAABAAAAAAAAAAAAAAABAAAAAQAAAAEAAAAAAAAAAQAAAAAAAAABAAAAAQAAAAAAAAABAAAAAAAAAAEAAAAAAAAAAAAAAAEAAAABAAAAAAAAAAEAAAABAAAAAAAAAAAAAAABAAAAAAAAAAEAAAAAAAAAAAAAAAAAAAABAAAAAQAAAAEAAAABAAAAAAAAAAAAAAAAAAAAAAAAAAAAAAABAAAAAQAAAAAAAAAAAAAAAAAAAAAAAAAAAAAAAQAAAAAAAAAAAAAAAAAAAAAAAAAAAAAAAQAAAAAAAAABAAAAAAAAAAAAAAABAAAAAAAAAAEAAAAAAAAAAAAAAAEAAAAAAAAAAQAAAAAAAAABAAAAAAAAAAEAAAAAAAAAAAAAAAAAAAAAAAAAAQAAAAAAAAAAAAAAAAAAAAAAAAAAAAAAAQAAAAEAAAAAAAAAAAAAAAEAAAABAAAAAAAAAAAAAAAAAAAAAAAAAAAAAAABAAAAAAAAAAAAAAAAAAAAAAAAAAAAAAAAAAAAAAAAAAAAAAABAAAAAAAAAAAAAAAAAAAAAAAAAAAAAAAAAAAAAQAAAAEAAAABAAAAAAAAAAAAAAAAAAAAAAAAAAEAAAAAAAAAAQAAAAAAAAAAAAAAAQAAAAAAAAABAAAAAQAAAAAAAAABAAAAAQAAAAAAAAABAAAAAAAAAAAAAAAAAAAAAQAAAAAAAAAAAAAAAQAAAAAAAAAAAAAAAAAAAAAAAAAAAAAAAAAAAAAAAAABAAAAAAAAAAEAAAAAAAAAAAAAAAAAAAAAAAAAAQAAAAAAAAABAAAAAAAAAAEAAAABAAAAAQAAAAEAAAAAAAAAAQAAAAAAAAAAAAAAAQAAAAAAAAABAAAAAQAAAAEAAAAAAAAAAQAAAAAAAAABAAAAAQAAAAEAAAAAAAAAAQAAAAAAAAABAAAAAAAAAAAAAAAAAAAAAQAAAAAAAAABAAAAAQAAAAEAAAABAAAAAQAAAAAAAAAAAAAAAQAAAAAAAAAAAAAAAAAAAAEAAAAAAAAAAQAAAAAAAAABAAAAAAAAAAEAAAAAAAAAAAAAAAAAAAAAAAAAAQAAAAAAAAAAAAAAAQAAAAAAAAAAAAAAAAAAAAEAAAABAAAAAQAAAAEAAAAAAAAAAAAAAAAAAAAAAAAAAQAAAAAAAAABAAAAAQAAAAEAAAAAAAAAAAAAAAEAAAABAAAAAAAAAAAAAAABAAAAAAAAAAEAAAABAAAAAQAAAAAAAAABAAAAAQAAAAAAAAAAAAAAAAAAAAEAAAABAAAAAQAAAAAAAAAAAAAAAAAAAAEAAAABAAAAAAAAAAEAAAABAAAAAQAAAAEAAAAAAAAAAwAAAAMAAAABAAAAAQAAAAEAAAAAAAAAAwAAAAAAAAAAAAAAAAAAAAAAAAABAAAAAQAAAAEAAAABAAAAAAAAAAAAAAAAAAAAAQAAAAAAAAABAAAAAAAAAAAAAAAAAAAAAAAAAAEAAAAAAAAAAAAAAAEAAAAAAAAAAAAAAAEAAAABAAAAAAAAAAEAAAAAAAAAAQAAAAEAAAABAAAAAQAAAAAAAAAAAAAAAQAAAAAAAAABAAAAAAAAAAAAAAAAAAAAAAAAAAAAAAAAAAAAAQAAAAEAAAABAAAAAAAAAAAAAAAAAAAAAAAAAAAAAAAAAAAAAQAAAAAAAAABAAAAAQAAAAEAAAABAAAAAAAAAAAAAAAAAAAAAAAAAAEAAAAAAAAAAAAAAAEAAAAAAAAAAAAAAAEAAAADAAAAAQAAAAAAAAABAAAAAQAAAAAAAAAAAAAAAQAAAAAAAAABAAAAAQAAAAEAAAABAAAAAQAAAAAAAAABAAAAAAAAAAEAAAAAAAAAAAAAAAEAAAAAAAAAAAAAAAAAAAAAAAAAAAAAAAEAAAABAAAAAQAAAAAAAAAAAAAAAAAAAAEAAAAAAAAAAQAAAAAAAAABAAAAAAAAAAAAAAAAAAAAAAAAAAEAAAAAAAAAAAAAAAAAAAABAAAAAAAAAAEAAAAAAAAAAQAAAAAAAAAAAAAAAAAAAAEAAAABAAAAAAAAAAAAAAAAAAAAAAAAAAAAAAAAAAAAAQAAAAAAAAABAAAAAAAAAAEAAAAAAAAAAAAAAAMAAAAAAAAAAgAAAAAAAAAAAAAAAAAAAAEAAAABAAAAAAAAAA==\",\"dtype\":\"int32\",\"order\":\"little\",\"shape\":[532]},\"CoinName\":[\"42 Coin\",\"404Coin\",\"EliteCoin\",\"Bitcoin\",\"Ethereum\",\"Litecoin\",\"Dash\",\"Monero\",\"Ethereum Classic\",\"ZCash\",\"Bitshares\",\"DigiByte\",\"BitcoinDark\",\"PayCoin\",\"ProsperCoin\",\"KoboCoin\",\"Spreadcoin\",\"Argentum\",\"Aurora Coin\",\"BlueCoin\",\"MyriadCoin\",\"MoonCoin\",\"ZetaCoin\",\"SexCoin\",\"Quatloo\",\"EnergyCoin\",\"QuarkCoin\",\"Riecoin\",\"Digitalcoin \",\"BitBar\",\"Catcoin\",\"CryptoBullion\",\"CannaCoin\",\"CryptCoin\",\"CasinoCoin\",\"Diamond\",\"Verge\",\"DevCoin\",\"EarthCoin\",\"E-Gulden\",\"Einsteinium\",\"Emerald\",\"Exclusive Coin\",\"FlutterCoin\",\"Franko\",\"FeatherCoin\",\"GrandCoin\",\"GlobalCoin\",\"GoldCoin\",\"HoboNickels\",\"HyperStake\",\"Infinite Coin\",\"IOCoin\",\"IXcoin\",\"KrugerCoin\",\"LuckyCoin\",\"Litebar \",\"MaxCoin\",\"MegaCoin\",\"MediterraneanCoin\",\"MintCoin\",\"MinCoin\",\"MazaCoin\",\"Nautilus Coin\",\"NavCoin\",\"NobleCoin\",\"Namecoin\",\"NyanCoin\",\"OpalCoin\",\"Orbitcoin\",\"PotCoin\",\"PhoenixCoin\",\"Reddcoin\",\"RonPaulCoin\",\"StableCoin\",\"SmartCoin\",\"SuperCoin\",\"SyncCoin\",\"SysCoin\",\"TeslaCoin\",\"TigerCoin\",\"TittieCoin\",\"TorCoin\",\"TerraCoin\",\"UnbreakableCoin\",\"Unobtanium\",\"UroCoin\",\"UnitaryStatus Dollar\",\"UltraCoin\",\"ViaCoin\",\"VeriCoin\",\"Vertcoin\",\"WorldCoin\",\"X11 Coin\",\"Crypti\",\"JouleCoin\",\"StealthCoin\",\"ZCC Coin\",\"ByteCoin\",\"DigitalNote \",\"BurstCoin\",\"StorjCoin\",\"MonaCoin\",\"Neutron\",\"FairCoin\",\"Gulden\",\"RubyCoin\",\"PesetaCoin\",\"Kore\",\"Wild Beast Coin\",\"Dnotes\",\"Flo\",\"8BIT Coin\",\"Sativa Coin\",\"ArtByte\",\"Folding Coin\",\"Ucoin\",\"Unitus\",\"CypherPunkCoin\",\"OmniCron\",\"Vtorrent\",\"GreenCoin\",\"Cryptonite\",\"MasterCoin\",\"SoonCoin\",\"1Credit\",\"IslaCoin\",\"Nexus\",\"MarsCoin \",\"Crypto\",\"Anarchists Prime\",\"Droidz\",\"BowsCoin\",\"Squall Coin\",\"Song Coin\",\"BitZeny\",\"Diggits\",\"Expanse\",\"Paycon\",\"Siacoin\",\"Emercoin\",\"EverGreenCoin\",\"MindCoin\",\"I0coin\",\"Decred\",\"Revolution VR\",\"HOdlcoin\",\"EDRCoin\",\"Hitcoin\",\"Gamecredits\",\"DubaiCoin\",\"CarpeDiemCoin\",\"PWR Coin\",\"BillaryCoin\",\"GPU Coin\",\"Adzcoin\",\"SoilCoin\",\"YoCoin\",\"SibCoin\",\"EuropeCoin\",\"ZeitCoin\",\"SwingCoin\",\"SafeExchangeCoin\",\"Nebuchadnezzar\",\"Francs\",\"BolivarCoin\",\"Ratecoin\",\"Revenu\",\"Clockcoin\",\"VIP Tokens\",\"BitSend\",\"Omni\",\"Let it Ride\",\"PutinCoin\",\"iBankCoin\",\"Frankywillcoin\",\"MudraCoin\",\"PizzaCoin\",\"Lutetium Coin\",\"Komodo\",\"GoldBlocks\",\"CarterCoin\",\"Karbo\",\"BitTokens\",\"ZayedCoin\",\"MustangCoin\",\"ZoneCoin\",\"Circuits of Value\",\"RootCoin\",\"DopeCoin\",\"BitCurrency\",\"DollarCoin\",\"Swiscoin\",\"Shilling\",\"BuzzCoin\",\"Opair\",\"PesoBit\",\"Halloween Coin\",\"ZCoin\",\"CoffeeCoin\",\"RoyalCoin\",\"GanjaCoin V2\",\"TeamUP\",\"LanaCoin\",\"Elementrem\",\"ZClassic\",\"ARK\",\"InsaneCoin\",\"KiloCoin\",\"ArtexCoin\",\"EmberCoin\",\"XenixCoin\",\"FreeCoin\",\"PLNCoin\",\"AquariusCoin\",\"Kurrent\",\"Creatio\",\"Eternity\",\"Eurocoin\",\"BitcoinFast\",\"Stakenet\",\"BitConnect Coin\",\"MoneyCoin\",\"Enigma\",\"Cannabis Industry Coin\",\"Russiacoin\",\"PandaCoin\",\"GameUnits\",\"GAKHcoin\",\"Allsafe\",\"LiteCreed\",\"OsmiumCoin\",\"Bikercoins\",\"HexxCoin\",\"Klingon Empire Darsek\",\"Internet of People\",\"KushCoin\",\"Printerium\",\"PacCoin\",\"Impeach\",\"Citadel\",\"Zilbercoin\",\"FirstCoin\",\"BeaverCoin\",\"FindCoin\",\"VaultCoin\",\"Zero\",\"OpenChat\",\"Canada eCoin\",\"Zoin\",\"RenosCoin\",\"DubaiCoin\",\"VirtacoinPlus\",\"TajCoin\",\"Impact\",\"EB3coin\",\"Atmos\",\"HappyCoin\",\"Coinonat\",\"MacronCoin\",\"Condensate\",\"Independent Money System\",\"ArgusCoin\",\"LomoCoin\",\"ProCurrency\",\"GoldReserve\",\"BenjiRolls\",\"GrowthCoin\",\"ILCoin\",\"Phreak\",\"Degas Coin\",\"HTML5 Coin\",\"Ultimate Secure Cash\",\"EquiTrader\",\"QTUM\",\"Quantum Resistant Ledger\",\"Espers\",\"Dynamic\",\"Nano\",\"ChanCoin\",\"Dinastycoin\",\"Denarius\",\"DigitalPrice\",\"Virta Unique Coin\",\"Bitcoin Planet\",\"Unify\",\"BritCoin\",\"SocialCoin\",\"ArcticCoin\",\"DAS\",\"Linda\",\"LeviarCoin\",\"DeepOnion\",\"Bitcore\",\"gCn Coin\",\"SmartCash\",\"Signatum\",\"Onix\",\"Cream\",\"Bitcoin Cash\",\"Monoeci\",\"Draftcoin\",\"Vechain\",\"Sojourn Coin\",\"Stakecoin\",\"NewYorkCoin\",\"FrazCoin\",\"Kronecoin\",\"AdCoin\",\"Linx\",\"CoinonatX\",\"Ethereum Dark\",\"Sumokoin\",\"Obsidian\",\"Cardano\",\"Regalcoin\",\"BitcoinZ\",\"TrezarCoin\",\"Elements\",\"TerraNovaCoin\",\"VIVO Coin\",\"Rupee\",\"Bitcoin Gold\",\"WomenCoin\",\"Theresa May Coin\",\"NamoCoin\",\"LUXCoin\",\"Pirl\",\"Xios\",\"Bitcloud 2.0\",\"eBoost\",\"KekCoin\",\"BlackholeCoin\",\"Infinity Economics\",\"Pura\",\"Innova\",\"Ellaism\",\"GoByte\",\"Magnet\",\"Lamden Tau\",\"Electra\",\"Bitcoin Diamond\",\"SHIELD\",\"Cash & Back Coin\",\"UltraNote\",\"BitCoal\",\"DaxxCoin\",\"Bulwark\",\"Kalkulus\",\"AC3\",\"Lethean\",\"GermanCoin\",\"LiteCoin Ultra\",\"PopularCoin\",\"PhantomX\",\"Photon\",\"Sucre\",\"SparksPay\",\"Digiwage\",\"GunCoin\",\"IrishCoin\",\"Trollcoin\",\"Litecoin Plus\",\"Monkey Project\",\"Pioneer Coin\",\"UnitedBitcoin\",\"Interzone\",\"TokenPay\",\"1717 Masonic Commemorative Token\",\"My Big Coin\",\"TurtleCoin\",\"MUNcoin\",\"Unified Society USDEX\",\"Niobio Cash\",\"ShareChain\",\"Travelflex\",\"KREDS\",\"Tokyo Coin\",\"BiblePay\",\"LitecoinCash\",\"BitFlip\",\"LottoCoin\",\"Crypto Improvement Fund\",\"Stipend\",\"Poa Network\",\"Pushi\",\"Ellerium\",\"Velox\",\"Ontology\",\"Callisto Network\",\"BitTube\",\"Poseidon\",\"Aidos Kuneen\",\"Bitspace\",\"Briacoin\",\"Ignition\",\"Bitrolium\",\"MedicCoin\",\"Alpenschillling\",\"Bitcoin Green\",\"Deviant Coin\",\"Abjcoin\",\"Semux\",\"FuturoCoin\",\"Carebit\",\"Zealium\",\"Monero Classic\",\"Proton\",\"iDealCash\",\"Jumpcoin\",\"Infinex\",\"Bitcoin Incognito\",\"KEYCO\",\"HollyWoodCoin\",\"GINcoin\",\"PlatinCoin\",\"Loki\",\"Newton Coin\",\"Swisscoin\",\"Xt3ch\",\"MassGrid\",\"TheVig\",\"PluraCoin\",\"EmaratCoin\",\"Dekado\",\"Lynx\",\"Poseidon Quark\",\"BitcoinWSpectrum\",\"Muse\",\"Motion\",\"PlusOneCoin\",\"Axe\",\"Trivechain\",\"Dystem\",\"Giant\",\"Peony Coin\",\"Absolute Coin\",\"Vitae\",\"HexCoin\",\"TPCash\",\"Webchain\",\"Ryo\",\"Urals Coin\",\"Qwertycoin\",\"ARENON\",\"EUNO\",\"MMOCoin\",\"Ketan\",\"Project Pai\",\"XDNA\",\"PAXEX\",\"Azart\",\"ThunderStake\",\"Kcash\",\"Xchange\",\"Acute Angle Cloud\",\"CrypticCoin\",\"Bettex coin\",\"Actinium\",\"Bitcoin SV\",\"BitMoney\",\"Junson Ming Chan Coin\",\"FREDEnergy\",\"HerbCoin\",\"Universal Molecule\",\"Lithium\",\"PirateCash\",\"Exosis\",\"Block-Logic\",\"Oduwa\",\"Beam\",\"Galilel\",\"Bithereum\",\"Crypto Sports\",\"Credit\",\"SLICE\",\"Dash Platinum\",\"Nasdacoin\",\"Beetle Coin\",\"Titan Coin\",\"Award\",\"BLAST\",\"Bitcoin Rhodium\",\"GlobalToken\",\"Insane Coin\",\"ALAX\",\"LiteDoge\",\"SolarCoin\",\"TruckCoin\",\"UFO Coin\",\"OrangeCoin\",\"BlakeCoin\",\"BitstarCoin\",\"NeosCoin\",\"HyperCoin\",\"PinkCoin\",\"Crypto Escudo\",\"AudioCoin\",\"IncaKoin\",\"Piggy Coin\",\"Crown Coin\",\"Genstake\",\"SmileyCoin\",\"XiaoMiCoin\",\"Groestlcoin\",\"CapriCoin\",\" ClubCoin\",\"Radium\",\"Bata\",\"Pakcoin\",\"Creditbit \",\"OKCash\",\"Lisk\",\"HiCoin\",\"WhiteCoin\",\"FriendshipCoin\",\"JoinCoin\",\"Triangles Coin\",\"Vollar\",\"EOS\",\"Reality Clash\",\"Oxycoin\",\"TigerCash\",\"Waves\",\"Particl\",\"BitTorrent\",\"Nxt\",\"ZEPHYR\",\"Gapcoin\",\"Beldex\",\"Horizen\",\"BitcoinPlus\"],\"ProofType\":[\"PoW/PoS\",\"PoW/PoS\",\"PoW/PoS\",\"PoW\",\"PoW\",\"PoW\",\"PoW/PoS\",\"PoW\",\"PoW\",\"PoW\",\"PoS\",\"PoW\",\"PoW/PoS\",\"PoS\",\"PoW\",\"PoW/PoS\",\"PoW\",\"PoW\",\"PoW/PoS\",\"PoW/PoS\",\"PoW\",\"PoW\",\"PoW\",\"PoW\",\"PoW\",\"PoW/PoS\",\"PoW\",\"PoW\",\"PoW\",\"PoW/PoS\",\"PoW\",\"PoW/PoS\",\"PoW\",\"PoW\",\"PoC\",\"PoW/PoS\",\"PoW\",\"PoW\",\"PoW\",\"PoW\",\"PoW\",\"PoW\",\"PoS\",\"PoS/PoW/PoT\",\"PoW\",\"PoW\",\"PoW\",\"PoW\",\"PoW\",\"PoW/PoS\",\"PoS\",\"PoW\",\"PoW/PoS\",\"PoW\",\"PoW\",\"PoW\",\"PoW\",\"PoW/PoS\",\"PoW\",\"PoW\",\"PoS\",\"PoW\",\"PoW/PoS\",\"PoS\",\"PoW/PoS\",\"PoW\",\"PoW\",\"PoW\",\"PoW/PoS\",\"PoW/PoS\",\"PoW/PoS\",\"PoW/PoS\",\"PoW/PoS\",\"PoW\",\"PoW\",\"PoW\",\"PoS\",\"PoW/PoS\",\"PoW\",\"PoS\",\"PoW\",\"PoS\",\"PoW/PoS\",\"PoW\",\"PoW\",\"PoW\",\"PoW\",\"PoW/PoS\",\"PoW/PoS\",\"PoW\",\"PoST\",\"PoW\",\"PoW\",\"PoW/PoS\",\"PoS\",\"PoW\",\"PoW/PoS\",\"PoW/PoS\",\"PoW\",\"PoW\",\"PoC\",\"PoS\",\"PoW\",\"PoW/PoS\",\"PoW/PoS\",\"PoW\",\"PoS\",\"PoW\",\"PoW/PoS\",\"PoW\",\"PoS\",\"PoW\",\"PoW/PoS\",\"PoW/PoS\",\"PoW\",\"PoW\",\"PoS\",\"PoW\",\"PoW\",\"PoW\",\"PoW/PoS\",\"PoW\",\"PoW\",\"PoW\",\"PoW\",\"PoW\",\"PoW/PoS\",\"PoW/nPoS\",\"PoW\",\"PoW\",\"PoW\",\"PoW/PoS\",\"PoW\",\"PoS/PoW\",\"PoW\",\"PoW\",\"PoS\",\"PoW\",\"PoW/PoS\",\"PoW\",\"PoW/PoS\",\"PoW/PoS\",\"PoW\",\"PoW\",\"PoW/PoS\",\"PoW\",\"PoW\",\"PoW/PoS\",\"PoW/PoS\",\"PoW\",\"PoW/PoS\",\"PoW\",\"PoW/PoS\",\"PoW/PoS\",\"PoS\",\"PoW\",\"PoW\",\"PoW\",\"PoW\",\"PoW/PoS\",\"PoS\",\"PoW/PoS\",\"PoC\",\"PoS\",\"PoW\",\"PoW\",\"PoW/PoS\",\"PoW/PoS\",\"PoW/PoS\",\"PoW/PoS\",\"PoW/PoS\",\"PoW\",\"PoS\",\"PoW/PoS\",\"PoW/PoS\",\"PoW/PoS\",\"PoS\",\"PoW\",\"PoS\",\"dPoW/PoW\",\"PoW/PoS\",\"PoW/PoS\",\"PoW\",\"PoW/PoS\",\"PoW\",\"PoW/PoS\",\"PoW/PoS\",\"PoW\",\"PoW/PoS\",\"PoW\",\"PoS\",\"PoW\",\"PoW/PoW\",\"PoW\",\"PoW/PoS\",\"PoS\",\"PoW/PoS\",\"PoW/PoS\",\"PoW\",\"PoS\",\"PoS\",\"PoW/PoS\",\"PoS\",\"PoW/PoS\",\"PoW\",\"PoW\",\"DPoS\",\"PoW/PoS\",\"PoW\",\"PoW\",\"PoW/PoS\",\"PoW/PoS\",\"PoS\",\"PoW/PoS\",\"PoW/PoS\",\"PoW\",\"PoS\",\"PoW/PoS\",\"PoW/PoS\",\"PoW/PoS\",\"TPoS\",\"PoW/PoS\",\"PoW/PoS\",\"PoW/PoS\",\"PoW\",\"PoW/PoS\",\"PoS\",\"PoW/PoS\",\"PoW/PoS\",\"PoS\",\"PoW/PoS\",\"PoW\",\"PoW\",\"PoW\",\"PoW/PoS\",\"PoW/PoS\",\"PoW/PoS\",\"PoW/PoS\",\"PoW\",\"PoW/PoS\",\"PoW\",\"PoS\",\"PoW/PoS \",\"PoW\",\"PoS\",\"PoW\",\"PoW\",\"PoW/PoS\",\"PoW\",\"PoW\",\"PoS\",\"PoW\",\"PoW/PoS\",\"PoW/PoS\",\"PoW/PoS\",\"PoW\",\"PoS\",\"PoW/PoS\",\"PoW\",\"PoS\",\"PoW/PoS\",\"PoW/PoS\",\"PoW/PoS\",\"PoW/PoS\",\"PoS\",\"PoW/PoS\",\"PoW\",\"PoS\",\"PoW\",\"PoS\",\"PoW/PoS\",\"PoW/PoS\",\"PoS\",\"PoW\",\"PoS\",\"PoW\",\"PoW/PoS\",\"PoW\",\"PoW\",\"PoW\",\"PoW\",\"PoW/PoS\",\"PoW\",\"PoW/PoS\",\"PoW/PoS\",\"PoW\",\"PoW/PoS\",\"PoW\",\"PoW\",\"PoW\",\"PoW/PoS\",\"PoW\",\"PoW/PoS\",\"PoW\",\"PoW\",\"PoW\",\"PoS\",\"PoW\",\"PoW/PoS\",\"PoW\",\"PoW/PoS\",\"PoS\",\"Proof of Authority\",\"PoW\",\"PoS\",\"PoW\",\"PoW\",\"PoW\",\"PoW\",\"PoW\",\"PoW/PoS\",\"PoW/PoS\",\"PoW\",\"PoS\",\"PoS\",\"PoW/PoS\",\"PoW\",\"PoW/PoS\",\"PoW\",\"PoW/PoS\",\"PoW\",\"PoS\",\"PoW\",\"PoW/PoS\",\"PoW/PoS\",\"PoW/PoS\",\"PoW/PoS\",\"PoW\",\"PoW/PoS\",\"PoW/PoS\",\"PoW\",\"PoS\",\"PoW/PoS\",\"PoS\",\"PoW\",\"PoW\",\"PoW\",\"PoW\",\"PoW/PoS\",\"DPoS\",\"PoW/PoS\",\"PoW/PoS\",\"PoW\",\"PoW/PoS\",\"PoW\",\"PoW\",\"PoW\",\"PoS\",\"PoS\",\"PoW\",\"PoW\",\"PoW/PoS\",\"PoW/PoS\",\"PoW\",\"PoW/PoS\",\"PoW\",\"PoW\",\"PoW\",\"PoS\",\"PoW\",\"PoW\",\"PoW/PoS\",\"PoW/PoS\",\"PoS\",\"PoW\",\"PoW\",\"PoW\",\"PoS\",\"PoS\",\"PoW and PoS\",\"PoW\",\"PoW\",\"PoW/PoS\",\"PoW\",\"PoW\",\"PoW\",\"PoW\",\"PoS\",\"POBh\",\"PoW + Hive\",\"PoW\",\"PoW\",\"PoW\",\"PoW/PoS\",\"PoA\",\"PoW/PoS\",\"PoW/PoS\",\"PoS\",\"PoS\",\"PoW\",\"PoW\",\"PoW\",\"PoW\",\"PoW/PoS\",\"PoW/PoS\",\"PoW/PoS\",\"PoW\",\"PoS\",\"PoW\",\"PoS\",\"PoS\",\"PoW/PoS\",\"DPoS\",\"PoW\",\"PoW/PoS\",\"PoS\",\"PoW\",\"PoS\",\"PoW/PoS\",\"PoW\",\"PoW\",\"PoS/PoW\",\"PoW\",\"PoS\",\"PoW\",\"PoW\",\"PoW\",\"PoW\",\"PoW/PoS\",\"PoS\",\"PoW\",\"PoW/PoS\",\"PoW\",\"PoW/PoS\",\"PoS\",\"HPoW\",\"PoS\",\"PoS\",\"PoS\",\"PoW\",\"PoW\",\"PoW\",\"PoW/PoS\",\"PoS\",\"PoW/PoS\",\"PoS\",\"PoW/PoS\",\"PoS\",\"PoW\",\"PoW/PoS\",\"PoW\",\"PoW\",\"PoW\",\"PoW\",\"PoS\",\"PoW/PoS\",\"PoS\",\"PoS\",\"PoW\",\"PoW/PoS\",\"PoS\",\"PoW\",\"PoW/PoS\",\"Zero-Knowledge Proof\",\"PoW\",\"DPOS\",\"PoW\",\"PoS\",\"PoW\",\"PoW\",\"Pos\",\"PoS\",\"PoW\",\"PoW/PoS\",\"PoW\",\"PoW\",\"PoS\",\"PoW\",\"PoW\",\"PoW/PoS\",\"PoW\",\"PoW/PoS\",\"PoW\",\"PoS\",\"PoW/PoS\",\"PoW\",\"PoS\",\"PoW/PoS\",\"PoW/PoS\",\"PoW/PoS\",\"PoW/PoS\",\"PoW\",\"PoW\",\"PoW\",\"PoW/PoS\",\"DPoS\",\"PoW/PoS\",\"PoW\",\"PoW/PoS\",\"PoW\",\"PoW/PoS\",\"PoW\",\"PoW/PoS\",\"PoS\",\"PoW/PoS\",\"PoW/PoS\",\"PoW\",\"PoW/PoS\",\"PoW/PoS\",\"PoW/PoS\",\"PoW\",\"PoW/PoS\",\"PoW\",\"PoW/PoS\",\"PoW\",\"PoW/PoS\",\"PoW/PoS\",\"PoS\",\"PoW\",\"PoW\",\"Proof of Trust\",\"PoW/PoS\",\"DPoS\",\"PoS\",\"PoW/PoS\",\"PoW/PoS\",\"PoW\",\"PoW/PoS\",\"PoW\",\"DPoS\",\"PoW\",\"DPoS\",\"PoS\",\"LPoS\",\"PoS\",\"DPoS\",\"PoS/LPoS\",\"DPoS\",\"PoW/PoS\",\"PoW\",\"PoW\",\"PoS\"],\"TotalCoinSupply\":[\"42\",\"532000000\",\"314159265359\",\"21000000\",\"0\",\"84000000\",\"22000000\",\"0\",\"210000000\",\"21000000\",\"3600570502\",\"21000000000\",\"22000000\",\"12500000\",\"21000000\",\"350000000\",\"20000000\",\"64000000\",\"16768584\",\"0\",\"2000000000\",\"384000000000\",\"169795588\",\"250000000\",\"100000000\",\"0\",\"247000000\",\"84000000\",\"48166000\",\"500000\",\"21000000 \",\"1000000\",\"13140000\",\"18000000\",\"40000000000\",\"4380000\",\"16555000000\",\"21000000000\",\"13500000000\",\"21000000 \",\"299792458\",\"32000000\",\"0\",\"0\",\"11235813\",\"336000000\",\"1420609614\",\"70000000\",\"72245700\",\"120000000\",\"0\",\"90600000000\",\"22000000\",\"21000000\",\"265420800\",\"20000000\",\"1350000\",\"100000000\",\"42000000\",\"200000000\",\"0\",\"10000000\",\"2419200000\",\"16180000\",\"0\",\"15000000000\",\"21000000\",\"337000000\",\"0\",\"3770000\",\"420000000\",\"98000000\",\"0\",\"21000000\",\"250000000\",\"51200000\",\"0\",\"1000\",\"888000000\",\"100000000\",\"47011968\",\"2300000000\",\"10000000\",\"42000000\",\"80000000\",\"250000\",\"0\",\"1600000000\",\"100000000\",\"23000000\",\"0\",\"84000000\",\"265420800\",\"5500000\",\"0\",\"45000000\",\"0\",\"1000000000\",\"184467440735\",\"10000000000\",\"2158812800\",\"500000000\",\"105120000\",\"68000000\",\"0\",\"1680000000\",\"0\",\"166386000\",\"12000000\",\"2628000\",\"500000000\",\"160000000\",\"0\",\"10000000\",\"1000000000\",\"1000000000\",\"20000000\",\"0\",\"0\",\"3371337\",\"20000000\",\"10000000000\",\"1840000000\",\"619478\",\"21000000\",\"92000000000\",\"0\",\"78000000\",\"33000000\",\"65789100\",\"53760000\",\"5060000\",\"21000000\",\"0\",\"210240000\",\"250000000\",\"100000000\",\"16906397\",\"50000000\",\"0\",\"1000000000\",\"26298000\",\"16000000\",\"21000000\",\"21000000\",\"210000000\",\"81962100\",\"22000000\",\"26550000000\",\"84000000\",\"10500000\",\"21626280000 \",\"0\",\"42000000\",\"221052632\",\"84000000\",\"30000000\",\"168351300\",\"24000000\",\"384000000\",\" 99000000000\",\"40000000\",\"2147483647\",\"20000000\",\"20000000\",\"25000000\",\"75000000\",\"222725000\",\"525000000\",\"90000000\",\"139000000\",\"616448\",\"33500000\",\"2000000000\",\"44333333\",\"100000000\",\"200000000\",\"25000000\",\"657000000\",\"200000000\",\"50000000\",\"90000000\",\"10000000\",\"21000000\",\"9736000\",\"3000000\",\"21000000\",\"1200000000\",\"0\",\"200000000\",\"0\",\"10638298\",\"3100000000\",\"30000000\",\"20000000000\",\"74000000\",\"0\",\"1500000000\",\"21400000\",\"39999898\",\"2500124\",\"100000000\",\"301000000\",\"7506000000\",\"26205539\",\"21000000\",\"125000000\",\"30000000\",\"10000000000\",\"500000000\",\"850000000\",\"3853326.77707314\",\"50000000\",\"38540000 \",\"42000000\",\"228000000\",\"20000000\",\"60000000\",\"20000000\",\"33000000\",\"76500000\",\"28000000\",\"650659833\",\"5000000\",\"21000000\",\"144000000\",\"32514916898\",\"13000000\",\"3315789\",\"15000000\",\"78835200\",\"2714286\",\"25000000\",\"9999999\",\"500000000\",\"21000000\",\"9354000\",\"20000000\",\"100000000000\",\"21933333\",\"185000000\",\"55000000\",\"110000000\",\"3360000\",\"14524851.4827\",\"1000000000\",\"17000000\",\"1000000000\",\"100000000 \",\"21000000\",\"34426423\",\"2232901\",\"100000000\",\"36900000\",\"110000000\",\"4000000000\",\"110290030\",\"100000000\",\"48252000\",\"400000000\",\"500000000\",\"21212121\",\"28600000\",\"1000000000\",\"75000000000\",\"40000000\",\"35520400\",\"2000000000\",\"2500000000\",\"30000000\",\"105000000\",\"90000000000\",\"200084200\",\"72000000\",\"100000000\",\"105000000\",\"50000000000\",\"0\",\"340282367\",\"30000000\",\"2000000000\",\"10000000\",\"100000000\",\"120000000\",\"100000000\",\"19276800\",\"30000000\",\" 75000000\",\"60000000\",\"18900000\",\"50000000000\",\"54000000\",\"18898187.6216583\",\"21000000\",\"200000000000\",\"5000000000\",\"137500000\",\"1100000000\",\"100000000\",\"21000000\",\"9507271\",\"17405891.19707116\",\"86712634466\",\"10500000000\",\"61599965\",\"0\",\"20000000\",\"84000000\",\"100000000\",\"100000000\",\"48252000\",\"4200000\",\"88888888\",\"91388946\",\"45000000000\",\"27000000\",\"21000000000\",\"400000000\",\"1800000000\",\"15733333\",\"27000000\",\"24000000\",\"21000000\",\"25000000000\",\"100000000\",\"1200000000\",\"60000000\",\"156306732.71\",\"21000000\",\"200000000\",\"100000000\",\"21000000\",\"14788275.991\",\"9000000000\",\"350000000\",\"45000000\",\"280000000\",\"31800000\",\"144000000\",\"500000000\",\"30000000000\",\"210000000\",\"660000000\",\"210000000\",\"85000000000\",\"12500000\",\"10000000000\",\"27716121\",\"20000000\",\"550000000\",\"999481516\",\"50000000000\",\"150000000\",\"4999999999\",\"50000000\",\" 90000000000\",\"19800000\",\"21000000\",\"120000000\",\"500000000\",\"64000000\",\"900000000\",\"4000000\",\"21000000\",\"23000000\",\"20166000\",\"23000000\",\"25000000\",\"1618033\",\"30000000\",\"1000000000000\",\"16600000\",\"232000000\",\"336000000\",\"10000000000\",\"100000000\",\"1100000000\",\"800000000\",\"5200000000\",\"840000000\",\"40000000\",\"18406979840\",\"500000000\",\"19340594\",\"252460800\",\"25000000\",\"60000000\",\"124000000\",\"1000000000\",\"6500000000\",\"1000000000\",\"21000000\",\"25000000\",\"50000000\",\"3000000\",\"5000000\",\"70000000\",\"500000000\",\"300000000\",\"21000000\",\"88000000\",\"30000000\",\"100000000\",\"100000000\",\"200000000\",\"80000000\",\"18400000\",\"45000000\",\"5121951220\",\"21000000\",\"26280000\",\"21000000\",\"18000000\",\"26000000\",\"10500000\",\"600000518\",\"150000000\",\"184000000000\",\"10200000000\",\"44000000\",\"168000000\",\"100000000\",\"1000000000\",\"84000000\",\"90000000\",\"92000000000\",\"650000000 \",\"100262205\",\"18081806 \",\"22075700\",\"21000000\",\"21000000\",\"82546564\",\"21000000\",\"5151000\",\"16880000000\",\"52500000\",\"100000000\",\"22105263\",\"1000000000\",\"1750000000\",\"88188888\",\"210000000\",\"184470000000\",\"55000000\",\"50000000\",\"260000000\",\"210000000\",\"2100000000\",\"366000000\",\"100000000\",\"25000000\",\"18000000000\",\"1000000000\",\"100000000\",\"1000000000\",\"7600000000\",\"50000000\",\"84000000\",\"21000000\",\"70000000000\",\"0\",\"8080000000\",\"54000000\",\"105120001.44\",\"25228800\",\"105000000\",\"21000000\",\"120000000\",\"21000000\",\"262800000\",\"19035999\",\"30886000\",\"13370000\",\"74800000000\",\"100000000\",\"19700000\",\"84000000\",\"500000000\",\"5000000000\",\"420000000\",\"64000000\",\"2100000\",\"168000000\",\"30000000\",\"1000000000\",\"35000000000\",\"98100000000\",\"0\",\"4000000000\",\"200000000\",\"7000000000\",\"54256119\",\"21000000\",\"0\",\"500000000\",\"1000000000\",\"10500000000\",\"190000000\",\"1000000000\",\"42000000\",\"15000000\",\"50000000000\",\"400000000\",\"105000000\",\"208000000\",\"160000000\",\"9000000\",\"5000000\",\"182000000\",\"16504333\",\"105000000\",\"159918400\",\"10008835635\",\"300000000\",\"60168145\",\"2800000\",\"120000\",\"2100000000\",\"0\",\"24487944\",\"0\",\"1000000000\",\"100000000\",\"8634140\",\"990000000000\",\"1000000000\",\"2000000000\",\"250000000\",\"1400222610\",\"21000000\",\"1000000\"],\"TotalCoinsMined\":{\"__ndarray__\":\"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\",\"dtype\":\"float64\",\"order\":\"little\",\"shape\":[532]}},\"selected\":{\"id\":\"2014\"},\"selection_policy\":{\"id\":\"2048\"}},\"id\":\"2013\",\"type\":\"ColumnDataSource\"},{\"attributes\":{},\"id\":\"2036\",\"type\":\"NumberEditor\"},{\"attributes\":{\"margin\":[5,5,5,5],\"name\":\"HSpacer03344\",\"sizing_mode\":\"stretch_width\"},\"id\":\"2012\",\"type\":\"Spacer\"},{\"attributes\":{},\"id\":\"2025\",\"type\":\"StringFormatter\"},{\"attributes\":{\"editor\":{\"id\":\"2041\"},\"field\":\"Class\",\"formatter\":{\"id\":\"2040\"},\"title\":\"Class\"},\"id\":\"2042\",\"type\":\"TableColumn\"},{\"attributes\":{},\"id\":\"2014\",\"type\":\"Selection\"},{\"attributes\":{\"columns\":[{\"id\":\"2017\"},{\"id\":\"2022\"},{\"id\":\"2027\"},{\"id\":\"2032\"},{\"id\":\"2037\"},{\"id\":\"2042\"}],\"height\":300,\"reorderable\":false,\"source\":{\"id\":\"2013\"},\"view\":{\"id\":\"2046\"},\"width\":700},\"id\":\"2045\",\"type\":\"DataTable\"},{\"attributes\":{},\"id\":\"2016\",\"type\":\"StringEditor\"},{\"attributes\":{\"editor\":{\"id\":\"2036\"},\"field\":\"TotalCoinsMined\",\"formatter\":{\"id\":\"2035\"},\"title\":\"TotalCoinsMined\"},\"id\":\"2037\",\"type\":\"TableColumn\"},{\"attributes\":{},\"id\":\"2026\",\"type\":\"StringEditor\"},{\"attributes\":{\"editor\":{\"id\":\"2026\"},\"field\":\"ProofType\",\"formatter\":{\"id\":\"2025\"},\"title\":\"ProofType\"},\"id\":\"2027\",\"type\":\"TableColumn\"},{\"attributes\":{\"children\":[{\"id\":\"2012\"},{\"id\":\"2045\"},{\"id\":\"2051\"}],\"margin\":[0,0,0,0],\"name\":\"Row03340\",\"tags\":[\"embedded\"]},\"id\":\"2011\",\"type\":\"Row\"},{\"attributes\":{},\"id\":\"2015\",\"type\":\"StringFormatter\"}],\"root_ids\":[\"2011\"]},\"title\":\"Bokeh Application\",\"version\":\"2.2.3\"}};\n",
       "    var render_items = [{\"docid\":\"c8e79137-382c-4d7e-847e-69d66546cab7\",\"root_ids\":[\"2011\"],\"roots\":{\"2011\":\"64375ae3-ee4e-4de0-aada-b77575187e92\"}}];\n",
       "    root.Bokeh.embed.embed_items_notebook(docs_json, render_items);\n",
       "  }\n",
       "  if (root.Bokeh !== undefined && root.Bokeh.Panel !== undefined) {\n",
       "    embed_document(root);\n",
       "  } else {\n",
       "    var attempts = 0;\n",
       "    var timer = setInterval(function(root) {\n",
       "      if (root.Bokeh !== undefined && root.Bokeh.Panel !== undefined) {\n",
       "        clearInterval(timer);\n",
       "        embed_document(root);\n",
       "      } else if (document.readyState == \"complete\") {\n",
       "        attempts++;\n",
       "        if (attempts > 100) {\n",
       "          clearInterval(timer);\n",
       "          console.log(\"Bokeh: ERROR: Unable to run BokehJS code because BokehJS library is missing\");\n",
       "        }\n",
       "      }\n",
       "    }, 10, root)\n",
       "  }\n",
       "})(window);</script>"
      ],
      "text/plain": [
       ":Table   [CoinName,Algorithm,ProofType,TotalCoinSupply,TotalCoinsMined,Class]"
      ]
     },
     "execution_count": 469,
     "metadata": {
      "application/vnd.holoviews_exec.v0+json": {
       "id": "2011"
      }
     },
     "output_type": "execute_result"
    }
   ],
   "source": [
    "# Create a table with tradable cryptocurrencies.\n",
    "# YOUR CODE HERE\n",
    "clustered_df.hvplot.table(columns=[\"CoinName\", \"Algorithm\", \"ProofType\", \"TotalCoinSupply\", \"TotalCoinsMined\", \"Class\"], sortable=True, selectable=True)"
   ]
  },
  {
   "cell_type": "code",
   "execution_count": 471,
   "metadata": {},
   "outputs": [
    {
     "name": "stdout",
     "output_type": "stream",
     "text": [
      "There are 532 tradable cryptocurrencies.\n"
     ]
    }
   ],
   "source": [
    "# Print the total number of tradable cryptocurrencies.\n",
    "# YOUR CODE HERE\n",
    "len(clustered_df)\n",
    "print(f\"There are {len(clustered_tradable_df)} tradable cryptocurrencies.\")"
   ]
  },
  {
   "cell_type": "code",
   "execution_count": 486,
   "metadata": {},
   "outputs": [
    {
     "data": {
      "text/plain": [
       "array([[4.20000000e-11, 0.00000000e+00],\n",
       "       [5.32000000e-04, 1.06585544e-03],\n",
       "       [3.14159265e-01, 2.95755135e-02],\n",
       "       ...,\n",
       "       [1.40022261e-03, 9.90135079e-04],\n",
       "       [2.10000000e-05, 7.37028150e-06],\n",
       "       [1.00000000e-06, 1.29582282e-07]])"
      ]
     },
     "execution_count": 486,
     "metadata": {},
     "output_type": "execute_result"
    }
   ],
   "source": [
    "# Scaling data to create the scatter plot with tradable cryptocurrencies.\n",
    "# YOUR CODE HERE\n",
    "to_scale_df = clustered_df[[\"TotalCoinSupply\", \"TotalCoinsMined\"]]\n",
    "scaled_data = MinMaxScaler().fit_transform(to_scale_df)\n",
    "#data = clustered_df['TotalCoinSupply'].tolist()\n",
    "scaled_data"
   ]
  },
  {
   "cell_type": "code",
   "execution_count": 487,
   "metadata": {
    "scrolled": true
   },
   "outputs": [
    {
     "data": {
      "text/html": [
       "<div>\n",
       "<style scoped>\n",
       "    .dataframe tbody tr th:only-of-type {\n",
       "        vertical-align: middle;\n",
       "    }\n",
       "\n",
       "    .dataframe tbody tr th {\n",
       "        vertical-align: top;\n",
       "    }\n",
       "\n",
       "    .dataframe thead th {\n",
       "        text-align: right;\n",
       "    }\n",
       "</style>\n",
       "<table border=\"1\" class=\"dataframe\">\n",
       "  <thead>\n",
       "    <tr style=\"text-align: right;\">\n",
       "      <th></th>\n",
       "      <th>TotalCoinSupply</th>\n",
       "      <th>TotalCoinsMined</th>\n",
       "      <th>CoinName</th>\n",
       "      <th>Class</th>\n",
       "    </tr>\n",
       "    <tr>\n",
       "      <th></th>\n",
       "      <th></th>\n",
       "      <th></th>\n",
       "      <th></th>\n",
       "      <th></th>\n",
       "    </tr>\n",
       "  </thead>\n",
       "  <tbody>\n",
       "    <tr>\n",
       "      <th>42</th>\n",
       "      <td>4.200000e-11</td>\n",
       "      <td>0.000000</td>\n",
       "      <td>42 Coin</td>\n",
       "      <td>0</td>\n",
       "    </tr>\n",
       "    <tr>\n",
       "      <th>404</th>\n",
       "      <td>5.320000e-04</td>\n",
       "      <td>0.001066</td>\n",
       "      <td>404Coin</td>\n",
       "      <td>0</td>\n",
       "    </tr>\n",
       "    <tr>\n",
       "      <th>1337</th>\n",
       "      <td>3.141593e-01</td>\n",
       "      <td>0.029576</td>\n",
       "      <td>EliteCoin</td>\n",
       "      <td>0</td>\n",
       "    </tr>\n",
       "    <tr>\n",
       "      <th>BTC</th>\n",
       "      <td>2.100000e-05</td>\n",
       "      <td>0.000018</td>\n",
       "      <td>Bitcoin</td>\n",
       "      <td>1</td>\n",
       "    </tr>\n",
       "    <tr>\n",
       "      <th>ETH</th>\n",
       "      <td>0.000000e+00</td>\n",
       "      <td>0.000109</td>\n",
       "      <td>Ethereum</td>\n",
       "      <td>1</td>\n",
       "    </tr>\n",
       "    <tr>\n",
       "      <th>LTC</th>\n",
       "      <td>8.400000e-05</td>\n",
       "      <td>0.000064</td>\n",
       "      <td>Litecoin</td>\n",
       "      <td>1</td>\n",
       "    </tr>\n",
       "    <tr>\n",
       "      <th>DASH</th>\n",
       "      <td>2.200000e-05</td>\n",
       "      <td>0.000009</td>\n",
       "      <td>Dash</td>\n",
       "      <td>0</td>\n",
       "    </tr>\n",
       "    <tr>\n",
       "      <th>XMR</th>\n",
       "      <td>0.000000e+00</td>\n",
       "      <td>0.000017</td>\n",
       "      <td>Monero</td>\n",
       "      <td>1</td>\n",
       "    </tr>\n",
       "    <tr>\n",
       "      <th>ETC</th>\n",
       "      <td>2.100000e-04</td>\n",
       "      <td>0.000115</td>\n",
       "      <td>Ethereum Classic</td>\n",
       "      <td>1</td>\n",
       "    </tr>\n",
       "    <tr>\n",
       "      <th>ZEC</th>\n",
       "      <td>2.100000e-05</td>\n",
       "      <td>0.000007</td>\n",
       "      <td>ZCash</td>\n",
       "      <td>1</td>\n",
       "    </tr>\n",
       "  </tbody>\n",
       "</table>\n",
       "</div>"
      ],
      "text/plain": [
       "      TotalCoinSupply  TotalCoinsMined          CoinName  Class\n",
       "                                                               \n",
       "42       4.200000e-11         0.000000           42 Coin      0\n",
       "404      5.320000e-04         0.001066           404Coin      0\n",
       "1337     3.141593e-01         0.029576         EliteCoin      0\n",
       "BTC      2.100000e-05         0.000018           Bitcoin      1\n",
       "ETH      0.000000e+00         0.000109          Ethereum      1\n",
       "LTC      8.400000e-05         0.000064          Litecoin      1\n",
       "DASH     2.200000e-05         0.000009              Dash      0\n",
       "XMR      0.000000e+00         0.000017            Monero      1\n",
       "ETC      2.100000e-04         0.000115  Ethereum Classic      1\n",
       "ZEC      2.100000e-05         0.000007             ZCash      1"
      ]
     },
     "execution_count": 487,
     "metadata": {},
     "output_type": "execute_result"
    }
   ],
   "source": [
    "# Create a new DataFrame that has the scaled data with the clustered_df DataFrame index.\n",
    "# YOUR CODE HERE\n",
    "plot_df = pd.DataFrame(index=clustered_df.index,\n",
    "    data=scaled_data, columns=[\"TotalCoinSupply\", \"TotalCoinsMined\"]\n",
    ")\n",
    "\n",
    "# Add the \"CoinName\" column from the clustered_df DataFrame to the new DataFrame.\n",
    "# YOUR CODE HERE\n",
    "plot_df['CoinName'] = clustered_df['CoinName']\n",
    "\n",
    "# Add the \"Class\" column from the clustered_df DataFrame to the new DataFrame. \n",
    "# YOUR CODE HERE\n",
    "plot_df['Class'] = clustered_df['Class']\n",
    "\n",
    "plot_df.head(10)"
   ]
  },
  {
   "cell_type": "code",
   "execution_count": 488,
   "metadata": {},
   "outputs": [
    {
     "data": {},
     "metadata": {},
     "output_type": "display_data"
    },
    {
     "data": {
      "application/vnd.holoviews_exec.v0+json": "",
      "text/html": [
       "<div id='2063'>\n",
       "\n",
       "\n",
       "\n",
       "\n",
       "\n",
       "  <div class=\"bk-root\" id=\"859e465d-3fab-4323-8ba0-a830569f5090\" data-root-id=\"2063\"></div>\n",
       "</div>\n",
       "<script type=\"application/javascript\">(function(root) {\n",
       "  function embed_document(root) {\n",
       "    var docs_json = {\"63673b51-d1a8-46e7-973e-d2698426729a\":{\"roots\":{\"references\":[{\"attributes\":{\"data_source\":{\"id\":\"2123\"},\"glyph\":{\"id\":\"2126\"},\"hover_glyph\":null,\"muted_glyph\":{\"id\":\"2128\"},\"nonselection_glyph\":{\"id\":\"2127\"},\"selection_glyph\":null,\"view\":{\"id\":\"2130\"}},\"id\":\"2129\",\"type\":\"GlyphRenderer\"},{\"attributes\":{\"fill_alpha\":{\"value\":0.2},\"fill_color\":{\"value\":\"#1f77b3\"},\"line_alpha\":{\"value\":0.2},\"line_color\":{\"value\":\"#1f77b3\"},\"size\":{\"units\":\"screen\",\"value\":5.477225575051661},\"x\":{\"field\":\"TotalCoinsMined\"},\"y\":{\"field\":\"TotalCoinSupply\"}},\"id\":\"2110\",\"type\":\"Scatter\"},{\"attributes\":{\"fill_alpha\":{\"value\":0.1},\"fill_color\":{\"value\":\"#2ba02b\"},\"line_alpha\":{\"value\":0.1},\"line_color\":{\"value\":\"#2ba02b\"},\"size\":{\"units\":\"screen\",\"value\":5.477225575051661},\"x\":{\"field\":\"TotalCoinsMined\"},\"y\":{\"field\":\"TotalCoinSupply\"}},\"id\":\"2146\",\"type\":\"Scatter\"},{\"attributes\":{\"axis\":{\"id\":\"2084\"},\"dimension\":1,\"grid_line_color\":null,\"ticker\":null},\"id\":\"2087\",\"type\":\"Grid\"},{\"attributes\":{},\"id\":\"2104\",\"type\":\"BasicTickFormatter\"},{\"attributes\":{\"margin\":[5,5,5,5],\"name\":\"HSpacer03535\",\"sizing_mode\":\"stretch_width\"},\"id\":\"2312\",\"type\":\"Spacer\"},{\"attributes\":{},\"id\":\"2102\",\"type\":\"BasicTickFormatter\"},{\"attributes\":{\"fill_alpha\":{\"value\":0.2},\"fill_color\":{\"value\":\"#2ba02b\"},\"line_alpha\":{\"value\":0.2},\"line_color\":{\"value\":\"#2ba02b\"},\"size\":{\"units\":\"screen\",\"value\":5.477225575051661},\"x\":{\"field\":\"TotalCoinsMined\"},\"y\":{\"field\":\"TotalCoinSupply\"}},\"id\":\"2147\",\"type\":\"Scatter\"},{\"attributes\":{\"fill_color\":{\"value\":\"#d62628\"},\"line_color\":{\"value\":\"#d62628\"},\"size\":{\"units\":\"screen\",\"value\":5.477225575051661},\"x\":{\"field\":\"TotalCoinsMined\"},\"y\":{\"field\":\"TotalCoinSupply\"}},\"id\":\"2166\",\"type\":\"Scatter\"},{\"attributes\":{\"bottom_units\":\"screen\",\"fill_alpha\":0.5,\"fill_color\":\"lightgrey\",\"left_units\":\"screen\",\"level\":\"overlay\",\"line_alpha\":1.0,\"line_color\":\"black\",\"line_dash\":[4,4],\"line_width\":2,\"right_units\":\"screen\",\"top_units\":\"screen\"},\"id\":\"2093\",\"type\":\"BoxAnnotation\"},{\"attributes\":{\"label\":{\"value\":\"2\"},\"renderers\":[{\"id\":\"2148\"}]},\"id\":\"2162\",\"type\":\"LegendItem\"},{\"attributes\":{\"source\":{\"id\":\"2105\"}},\"id\":\"2112\",\"type\":\"CDSView\"},{\"attributes\":{\"click_policy\":\"mute\",\"items\":[{\"id\":\"2122\"},{\"id\":\"2141\"},{\"id\":\"2162\"},{\"id\":\"2185\"}],\"location\":[0,0],\"title\":\"Class\"},\"id\":\"2121\",\"type\":\"Legend\"},{\"attributes\":{\"callback\":null,\"renderers\":[{\"id\":\"2111\"},{\"id\":\"2129\"},{\"id\":\"2148\"},{\"id\":\"2169\"}],\"tags\":[\"hv_created\"],\"tooltips\":[[\"Class\",\"@{Class}\"],[\"TotalCoinsMined\",\"@{TotalCoinsMined}\"],[\"TotalCoinSupply\",\"@{TotalCoinSupply}\"]]},\"id\":\"2067\",\"type\":\"HoverTool\"},{\"attributes\":{\"data\":{\"Class\":[0,0,0,0,0,0,0,0,0,0,0,0,0,0,0,0,0,0,0,0,0,0,0,0,0,0,0,0,0,0,0,0,0,0,0,0,0,0,0,0,0,0,0,0,0,0,0,0,0,0,0,0,0,0,0,0,0,0,0,0,0,0,0,0,0,0,0,0,0,0,0,0,0,0,0,0,0,0,0,0,0,0,0,0,0,0,0,0,0,0,0,0,0,0,0,0,0,0,0,0,0,0,0,0,0,0,0,0,0,0,0,0,0,0,0,0,0,0,0,0,0,0,0,0,0,0,0,0,0,0,0,0,0,0,0,0,0,0,0,0,0,0,0,0,0,0,0,0,0,0,0,0,0,0,0,0,0,0,0,0,0,0,0,0,0,0,0,0,0,0,0,0,0,0,0,0,0,0,0,0,0,0,0,0,0,0,0,0,0,0,0,0,0,0,0,0,0,0,0,0,0,0,0,0,0,0,0,0,0,0,0,0,0,0,0,0,0,0,0,0,0,0,0,0,0,0,0,0,0,0,0,0,0,0,0,0,0,0,0,0,0,0,0,0,0,0,0,0,0,0,0,0,0,0,0,0,0,0,0,0,0,0,0,0,0,0,0,0,0,0,0,0,0,0,0,0,0,0,0,0,0,0,0,0,0,0,0],\"TotalCoinSupply\":{\"__ndarray__\":\"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\",\"dtype\":\"float64\",\"order\":\"little\",\"shape\":[287]},\"TotalCoinsMined\":{\"__ndarray__\":\"AAAAAAAAAADVQ6eRhXZRP0gFXx0LSZ4/fb2YAaYh4z6ruJV6oa9mP4fxacJq17U+W7PlNwxp6T7W0pn52A37PoFADD9SNfM+Y2BMhDkIRT+TanQDD0sgP35ukl9tEWc+7S9W9+ubsT49x1z95a+kP28YHhABAMw+ye+KsSkQ2D75DhvNkpI+P1ecpQYuoxc/Ypyz9GrHWz/8kyPDCLLyPpO8/kFBRRA/0/9nDoYGlj/8i/ixXrVaP7x4IiUyI/E+jquxX+B/ET9yUL0Vow3wPvxfgvURSss+cvkNgl17LT+LzHsEg5UTPwaytCCdUp4/8DiBm6/aCj9doxA1Q7ITPkOS6FanQBU/dL+NX1fZWj+VBQyzwkO4PlcDUAL0L1I/fTIxK6KaCj/k5byfQfUAPxuOVInTct0++0V+YL96Gj9FarAorYYBPzHwJWnxlyM/L/f3qVABXj+Tp6kxyxkLP8ZkQxXrtwQ/ibYLlr8rDD876RpKEMv8PqXMCj0KI8E+Y9QbIWkfJz/NWTdK5t+4PhEtw1ouEd4+SuSuQabKxj5dOKHlN5XoPj9ykiLfprk+IXp/RSnbED9yRrm5bCbiPvbV3K8TUJY++0V+YL96Gj+usZO2/Wf4PjQmLIvTzQY/1efNMZmp7D5956xI8fTlPuaDOXY0GM8+uMNU6Ym/hj8I144k4rrVPosWSaGt1IQ/AkyV+P4P4z7jP4drq28FPz0UggjXC+Y+7L0e6OUeoz9rTh5jVovSPvn/Em4kxWE/kQBSK/0u9T7ujyYFktAhP3lc7dd7QrQ+QPXFzhym8T4+Nd5F5BgWP9J6jnO41Pk+ObDN1M5vBD+HQ9Dqr+lKP3YCdaw0LdM++0V+YL96Gj/CsEps9C7VPlS9UGUMv0U/pqRxDiJ88D7oqXRGKNwGP54PeOINLqQ+9FiPodBJpj5CAX3zt+DFPsR5KJfqb8A+T/4f/1R0Jj9wy+L1hwRGP4Iw9VQZQJQ/QFxHa5CaEz9q4x6W3sABP+WnRel4hTE//jSGyJGwIz9a3dieLS/FPvtFfmC/eho/0CaSSobf8j7pm9ie0ehRP4yfDBK/phw/2bdahaRt8z5pi0xWDNe3PzoFWd5FU9A+qVTopb56Cj8Kl7V81RnyPnWw/lSIwcQ+kQBSK/0u9T4WN5ZE6rbZPjz585B5Teo+mJbD7Cdx9T4t+OpgFAQUP+s1WKcNeec+4Jew0N0e5z5bwhuTX5yrPv5ylEtMv+E+qgjVT8Z8oT9eSCgLgW3NPrZMGtKEGMw+gWG4BsRH5j7bwMkrHwIAP/7gqRozYvk+ycQ2iXpnxT4Swqe2z/nXPmWo1pTmCuk+NMilXEnjlD75z9m7pMPIPrZ+M2OfIB0/oIVe/s3E7j56Q0MFuIxQP8DjwNiFFwM/YYjc8CLi6z6/xleSd8/pPjWSA+NaSx0/RxRsP55tHT8TzIbUfsv2PvWgsIfWkjo/vX+hfbIbID9qIh3CGb/WPtzbifm0dbM+ClzCLAnyoD4HdZcEvp8aP4T+AFYCMPI+MqZkmp+JMz9Wk1ir5SDoPkAjePZqn/Y+EiXgvSYHpT8A2wc5DOnlPvtFfmC/eho/PAT7udKVlz/kKuRSPKzRPvzVMe6uqhA/LSuoRvfT3D741RgF1Yb2PjQa6ZQatoI/cEzD1ck29z5MptGTM5ccP71RNfoAEQk/AfIJ6Umg6j450UXAisTzPs2g4AcRrqw/mO9bzlry0D6EUc3xJbL0PqB8WFRGy9E+B3K8ML16+j57/PtlW9GaP8LmK5XBxN4+Bh/umUwuKD8wD8hOyFSzPrzBQMmWa/k+rp7aV+kPqT9CUqMh5F8YP74vR7jljUI/McZWDzOY4T6jQtQrAzfCPh9wp4i2QwA/xDTgUPke6j4Qs5xlsVTxPkgxPBFPnoI/fiLM5MQ6BD+6ihEDPBIzP7lLXILzX50/Y7qCwqdMKD/hujF22WIdP2qlizrsD+w+yIlPZ4v18T5woSpeKVJ0P4cZ6sLR1eE+fhwrH33sBz9y9oQbTOr8Pnc7MYj+j0M/CEcxCKQ4xT7hpgdtD6zSPrzcymHip/U+bnHiGX5ruz5EiFexPenjPhFgttbRFy8/7udFeLF9Lj/nOkeZlNXnPrvl+hZcXsI+vca2dTVrnD7QEgJQTBX7PhibEdXsikU/2hcymSE17T7w5ZzyEKmsPnSoVAx5CLQ+uGecINyxMT/aDqH1hMTkPudS3lPTK/c+kN9ciizu5D6aEdS4Bt20PlUpjj1MgCI/om+TfxZ25z7Dc6nzUKjSPkY1wU0FPVc/khOeM70Z5z6gJAmaq38EPy7wHhTRGYU/9Mfa+rkp4D4qKRjnQpoBP7ykOGGm4PY+cjI/RMYJAD98JpgkCCO0PyvK//sHBMc+Nkl3o7idDj/AqyC6i0XzPoY/nsDYjQM/NenvfYQB3j6sMcXCOxTZPkaEeyF8qLE+Oa21oUE+7D6HoWrpn30RP30oAUPr5NY+Vm0Mo+po9D6Kjxo7yksAP5v6hHEKiRw/xGg1vBTC4z7uib9lw8vTPoubEauvFdM+7G1cOLqKUT96Q0MFuIxQP4+k9xWTwdw+5OuiMmKbKz+rIOPFGc2RP8i3xbVxswI/I2lavtdN7z7k92z1i1jzPgfZcP2pZMA+iirv8H3inz/i1s0RRUGoPkBWWhkuw/U+omxXO8JWKj8jMEysQqtNPyjBbHovVfA+C5KNNNcu+T56Q0MFuIxQP2D1pTy6sI8/zCNKYd8OMD+tHcn0sfjNPmOsZctQy/U+f2HIS8yb0j5kYzQw+mbkPiQYZ3/U4jw/nNMshRY7UD+cQ8suWY6SP4nBtdPqW0A/H8ZSq37GDz84uK+F5sM6P2MAAb39qCo/GCSU+ENwGz9L9hxTejDQPsPpRhaz5vE+mJIs6RnGEz8y4x8SUscfP/Gwxj8HsIQ/XKH50rSuMD+k9GATf/yyPqtJN1OLFIM+RW+UnMLjUD8RwmraN5NSP3pDQwW4jFA/s0VJGDmq4z56Q0MFuIxQPwcccQq4jGA/OcIUhBWh7z5CDuXNaWSBPg==\",\"dtype\":\"float64\",\"order\":\"little\",\"shape\":[287]}},\"selected\":{\"id\":\"2106\"},\"selection_policy\":{\"id\":\"2120\"}},\"id\":\"2105\",\"type\":\"ColumnDataSource\"},{\"attributes\":{\"end\":1.042857142857143,\"reset_end\":1.042857142857143,\"reset_start\":-0.04285714285714286,\"start\":-0.04285714285714286,\"tags\":[[[\"TotalCoinsMined\",\"TotalCoinsMined\",null]]]},\"id\":\"2065\",\"type\":\"Range1d\"},{\"attributes\":{\"data_source\":{\"id\":\"2142\"},\"glyph\":{\"id\":\"2145\"},\"hover_glyph\":null,\"muted_glyph\":{\"id\":\"2147\"},\"nonselection_glyph\":{\"id\":\"2146\"},\"selection_glyph\":null,\"view\":{\"id\":\"2149\"}},\"id\":\"2148\",\"type\":\"GlyphRenderer\"},{\"attributes\":{\"data\":{\"Class\":[1,1,1,1,1,1,1,1,1,1,1,1,1,1,1,1,1,1,1,1,1,1,1,1,1,1,1,1,1,1,1,1,1,1,1,1,1,1,1,1,1,1,1,1,1,1,1,1,1,1,1,1,1,1,1,1,1,1,1,1,1,1,1,1,1,1,1,1,1,1,1,1,1,1,1,1,1,1,1,1,1,1,1,1,1,1,1,1,1,1,1,1,1,1,1,1,1,1,1,1,1,1,1,1,1,1,1,1,1,1,1,1,1,1,1,1,1,1,1,1,1,1,1,1,1,1,1,1,1,1,1,1,1,1,1,1,1,1,1,1,1,1,1,1,1,1,1,1,1,1,1,1,1,1,1,1,1,1,1,1,1,1,1,1,1,1,1,1,1,1,1,1,1,1,1,1,1,1,1,1,1,1,1,1,1,1,1,1,1,1,1,1,1,1,1,1,1,1,1,1,1,1,1,1,1,1,1,1,1,1,1,1,1,1,1,1,1,1,1,1,1,1,1,1,1,1,1,1,1,1,1,1,1,1,1,1,1,1,1],\"TotalCoinSupply\":{\"__ndarray__\":\"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\",\"dtype\":\"float64\",\"order\":\"little\",\"shape\":[239]},\"TotalCoinsMined\":{\"__ndarray__\":\"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\",\"dtype\":\"float64\",\"order\":\"little\",\"shape\":[239]}},\"selected\":{\"id\":\"2124\"},\"selection_policy\":{\"id\":\"2140\"}},\"id\":\"2123\",\"type\":\"ColumnDataSource\"},{\"attributes\":{\"fill_alpha\":{\"value\":0.2},\"fill_color\":{\"value\":\"#ff7e0e\"},\"line_alpha\":{\"value\":0.2},\"line_color\":{\"value\":\"#ff7e0e\"},\"size\":{\"units\":\"screen\",\"value\":5.477225575051661},\"x\":{\"field\":\"TotalCoinsMined\"},\"y\":{\"field\":\"TotalCoinSupply\"}},\"id\":\"2128\",\"type\":\"Scatter\"},{\"attributes\":{\"active_drag\":\"auto\",\"active_inspect\":\"auto\",\"active_multi\":null,\"active_scroll\":\"auto\",\"active_tap\":\"auto\",\"tools\":[{\"id\":\"2067\"},{\"id\":\"2088\"},{\"id\":\"2089\"},{\"id\":\"2090\"},{\"id\":\"2091\"},{\"id\":\"2092\"}]},\"id\":\"2094\",\"type\":\"Toolbar\"},{\"attributes\":{\"fill_color\":{\"value\":\"#ff7e0e\"},\"line_color\":{\"value\":\"#ff7e0e\"},\"size\":{\"units\":\"screen\",\"value\":5.477225575051661},\"x\":{\"field\":\"TotalCoinsMined\"},\"y\":{\"field\":\"TotalCoinSupply\"}},\"id\":\"2126\",\"type\":\"Scatter\"},{\"attributes\":{\"source\":{\"id\":\"2142\"}},\"id\":\"2149\",\"type\":\"CDSView\"},{\"attributes\":{},\"id\":\"2088\",\"type\":\"SaveTool\"},{\"attributes\":{\"source\":{\"id\":\"2123\"}},\"id\":\"2130\",\"type\":\"CDSView\"},{\"attributes\":{\"fill_alpha\":{\"value\":0.1},\"fill_color\":{\"value\":\"#ff7e0e\"},\"line_alpha\":{\"value\":0.1},\"line_color\":{\"value\":\"#ff7e0e\"},\"size\":{\"units\":\"screen\",\"value\":5.477225575051661},\"x\":{\"field\":\"TotalCoinsMined\"},\"y\":{\"field\":\"TotalCoinSupply\"}},\"id\":\"2127\",\"type\":\"Scatter\"},{\"attributes\":{},\"id\":\"2161\",\"type\":\"UnionRenderers\"},{\"attributes\":{\"end\":1.1,\"reset_end\":1.1,\"reset_start\":-0.1,\"start\":-0.1,\"tags\":[[[\"TotalCoinSupply\",\"TotalCoinSupply\",null]]]},\"id\":\"2066\",\"type\":\"Range1d\"},{\"attributes\":{\"children\":[{\"id\":\"2064\"},{\"id\":\"2071\"},{\"id\":\"2312\"}],\"margin\":[0,0,0,0],\"name\":\"Row03530\",\"tags\":[\"embedded\"]},\"id\":\"2063\",\"type\":\"Row\"},{\"attributes\":{},\"id\":\"2076\",\"type\":\"LinearScale\"},{\"attributes\":{},\"id\":\"2089\",\"type\":\"PanTool\"},{\"attributes\":{\"fill_alpha\":{\"value\":0.1},\"fill_color\":{\"value\":\"#d62628\"},\"line_alpha\":{\"value\":0.1},\"line_color\":{\"value\":\"#d62628\"},\"size\":{\"units\":\"screen\",\"value\":5.477225575051661},\"x\":{\"field\":\"TotalCoinsMined\"},\"y\":{\"field\":\"TotalCoinSupply\"}},\"id\":\"2167\",\"type\":\"Scatter\"},{\"attributes\":{},\"id\":\"2164\",\"type\":\"Selection\"},{\"attributes\":{},\"id\":\"2090\",\"type\":\"WheelZoomTool\"},{\"attributes\":{\"label\":{\"value\":\"3\"},\"renderers\":[{\"id\":\"2169\"}]},\"id\":\"2185\",\"type\":\"LegendItem\"},{\"attributes\":{\"margin\":[5,5,5,5],\"name\":\"HSpacer03534\",\"sizing_mode\":\"stretch_width\"},\"id\":\"2064\",\"type\":\"Spacer\"},{\"attributes\":{},\"id\":\"2081\",\"type\":\"BasicTicker\"},{\"attributes\":{\"label\":{\"value\":\"1\"},\"renderers\":[{\"id\":\"2129\"}]},\"id\":\"2141\",\"type\":\"LegendItem\"},{\"attributes\":{\"fill_alpha\":{\"value\":0.2},\"fill_color\":{\"value\":\"#d62628\"},\"line_alpha\":{\"value\":0.2},\"line_color\":{\"value\":\"#d62628\"},\"size\":{\"units\":\"screen\",\"value\":5.477225575051661},\"x\":{\"field\":\"TotalCoinsMined\"},\"y\":{\"field\":\"TotalCoinSupply\"}},\"id\":\"2168\",\"type\":\"Scatter\"},{\"attributes\":{\"data_source\":{\"id\":\"2163\"},\"glyph\":{\"id\":\"2166\"},\"hover_glyph\":null,\"muted_glyph\":{\"id\":\"2168\"},\"nonselection_glyph\":{\"id\":\"2167\"},\"selection_glyph\":null,\"view\":{\"id\":\"2170\"}},\"id\":\"2169\",\"type\":\"GlyphRenderer\"},{\"attributes\":{},\"id\":\"2140\",\"type\":\"UnionRenderers\"},{\"attributes\":{\"below\":[{\"id\":\"2080\"}],\"center\":[{\"id\":\"2083\"},{\"id\":\"2087\"}],\"left\":[{\"id\":\"2084\"}],\"margin\":[5,5,5,5],\"min_border_bottom\":10,\"min_border_left\":10,\"min_border_right\":10,\"min_border_top\":10,\"plot_height\":300,\"plot_width\":700,\"renderers\":[{\"id\":\"2111\"},{\"id\":\"2129\"},{\"id\":\"2148\"},{\"id\":\"2169\"}],\"right\":[{\"id\":\"2121\"}],\"sizing_mode\":\"fixed\",\"title\":{\"id\":\"2072\"},\"toolbar\":{\"id\":\"2094\"},\"x_range\":{\"id\":\"2065\"},\"x_scale\":{\"id\":\"2076\"},\"y_range\":{\"id\":\"2066\"},\"y_scale\":{\"id\":\"2078\"}},\"id\":\"2071\",\"subtype\":\"Figure\",\"type\":\"Plot\"},{\"attributes\":{\"label\":{\"value\":\"0\"},\"renderers\":[{\"id\":\"2111\"}]},\"id\":\"2122\",\"type\":\"LegendItem\"},{\"attributes\":{},\"id\":\"2124\",\"type\":\"Selection\"},{\"attributes\":{},\"id\":\"2092\",\"type\":\"ResetTool\"},{\"attributes\":{},\"id\":\"2078\",\"type\":\"LinearScale\"},{\"attributes\":{\"fill_alpha\":{\"value\":0.1},\"fill_color\":{\"value\":\"#1f77b3\"},\"line_alpha\":{\"value\":0.1},\"line_color\":{\"value\":\"#1f77b3\"},\"size\":{\"units\":\"screen\",\"value\":5.477225575051661},\"x\":{\"field\":\"TotalCoinsMined\"},\"y\":{\"field\":\"TotalCoinSupply\"}},\"id\":\"2109\",\"type\":\"Scatter\"},{\"attributes\":{},\"id\":\"2184\",\"type\":\"UnionRenderers\"},{\"attributes\":{\"axis_label\":\"TotalCoinsMined\",\"bounds\":\"auto\",\"formatter\":{\"id\":\"2102\"},\"major_label_orientation\":\"horizontal\",\"ticker\":{\"id\":\"2081\"}},\"id\":\"2080\",\"type\":\"LinearAxis\"},{\"attributes\":{\"fill_color\":{\"value\":\"#2ba02b\"},\"line_color\":{\"value\":\"#2ba02b\"},\"size\":{\"units\":\"screen\",\"value\":5.477225575051661},\"x\":{\"field\":\"TotalCoinsMined\"},\"y\":{\"field\":\"TotalCoinSupply\"}},\"id\":\"2145\",\"type\":\"Scatter\"},{\"attributes\":{},\"id\":\"2106\",\"type\":\"Selection\"},{\"attributes\":{\"data_source\":{\"id\":\"2105\"},\"glyph\":{\"id\":\"2108\"},\"hover_glyph\":null,\"muted_glyph\":{\"id\":\"2110\"},\"nonselection_glyph\":{\"id\":\"2109\"},\"selection_glyph\":null,\"view\":{\"id\":\"2112\"}},\"id\":\"2111\",\"type\":\"GlyphRenderer\"},{\"attributes\":{\"data\":{\"Class\":[2],\"TotalCoinSupply\":{\"__ndarray__\":\"rkfhehSu7z8=\",\"dtype\":\"float64\",\"order\":\"little\",\"shape\":[1]},\"TotalCoinsMined\":{\"__ndarray__\":\"AAAAAAAA8D8=\",\"dtype\":\"float64\",\"order\":\"little\",\"shape\":[1]}},\"selected\":{\"id\":\"2143\"},\"selection_policy\":{\"id\":\"2161\"}},\"id\":\"2142\",\"type\":\"ColumnDataSource\"},{\"attributes\":{\"text\":\"\",\"text_color\":{\"value\":\"black\"},\"text_font_size\":{\"value\":\"12pt\"}},\"id\":\"2072\",\"type\":\"Title\"},{\"attributes\":{\"data\":{\"Class\":[3,3,3,3,3],\"TotalCoinSupply\":{\"__ndarray__\":\"lPYGX5hMdT+8eapDboZLP4RaKOGWizA//Knx0k1iUD8sQxzr4jYaPw==\",\"dtype\":\"float64\",\"order\":\"little\",\"shape\":[5]},\"TotalCoinsMined\":{\"__ndarray__\":\"j1gNkdpTXT+QpMXySiFFP5wZJXiPEis/ekNDBbiMUD/7RX5gv3oaPw==\",\"dtype\":\"float64\",\"order\":\"little\",\"shape\":[5]}},\"selected\":{\"id\":\"2164\"},\"selection_policy\":{\"id\":\"2184\"}},\"id\":\"2163\",\"type\":\"ColumnDataSource\"},{\"attributes\":{\"axis_label\":\"TotalCoinSupply\",\"bounds\":\"auto\",\"formatter\":{\"id\":\"2104\"},\"major_label_orientation\":\"horizontal\",\"ticker\":{\"id\":\"2085\"}},\"id\":\"2084\",\"type\":\"LinearAxis\"},{\"attributes\":{\"overlay\":{\"id\":\"2093\"}},\"id\":\"2091\",\"type\":\"BoxZoomTool\"},{\"attributes\":{\"fill_color\":{\"value\":\"#1f77b3\"},\"line_color\":{\"value\":\"#1f77b3\"},\"size\":{\"units\":\"screen\",\"value\":5.477225575051661},\"x\":{\"field\":\"TotalCoinsMined\"},\"y\":{\"field\":\"TotalCoinSupply\"}},\"id\":\"2108\",\"type\":\"Scatter\"},{\"attributes\":{\"source\":{\"id\":\"2163\"}},\"id\":\"2170\",\"type\":\"CDSView\"},{\"attributes\":{},\"id\":\"2120\",\"type\":\"UnionRenderers\"},{\"attributes\":{},\"id\":\"2143\",\"type\":\"Selection\"},{\"attributes\":{\"axis\":{\"id\":\"2080\"},\"grid_line_color\":null,\"ticker\":null},\"id\":\"2083\",\"type\":\"Grid\"},{\"attributes\":{},\"id\":\"2085\",\"type\":\"BasicTicker\"}],\"root_ids\":[\"2063\"]},\"title\":\"Bokeh Application\",\"version\":\"2.2.3\"}};\n",
       "    var render_items = [{\"docid\":\"63673b51-d1a8-46e7-973e-d2698426729a\",\"root_ids\":[\"2063\"],\"roots\":{\"2063\":\"859e465d-3fab-4323-8ba0-a830569f5090\"}}];\n",
       "    root.Bokeh.embed.embed_items_notebook(docs_json, render_items);\n",
       "  }\n",
       "  if (root.Bokeh !== undefined && root.Bokeh.Panel !== undefined) {\n",
       "    embed_document(root);\n",
       "  } else {\n",
       "    var attempts = 0;\n",
       "    var timer = setInterval(function(root) {\n",
       "      if (root.Bokeh !== undefined && root.Bokeh.Panel !== undefined) {\n",
       "        clearInterval(timer);\n",
       "        embed_document(root);\n",
       "      } else if (document.readyState == \"complete\") {\n",
       "        attempts++;\n",
       "        if (attempts > 100) {\n",
       "          clearInterval(timer);\n",
       "          console.log(\"Bokeh: ERROR: Unable to run BokehJS code because BokehJS library is missing\");\n",
       "        }\n",
       "      }\n",
       "    }, 10, root)\n",
       "  }\n",
       "})(window);</script>"
      ],
      "text/plain": [
       ":NdOverlay   [Class]\n",
       "   :Scatter   [TotalCoinsMined]   (TotalCoinSupply)"
      ]
     },
     "execution_count": 488,
     "metadata": {
      "application/vnd.holoviews_exec.v0+json": {
       "id": "2063"
      }
     },
     "output_type": "execute_result"
    }
   ],
   "source": [
    "# Create a hvplot.scatter plot using x=\"TotalCoinsMined\" and y=\"TotalCoinSupply\".\n",
    "# YOUR CODE HERE\n",
    "plot_df.hvplot.scatter(x=\"TotalCoinsMined\", y=\"TotalCoinSupply\", by=\"Class\")"
   ]
  },
  {
   "cell_type": "code",
   "execution_count": null,
   "metadata": {},
   "outputs": [],
   "source": []
  }
 ],
 "metadata": {
  "file_extension": ".py",
  "kernelspec": {
   "display_name": "PythonData",
   "language": "python",
   "name": "pythondata"
  },
  "language_info": {
   "codemirror_mode": {
    "name": "ipython",
    "version": 3
   },
   "file_extension": ".py",
   "mimetype": "text/x-python",
   "name": "python",
   "nbconvert_exporter": "python",
   "pygments_lexer": "ipython3",
   "version": "3.7.7"
  },
  "latex_envs": {
   "LaTeX_envs_menu_present": true,
   "autoclose": false,
   "autocomplete": true,
   "bibliofile": "biblio.bib",
   "cite_by": "apalike",
   "current_citInitial": 1,
   "eqLabelWithNumbers": true,
   "eqNumInitial": 1,
   "hotkeys": {
    "equation": "Ctrl-E",
    "itemize": "Ctrl-I"
   },
   "labels_anchors": false,
   "latex_user_defs": false,
   "report_style_numbering": false,
   "user_envs_cfg": false
  },
  "mimetype": "text/x-python",
  "name": "python",
  "npconvert_exporter": "python",
  "pygments_lexer": "ipython3",
  "version": 3
 },
 "nbformat": 4,
 "nbformat_minor": 2
}
